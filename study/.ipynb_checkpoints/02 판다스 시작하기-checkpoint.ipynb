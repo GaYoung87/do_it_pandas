{
 "cells": [
  {
   "cell_type": "markdown",
   "metadata": {},
   "source": [
    "## 1. 데이터 집합 불러오기"
   ]
  },
  {
   "cell_type": "code",
   "execution_count": 10,
   "metadata": {},
   "outputs": [],
   "source": [
    "import pandas as pd"
   ]
  },
  {
   "cell_type": "code",
   "execution_count": 13,
   "metadata": {},
   "outputs": [],
   "source": [
    "# 갭마인더 데이터 집합 불러올 때, read_csv + sep=''\\t'\n",
    "df = pd.read_csv('../data/gapminder.tsv', sep='\\t')"
   ]
  },
  {
   "cell_type": "code",
   "execution_count": 14,
   "metadata": {},
   "outputs": [
    {
     "name": "stdout",
     "output_type": "stream",
     "text": [
      "< df >\n",
      "       country continent  year  lifeExp       pop   gdpPercap\n",
      "0  Afghanistan      Asia  1952   28.801   8425333  779.445314\n",
      "1  Afghanistan      Asia  1957   30.332   9240934  820.853030\n",
      "2  Afghanistan      Asia  1962   31.997  10267083  853.100710\n",
      "3  Afghanistan      Asia  1967   34.020  11537966  836.197138\n",
      "4  Afghanistan      Asia  1972   36.088  13079460  739.981106\n",
      "-------------------------------------------------------------\n",
      "< df_type >\n",
      "<class 'pandas.core.frame.DataFrame'>\n",
      "-------------------------------------------------------------\n",
      "< df_shape >\n",
      "(1704, 6)\n",
      "-------------------------------------------------------------\n",
      "< df_column >\n",
      "Index(['country', 'continent', 'year', 'lifeExp', 'pop', 'gdpPercap'], dtype='object')\n",
      "-------------------------------------------------------------\n",
      "< df_dtypes >\n",
      "country       object\n",
      "continent     object\n",
      "year           int64\n",
      "lifeExp      float64\n",
      "pop            int64\n",
      "gdpPercap    float64\n",
      "dtype: object\n",
      "-------------------------------------------------------------\n",
      "< df_info >\n",
      "<class 'pandas.core.frame.DataFrame'>\n",
      "RangeIndex: 1704 entries, 0 to 1703\n",
      "Data columns (total 6 columns):\n",
      "country      1704 non-null object\n",
      "continent    1704 non-null object\n",
      "year         1704 non-null int64\n",
      "lifeExp      1704 non-null float64\n",
      "pop          1704 non-null int64\n",
      "gdpPercap    1704 non-null float64\n",
      "dtypes: float64(2), int64(2), object(2)\n",
      "memory usage: 80.0+ KB\n",
      "None\n",
      "-------------------------------------------------------------\n"
     ]
    }
   ],
   "source": [
    "print('< df >')\n",
    "print(df.head())      # 메서드\n",
    "print('-------------------------------------------------------------')\n",
    "print('< df_type >')\n",
    "print(type(df))       # 내장 메서드\n",
    "print('-------------------------------------------------------------')\n",
    "print('< df_shape >')\n",
    "print(df.shape)       # 속성값 (행,열크기)\n",
    "print('-------------------------------------------------------------')\n",
    "print('< df_column >')\n",
    "print(df.columns)     # 속성값 (열 이름)\n",
    "print('-------------------------------------------------------------')\n",
    "print('< df_dtypes >')\n",
    "print(df.dtypes)     # 속성값 (열 마다의 type)\n",
    "print('-------------------------------------------------------------')\n",
    "print('< df_info >')\n",
    "print(df.info())     # 속성값 (type + dtypes)\n",
    "print('-------------------------------------------------------------')"
   ]
  },
  {
   "cell_type": "markdown",
   "metadata": {},
   "source": [
    "## 2. 데이터 추출하기"
   ]
  },
  {
   "cell_type": "markdown",
   "metadata": {},
   "source": [
    "### 2-1. 열단위"
   ]
  },
  {
   "cell_type": "code",
   "execution_count": 15,
   "metadata": {},
   "outputs": [
    {
     "name": "stdout",
     "output_type": "stream",
     "text": [
      "country_df_type\n",
      "<class 'pandas.core.series.Series'>\n",
      "-------------------------------------------------------------\n",
      "country_df_head\n",
      "0    Afghanistan\n",
      "1    Afghanistan\n",
      "2    Afghanistan\n",
      "3    Afghanistan\n",
      "4    Afghanistan\n",
      "Name: country, dtype: object\n",
      "-------------------------------------------------------------\n",
      "country_df_tail\n",
      "1699    Zimbabwe\n",
      "1700    Zimbabwe\n",
      "1701    Zimbabwe\n",
      "1702    Zimbabwe\n",
      "1703    Zimbabwe\n",
      "Name: country, dtype: object\n",
      "-------------------------------------------------------------\n"
     ]
    }
   ],
   "source": [
    "# 1개의 열만 추출 = 시리즈\n",
    "country_df = df['country']\n",
    "\n",
    "print('country_df_type')\n",
    "print(type(country_df))\n",
    "print('-------------------------------------------------------------')\n",
    "print('country_df_head')\n",
    "print(country_df.head())\n",
    "print('-------------------------------------------------------------')\n",
    "print('country_df_tail')\n",
    "print(country_df.tail())\n",
    "print('-------------------------------------------------------------')"
   ]
  },
  {
   "cell_type": "code",
   "execution_count": 16,
   "metadata": {},
   "outputs": [
    {
     "name": "stdout",
     "output_type": "stream",
     "text": [
      "subset_type\n",
      "<class 'pandas.core.frame.DataFrame'>\n",
      "-------------------------------------------------------------\n",
      "subset_head\n",
      "       country continent  year\n",
      "0  Afghanistan      Asia  1952\n",
      "1  Afghanistan      Asia  1957\n",
      "2  Afghanistan      Asia  1962\n",
      "3  Afghanistan      Asia  1967\n",
      "4  Afghanistan      Asia  1972\n",
      "-------------------------------------------------------------\n",
      "subset_tail\n",
      "       country continent  year\n",
      "1699  Zimbabwe    Africa  1987\n",
      "1700  Zimbabwe    Africa  1992\n",
      "1701  Zimbabwe    Africa  1997\n",
      "1702  Zimbabwe    Africa  2002\n",
      "1703  Zimbabwe    Africa  2007\n",
      "-------------------------------------------------------------\n"
     ]
    }
   ],
   "source": [
    "# 2개 이상의 열 추출 = 데이터 프레임\n",
    "# 리스트에 열이름 전달\n",
    "subset = df[['country', 'continent', 'year']]\n",
    "\n",
    "print('subset_type')\n",
    "print(type(subset))\n",
    "print('-------------------------------------------------------------')\n",
    "print('subset_head')\n",
    "print(subset.head())\n",
    "print('-------------------------------------------------------------')\n",
    "print('subset_tail')\n",
    "print(subset.tail())\n",
    "print('-------------------------------------------------------------')"
   ]
  },
  {
   "cell_type": "markdown",
   "metadata": {},
   "source": [
    "### 2-2. 행단위"
   ]
  },
  {
   "cell_type": "markdown",
   "metadata": {},
   "source": [
    "### 2-2-1. loc(인덱스 기준)"
   ]
  },
  {
   "cell_type": "code",
   "execution_count": 17,
   "metadata": {
    "scrolled": false
   },
   "outputs": [
    {
     "name": "stdout",
     "output_type": "stream",
     "text": [
      "< 0번째 행 데이터 추출 >\n",
      "country      Afghanistan\n",
      "continent           Asia\n",
      "year                1952\n",
      "lifeExp           28.801\n",
      "pop              8425333\n",
      "gdpPercap        779.445\n",
      "Name: 0, dtype: object\n",
      "--------------------------------------------------------------\n",
      "< 99번째 행 데이터 추출 >\n",
      "country      Bangladesh\n",
      "continent          Asia\n",
      "year               1967\n",
      "lifeExp          43.453\n",
      "pop            62821884\n",
      "gdpPercap       721.186\n",
      "Name: 99, dtype: object\n",
      "--------------------------------------------------------------\n",
      "< 마지막번째 행 데이터 추출 by index >\n",
      "country      Zimbabwe\n",
      "continent      Africa\n",
      "year             2007\n",
      "lifeExp        43.487\n",
      "pop          12311143\n",
      "gdpPercap     469.709\n",
      "Name: 1703, dtype: object\n",
      "--------------------------------------------------------------\n",
      "< 마지막번째 행 데이터 추출 by tail >\n",
      "       country continent  year  lifeExp       pop   gdpPercap\n",
      "1703  Zimbabwe    Africa  2007   43.487  12311143  469.709298\n",
      "--------------------------------------------------------------\n",
      "< 밑에 두개 행 데이터 추출 >\n",
      "       country continent  year  lifeExp       pop   gdpPercap\n",
      "1702  Zimbabwe    Africa  2002   39.989  11926563  672.038623\n",
      "1703  Zimbabwe    Africa  2007   43.487  12311143  469.709298\n",
      "--------------------------------------------------------------\n",
      "< 0, 99, 999번째 행 데이터 추출 >\n",
      "         country continent  year  lifeExp       pop    gdpPercap\n",
      "0    Afghanistan      Asia  1952   28.801   8425333   779.445314\n",
      "99    Bangladesh      Asia  1967   43.453  62821884   721.186086\n",
      "999     Mongolia      Asia  1967   51.253   1149500  1226.041130\n",
      "--------------------------------------------------------------\n"
     ]
    }
   ],
   "source": [
    "# 인덱스는 df.head()했을 때, 맨 앞칸에 나오는 숫자\n",
    "# 인덱스는 보통 0부터 시작하지만, 행데이터가 추가,삭제되면 언제든지 변할 수 있음(문자열도 사용가능)\n",
    "# 정수만으로 데이터 조회, 추출할 때만 사용, 실제 데이터프레임에서는 확인 불가\n",
    "\n",
    "print('< 0번째 행 데이터 추출 >')\n",
    "print(df.loc[0])\n",
    "print('--------------------------------------------------------------')\n",
    "print('< 99번째 행 데이터 추출 >')\n",
    "print(df.loc[99])\n",
    "print('--------------------------------------------------------------')\n",
    "\n",
    "# 인덱스에 없는 값 사용 -> error\n",
    "print('-1번째 행 데이터 추출')\n",
    "print(df.loc[-1])\n",
    "print('--------------------------------------------------------------')\n",
    "\n",
    "# loc과 tail이 반환하는 자료형은 서로 다름!\n",
    "# loc : series로 반환 / tail : dataframe으로 반환\n",
    "print('< 마지막번째 행 데이터 추출 by index >')\n",
    "number_of_rows = df.shape[0]\n",
    "last_row_index = number_of_rows - 1\n",
    "print(df.loc[last_row_index])\n",
    "print('--------------------------------------------------------------')\n",
    "print('< 마지막번째 행 데이터 추출 by tail >')\n",
    "print(df.tail(n=1))\n",
    "print('--------------------------------------------------------------')\n",
    "print('< 밑에 두개 행 데이터 추출 >')\n",
    "print(df.tail(n=2))\n",
    "print('--------------------------------------------------------------')\n",
    "print('< 0, 99, 999번째 행 데이터 추출 >')\n",
    "print(df.loc[[0, 99, 999]])\n",
    "print('--------------------------------------------------------------')"
   ]
  },
  {
   "cell_type": "markdown",
   "metadata": {},
   "source": [
    "### 2-2-2. iloc(행번호 기준)"
   ]
  },
  {
   "cell_type": "code",
   "execution_count": 18,
   "metadata": {},
   "outputs": [
    {
     "name": "stdout",
     "output_type": "stream",
     "text": [
      "< 1번째 행 데이터 추출 >\n",
      "country      Afghanistan\n",
      "continent           Asia\n",
      "year                1957\n",
      "lifeExp           30.332\n",
      "pop              9240934\n",
      "gdpPercap        820.853\n",
      "Name: 1, dtype: object\n",
      "--------------------------------------------------------------\n",
      "< 99번째 행 데이터 추출 >\n",
      "country      Bangladesh\n",
      "continent          Asia\n",
      "year               1967\n",
      "lifeExp          43.453\n",
      "pop            62821884\n",
      "gdpPercap       721.186\n",
      "Name: 99, dtype: object\n",
      "--------------------------------------------------------------\n",
      "< -1번째 행 데이터 추출 >\n",
      "country      Zimbabwe\n",
      "continent      Africa\n",
      "year             2007\n",
      "lifeExp        43.487\n",
      "pop          12311143\n",
      "gdpPercap     469.709\n",
      "Name: 1703, dtype: object\n",
      "--------------------------------------------------------------\n",
      "< 0, 99, 999번째 행 데이터 추출 >\n",
      "         country continent  year  lifeExp       pop    gdpPercap\n",
      "0    Afghanistan      Asia  1952   28.801   8425333   779.445314\n",
      "99    Bangladesh      Asia  1967   43.453  62821884   721.186086\n",
      "999     Mongolia      Asia  1967   51.253   1149500  1226.041130\n",
      "--------------------------------------------------------------\n"
     ]
    }
   ],
   "source": [
    "# 우리가 알고있는 인덱스(리스트 자료형에 저장된 데이터의 순서) = 행번호\n",
    "print('< 1번째 행 데이터 추출 >')\n",
    "print(df.loc[1])\n",
    "print('--------------------------------------------------------------')\n",
    "print('< 99번째 행 데이터 추출 >')\n",
    "print(df.loc[99])\n",
    "print('--------------------------------------------------------------')\n",
    "\n",
    "# 음수사용 -> error X\n",
    "print('< -1번째 행 데이터 추출 >')\n",
    "print(df.iloc[-1])\n",
    "print('--------------------------------------------------------------')\n",
    "\n",
    "print('< 0, 99, 999번째 행 데이터 추출 >')\n",
    "print(df.iloc[[0, 99, 999]])\n",
    "print('--------------------------------------------------------------')"
   ]
  },
  {
   "cell_type": "code",
   "execution_count": 20,
   "metadata": {},
   "outputs": [],
   "source": [
    "# loc: 음수(존재하지 않는 인덱스) -> error\n",
    "# iloc: 음수 -> error X"
   ]
  },
  {
   "cell_type": "code",
   "execution_count": 21,
   "metadata": {},
   "outputs": [],
   "source": [
    "# 특정 값 추출 원하면\n",
    "# 방법1. df.loc[[행], [열]]\n",
    "# 방법2. df.iloc[[행], [열]]"
   ]
  },
  {
   "cell_type": "markdown",
   "metadata": {},
   "source": [
    "### 2-2-3. 기타"
   ]
  },
  {
   "cell_type": "code",
   "execution_count": 23,
   "metadata": {},
   "outputs": [
    {
     "name": "stdout",
     "output_type": "stream",
     "text": [
      "< loc사용 슬라이싱 >\n",
      "   year       pop\n",
      "0  1952   8425333\n",
      "1  1957   9240934\n",
      "2  1962  10267083\n",
      "3  1967  11537966\n",
      "4  1972  13079460\n",
      "--------------------------------------------------------------\n",
      "   year       pop   gdpPercap\n",
      "0  1952   8425333  779.445314\n",
      "1  1957   9240934  820.853030\n",
      "2  1962  10267083  853.100710\n",
      "3  1967  11537966  836.197138\n",
      "4  1972  13079460  739.981106\n",
      "--------------------------------------------------------------\n"
     ]
    }
   ],
   "source": [
    "# 슬라이싱 구문 사용\n",
    "print('< loc사용 슬라이싱 >')\n",
    "subset_loc = df.loc[:, ['year', 'pop']]  ####### 열 : 문자열 리스트\n",
    "print(subset_loc.head())\n",
    "print('--------------------------------------------------------------')\n",
    "\n",
    "print('< iloc사용 슬라이싱 >')\n",
    "subset_iloc = df.iloc[:, [2, 4, -1]]     ####### 열 : 정수 리스트\n",
    "print(subset_iloc.head())\n",
    "print('--------------------------------------------------------------')"
   ]
  },
  {
   "cell_type": "code",
   "execution_count": 26,
   "metadata": {},
   "outputs": [
    {
     "name": "stdout",
     "output_type": "stream",
     "text": [
      "< iloc사용 range(1) >\n",
      "       country continent  year  lifeExp       pop\n",
      "0  Afghanistan      Asia  1952   28.801   8425333\n",
      "1  Afghanistan      Asia  1957   30.332   9240934\n",
      "2  Afghanistan      Asia  1962   31.997  10267083\n",
      "3  Afghanistan      Asia  1967   34.020  11537966\n",
      "4  Afghanistan      Asia  1972   36.088  13079460\n",
      "--------------------------------------------------------------\n",
      "< iloc사용 range(2) >\n",
      "       country  year       pop\n",
      "0  Afghanistan  1952   8425333\n",
      "1  Afghanistan  1957   9240934\n",
      "2  Afghanistan  1962  10267083\n",
      "3  Afghanistan  1967  11537966\n",
      "4  Afghanistan  1972  13079460\n",
      "--------------------------------------------------------------\n"
     ]
    }
   ],
   "source": [
    "# range메서드 사용\n",
    "\n",
    "print('< iloc사용 range(1) >')\n",
    "small_range = list(range(5))   # list로 표현하겠다고 나타내야함\n",
    "subset = df.iloc[:, small_range]\n",
    "print(subset.head())\n",
    "print('--------------------------------------------------------------')\n",
    "\n",
    "print('< iloc사용 range(2) >')\n",
    "subset = df.iloc[:, list(range(0, 6, 2))]\n",
    "print(subset.head())\n",
    "print('--------------------------------------------------------------')"
   ]
  },
  {
   "cell_type": "code",
   "execution_count": 28,
   "metadata": {},
   "outputs": [
    {
     "name": "stdout",
     "output_type": "stream",
     "text": [
      "< iloc사용 - 슬라이싱>\n",
      "       country  year       pop\n",
      "0  Afghanistan  1952   8425333\n",
      "1  Afghanistan  1957   9240934\n",
      "2  Afghanistan  1962  10267083\n",
      "3  Afghanistan  1967  11537966\n",
      "4  Afghanistan  1972  13079460\n",
      "--------------------------------------------------------------\n",
      "< iloc사용 - range >\n",
      "       country  year       pop\n",
      "0  Afghanistan  1952   8425333\n",
      "1  Afghanistan  1957   9240934\n",
      "2  Afghanistan  1962  10267083\n",
      "3  Afghanistan  1967  11537966\n",
      "4  Afghanistan  1972  13079460\n",
      "--------------------------------------------------------------\n",
      "< iloc 속성 사용 >\n",
      "         country  lifeExp    gdpPercap\n",
      "0    Afghanistan   28.801   779.445314\n",
      "99    Bangladesh   43.453   721.186086\n",
      "999     Mongolia   51.253  1226.041130\n",
      "--------------------------------------------------------------\n",
      "< loc 속성 사용(1) >\n",
      "         country  lifeExp    gdpPercap\n",
      "0    Afghanistan   28.801   779.445314\n",
      "99    Bangladesh   43.453   721.186086\n",
      "999     Mongolia   51.253  1226.041130\n",
      "--------------------------------------------------------------\n",
      "< loc 속성 사용(2) >\n",
      "        country  lifeExp    gdpPercap\n",
      "10  Afghanistan   42.129   726.734055\n",
      "11  Afghanistan   43.828   974.580338\n",
      "12      Albania   55.230  1601.056136\n",
      "13      Albania   59.280  1942.284244\n",
      "--------------------------------------------------------------\n"
     ]
    }
   ],
   "source": [
    "# 슬라이싱을 range보다 많이 사용(why? 슬라이싱은 제너레이터를 리스트로 변환하지 않아도 됨)\n",
    "\n",
    "print('< iloc사용 - 슬라이싱>')\n",
    "subset = df.iloc[:, 0:6:2]\n",
    "print(subset.head())\n",
    "print('--------------------------------------------------------------')\n",
    "\n",
    "print('< iloc사용 - range >')\n",
    "subset = df.iloc[:, list(range(0, 6, 2))]\n",
    "print(subset.head())\n",
    "print('--------------------------------------------------------------')\n",
    "\n",
    "# iloc 속성 사용 -> 어떤 데이터를 추출한것인지 인지 hard -> loc\n",
    "print('< iloc 속성 사용 >')\n",
    "subset = df.iloc[[0, 99, 999], [0, 3, 5]]\n",
    "print(subset)\n",
    "print('--------------------------------------------------------------')\n",
    "\n",
    "# loc 속성 사용\n",
    "print('< loc 속성 사용(1) >')\n",
    "subset = df.loc[[0, 99, 999], ['country', 'lifeExp', 'gdpPercap']]\n",
    "print(subset)\n",
    "print('--------------------------------------------------------------')\n",
    "print('< loc 속성 사용(2) >')\n",
    "subset = df.loc[10:13, ['country', 'lifeExp', 'gdpPercap']]\n",
    "print(subset)\n",
    "print('--------------------------------------------------------------')"
   ]
  },
  {
   "cell_type": "markdown",
   "metadata": {},
   "source": [
    "## 기초적인 통계 계산하기"
   ]
  },
  {
   "cell_type": "code",
   "execution_count": 35,
   "metadata": {},
   "outputs": [
    {
     "name": "stdout",
     "output_type": "stream",
     "text": [
      "< 연도 별로 그룹화해서 평균 구하기 >\n",
      "year\n",
      "1952    49.057620\n",
      "1957    51.507401\n",
      "1962    53.609249\n",
      "1967    55.678290\n",
      "1972    57.647386\n",
      "1977    59.570157\n",
      "1982    61.533197\n",
      "1987    63.212613\n",
      "1992    64.160338\n",
      "1997    65.014676\n",
      "2002    65.694923\n",
      "2007    67.007423\n",
      "Name: lifeExp, dtype: float64\n",
      "--------------------------------------------------------------\n",
      "< 연도 별로 그룹화해서 평균의 타입 >\n",
      "<class 'pandas.core.groupby.generic.DataFrameGroupBy'>\n",
      "--------------------------------------------------------------\n",
      "< 연도 별로 그룹화의 타입 >\n",
      "<class 'pandas.core.groupby.generic.DataFrameGroupBy'>\n",
      "--------------------------------------------------------------\n",
      "< 연도 별로 그룹화 데이터 위치 >\n",
      "<pandas.core.groupby.generic.DataFrameGroupBy object at 0x00000165460AFF28>\n",
      "--------------------------------------------------------------\n",
      "< year로 그룹화된 데이터프레임에서 lifeExp열 추출 >\n",
      "<pandas.core.groupby.generic.SeriesGroupBy object at 0x00000165460AFF60>\n",
      "--------------------------------------------------------------\n",
      "< year로 그룹화된 데이터프레임에서 lifeExp열 추출 >\n",
      "<pandas.core.groupby.generic.SeriesGroupBy object at 0x00000165489FBA58>\n",
      "--------------------------------------------------------------\n"
     ]
    }
   ],
   "source": [
    "print('< 연도 별로 그룹화해서 평균 구하기 >')\n",
    "group_by_year_mean = df.groupby('year')['lifeExp'].mean()\n",
    "print(group_by_year_mean)\n",
    "print('--------------------------------------------------------------')\n",
    "\n",
    "print('< 연도 별로 그룹화해서 평균의 타입 >')\n",
    "group_by_year_mean_type = type(group_by_year)\n",
    "print(group_by_year_mean_type)   # Series\n",
    "print('--------------------------------------------------------------')\n",
    "\n",
    "print('< 연도 별로 그룹화의 타입 >')\n",
    "group_by_year = df.groupby('year')\n",
    "group_by_year_type = type(group_by_year)\n",
    "print(group_by_year_type)   # DataFrameGroupBy\n",
    "print('--------------------------------------------------------------')\n",
    "\n",
    "print('< 연도 별로 그룹화 데이터 위치 >')\n",
    "group_by_year = df.groupby('year')\n",
    "print(group_by_year)   # 0x00000165489FB780\n",
    "print('--------------------------------------------------------------')\n",
    "\n",
    "print('< year로 그룹화된 데이터프레임에서 lifeExp열 추출 >')\n",
    "group_by_year_by_lifeExp1 = group_by_year['lifeExp']\n",
    "group_by_year_by_lifeExp2 = group_by_year.lifeExp\n",
    "print(group_by_year_by_lifeExp1)   # SeriesGroupBy (그룹화된 시리즈)\n",
    "print(group_by_year_by_lifeExp2)   # SeriesGroupBy (그룹화된 시리즈)\n",
    "print('--------------------------------------------------------------')"
   ]
  }
 ],
 "metadata": {
  "kernelspec": {
   "display_name": "Python 3",
   "language": "python",
   "name": "python3"
  },
  "language_info": {
   "codemirror_mode": {
    "name": "ipython",
    "version": 3
   },
   "file_extension": ".py",
   "mimetype": "text/x-python",
   "name": "python",
   "nbconvert_exporter": "python",
   "pygments_lexer": "ipython3",
   "version": "3.7.3"
  }
 },
 "nbformat": 4,
 "nbformat_minor": 2
}
