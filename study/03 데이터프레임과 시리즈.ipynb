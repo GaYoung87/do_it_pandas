{
 "cells": [
  {
   "cell_type": "markdown",
   "metadata": {},
   "source": [
    "## 1. 나만의 데이터 만들기"
   ]
  },
  {
   "cell_type": "code",
   "execution_count": 2,
   "metadata": {},
   "outputs": [],
   "source": [
    "import pandas as pd"
   ]
  },
  {
   "cell_type": "markdown",
   "metadata": {},
   "source": [
    "### 1-1. 시리즈 만들기"
   ]
  },
  {
   "cell_type": "code",
   "execution_count": 5,
   "metadata": {},
   "outputs": [
    {
     "name": "stdout",
     "output_type": "stream",
     "text": [
      "< 시리즈 만들기(1) >\n",
      "0    banana\n",
      "1        42\n",
      "dtype: object\n",
      "--------------------------------------------------------------\n",
      "< 시리즈 만들기(2) >\n",
      "0                Denny\n",
      "1    Creator of Pandas\n",
      "dtype: object\n",
      "--------------------------------------------------------------\n",
      "< 시리즈 만들기(3) : 인덱스 문자열로 지정 >\n",
      "Person                Denny\n",
      "Who       Creator of Pandas\n",
      "dtype: object\n",
      "--------------------------------------------------------------\n"
     ]
    }
   ],
   "source": [
    "print('< 시리즈 만들기(1) >')\n",
    "s1 = pd.Series(['banana', 42])\n",
    "print(s1)\n",
    "print('--------------------------------------------------------------')\n",
    "\n",
    "print('< 시리즈 만들기(2) >')\n",
    "s2 = pd.Series(['Denny', 'Creator of Pandas'])\n",
    "print(s2)\n",
    "print('--------------------------------------------------------------')\n",
    "\n",
    "print('< 시리즈 만들기(3) : 인덱스 문자열로 지정 >')\n",
    "s3 = pd.Series(['Denny', 'Creator of Pandas'], index=['Person', 'Who'])\n",
    "print(s3)\n",
    "print('--------------------------------------------------------------')\n"
   ]
  },
  {
   "cell_type": "markdown",
   "metadata": {},
   "source": [
    "### 1-2. 데이터 프레임 만들기"
   ]
  },
  {
   "cell_type": "code",
   "execution_count": 11,
   "metadata": {},
   "outputs": [
    {
     "name": "stdout",
     "output_type": "stream",
     "text": [
      "< 데이터프레임 만들기(1) >\n",
      "       Name    Occupation        Born        Died  Age\n",
      "0  Franklin       Chemist  1920-07-25  1958-04-16   37\n",
      "1    Gosset  Statistician  1876-06-13  1937-10-16   61\n",
      "--------------------------------------------------------------\n",
      "< 데이터프레임 만들기(2) >\n",
      "            Occupation        Born        Died  Age\n",
      "Franklin       Chemist  1920-07-25  1958-04-16   37\n",
      "Gosset    Statistician  1876-06-13  1937-10-16   61\n",
      "--------------------------------------------------------------\n",
      "< 데이터프레임 만들기(3): 딕셔너리 -> 데이터의 순서를 보장하지 않음! >\n",
      "            Occupation        Born  Age        Died\n",
      "Franklin       Chemist  1920-07-25   37  1958-04-16\n",
      "Gosset    Statistician  1876-06-13   61  1937-10-16\n",
      "--------------------------------------------------------------\n",
      "< 데이터프레임 만들기(4): 딕셔너리 순서원함 -> OrderedDict사용 >\n",
      "       Name    Occupation        Born        Died  Age\n",
      "0  Franklin       Chemist  1920-07-25  1958-04-16   37\n",
      "1    Gosset  Statistician  1876-06-13  1937-10-16   61\n",
      "--------------------------------------------------------------\n"
     ]
    }
   ],
   "source": [
    "print('< 데이터프레임 만들기(1) >')   # 딕셔너리\n",
    "scientists = pd.DataFrame({\n",
    "    'Name': ['Franklin', 'Gosset'],\n",
    "    'Occupation': ['Chemist', 'Statistician'],\n",
    "    'Born': ['1920-07-25', '1876-06-13'],\n",
    "    'Died': ['1958-04-16', '1937-10-16'],\n",
    "    'Age': [37, 61]\n",
    "})\n",
    "print(scientists)\n",
    "print('--------------------------------------------------------------')\n",
    "\n",
    "print('< 데이터프레임 만들기(2) >')   # 딕셔너리\n",
    "scientists2 = pd.DataFrame(\n",
    "    data = {\n",
    "        'Occupation': ['Chemist', 'Statistician'],\n",
    "        'Born': ['1920-07-25', '1876-06-13'],\n",
    "        'Died': ['1958-04-16', '1937-10-16'],\n",
    "        'Age': [37, 61]},\n",
    "    index=['Franklin', 'Gosset']\n",
    ")\n",
    "print(scientists2)\n",
    "print('--------------------------------------------------------------')\n",
    "\n",
    "print('< 데이터프레임 만들기(3): 딕셔너리 -> 데이터의 순서를 보장하지 않음! >')   # 딕셔너리 -> 데이터의 순서를 보장하지 않음!\n",
    "scientists3 = pd.DataFrame(  ##### data부분에서 Occupation같은거 안적어주면 에러뜸!!#####\n",
    "    data = {\n",
    "        'Occupation': ['Chemist', 'Statistician'],\n",
    "        'Born': ['1920-07-25', '1876-06-13'],\n",
    "        'Died': ['1958-04-16', '1937-10-16'],\n",
    "        'Age': [37, 61]},\n",
    "    index = ['Franklin', 'Gosset'],\n",
    "    columns = ['Occupation', 'Born', 'Age', 'Died']  # column이 data이름보다 우선!\n",
    ")\n",
    "print(scientists3)\n",
    "print('--------------------------------------------------------------')\n",
    "\n",
    "from collections import OrderedDict\n",
    "print('< 데이터프레임 만들기(4): 딕셔너리 순서원함 -> OrderedDict사용 >')   # 딕셔너리 -> 데이터의 순서를 보장하지 않음!\n",
    "scientists3 = pd.DataFrame(OrderedDict([\n",
    "    ('Name', ['Franklin', 'Gosset']),\n",
    "    ('Occupation', ['Chemist', 'Statistician']),\n",
    "    ('Born', ['1920-07-25', '1876-06-13']),\n",
    "    ('Died', ['1958-04-16', '1937-10-16']),\n",
    "    ('Age', [37, 61])\n",
    "]))  ##### data부분에서 Occupation같은거 안적어주면 에러뜸!!#####\n",
    "print(scientists3)\n",
    "print('--------------------------------------------------------------')\n",
    "\n"
   ]
  },
  {
   "cell_type": "markdown",
   "metadata": {},
   "source": [
    "## 2. 시리즈 다루기"
   ]
  },
  {
   "cell_type": "markdown",
   "metadata": {},
   "source": [
    "### 2-1. 시리즈의 속성과 메서드"
   ]
  },
  {
   "cell_type": "code",
   "execution_count": 15,
   "metadata": {},
   "outputs": [
    {
     "name": "stdout",
     "output_type": "stream",
     "text": [
      "            Occupation        Born  Age        Died\n",
      "Franklin       Chemist  1920-07-25   37  1958-04-16\n",
      "Gosset    Statistician  1876-06-13   61  1937-10-16\n"
     ]
    }
   ],
   "source": [
    "# 데이터 프레임 준비\n",
    "scientists = pd.DataFrame(  ##### data부분에서 Occupation같은거 안적어주면 에러뜸!!#####\n",
    "    data = {\n",
    "        'Occupation': ['Chemist', 'Statistician'],\n",
    "        'Born': ['1920-07-25', '1876-06-13'],\n",
    "        'Died': ['1958-04-16', '1937-10-16'],\n",
    "        'Age': [37, 61]},\n",
    "    index = ['Franklin', 'Gosset'],\n",
    "    columns = ['Occupation', 'Born', 'Age', 'Died']  # column이 data이름보다 우선!\n",
    ")\n",
    "print(scientists)\n",
    "\n",
    "#             Occupation        Born  Age        Died\n",
    "# Franklin       Chemist  1920-07-25   37  1958-04-16\n",
    "# Gosset    Statistician  1876-06-13   61  1937-10-16"
   ]
  },
  {
   "cell_type": "code",
   "execution_count": 21,
   "metadata": {},
   "outputs": [
    {
     "name": "stdout",
     "output_type": "stream",
     "text": [
      "< 시리즈인지 확인 >\n",
      "Occupation    Statistician\n",
      "Born            1876-06-13\n",
      "Age                     61\n",
      "Died            1937-10-16\n",
      "Name: Gosset, dtype: object\n",
      "<class 'pandas.core.series.Series'>\n",
      "--------------------------------------------------------------\n",
      "< index >\n",
      "Index(['Occupation', 'Born', 'Age', 'Died'], dtype='object')\n",
      "--------------------------------------------------------------\n",
      "< index 응용: index속성의 첫번째 값 추출 >\n",
      "Occupation\n",
      "--------------------------------------------------------------\n",
      "< values >\n",
      "['Statistician' '1876-06-13' 61 '1937-10-16']\n",
      "--------------------------------------------------------------\n",
      "< keys: key메서드 = index속성 >\n",
      "Index(['Occupation', 'Born', 'Age', 'Died'], dtype='object')\n",
      "--------------------------------------------------------------\n",
      "< keys: index의 첫번째 값 >\n",
      "Occupation\n",
      "--------------------------------------------------------------\n"
     ]
    }
   ],
   "source": [
    "print('< 시리즈인지 확인 >')\n",
    "first_row = scientists.loc['Gosset']\n",
    "print(first_row)  # 이때, 시리즈의 자료형은 object -> Age 자료형(int)는 무시됨\n",
    "    # Occupation    Statistician\n",
    "    # Born            1876-06-13\n",
    "    # Age                     61\n",
    "    # Died            1937-10-16\n",
    "    # Name: Gosset, dtype: object\n",
    "        \n",
    "print(type(first_row))  # Series\n",
    "print('--------------------------------------------------------------')\n",
    "\n",
    "print('< index >')\n",
    "first_row_index = first_row.index\n",
    "print(first_row_index)  # Index(['Occupation', 'Born', 'Age', 'Died'], dtype='object')\n",
    "print('--------------------------------------------------------------')\n",
    "\n",
    "print('< index 응용: index속성의 첫번째 값 추출 >')\n",
    "first_row_index_1 = first_row.index[0]\n",
    "print(first_row_index_1)  # Occupation\n",
    "print('--------------------------------------------------------------')\n",
    "\n",
    "print('< values >')\n",
    "first_row_values = first_row.values\n",
    "print(first_row_values)  # ['Statistician' '1876-06-13' 61 '1937-10-16']\n",
    "print('--------------------------------------------------------------')\n",
    "\n",
    "print('< keys: key메서드 = index속성 >')\n",
    "first_row_keys = first_row.keys()\n",
    "print(first_row_keys)  # Index(['Occupation', 'Born', 'Age', 'Died'], dtype='object')\n",
    "print('--------------------------------------------------------------')\n",
    "\n",
    "print('< keys: index의 첫번째 값 >')\n",
    "first_row_keys_1 = first_row.keys()[0]\n",
    "print(first_row_keys_1)  # Occupation\n",
    "print('--------------------------------------------------------------')"
   ]
  },
  {
   "cell_type": "code",
   "execution_count": 23,
   "metadata": {},
   "outputs": [
    {
     "name": "stdout",
     "output_type": "stream",
     "text": [
      "Franklin    37\n",
      "Gosset      61\n",
      "Name: Age, dtype: int64\n"
     ]
    }
   ],
   "source": [
    "ages=scientists['Age']\n",
    "print(ages)\n",
    "\n",
    "# Franklin    37\n",
    "# Gosset      61\n",
    "# Name: Age, dtype: int64\n",
    "\n",
    "# 시리즈를 구성하는 데이터가 정수라면 통계 메서드 사용가능(max, min, mean, std..)"
   ]
  },
  {
   "cell_type": "markdown",
   "metadata": {},
   "source": [
    "### 2-2. 시리즈와 불린 추출"
   ]
  },
  {
   "cell_type": "code",
   "execution_count": 24,
   "metadata": {},
   "outputs": [
    {
     "name": "stdout",
     "output_type": "stream",
     "text": [
      "                   Name        Born        Died  Age          Occupation\n",
      "0     Rosaline Franklin  1920-07-25  1958-04-16   37             Chemist\n",
      "1        William Gosset  1876-06-13  1937-10-16   61        Statistician\n",
      "2  Florence Nightingale  1820-05-12  1910-08-13   90               Nurse\n",
      "3           Marie Curie  1867-11-07  1934-07-04   66             Chemist\n",
      "4         Rachel Carson  1907-05-27  1964-04-14   56           Biologist\n",
      "5             John Snow  1813-03-15  1858-06-16   45           Physician\n",
      "6           Alan Turing  1912-06-23  1954-06-07   41  Computer Scientist\n",
      "7          Johann Gauss  1777-04-30  1855-02-23   77       Mathematician\n"
     ]
    }
   ],
   "source": [
    "scientists = pd.read_csv('../data/scientists.csv')\n",
    "print(scientists)"
   ]
  },
  {
   "cell_type": "code",
   "execution_count": 33,
   "metadata": {},
   "outputs": [
    {
     "name": "stdout",
     "output_type": "stream",
     "text": [
      "< 평균 나이보다 많은 사람의 나이만 추출(1) >\n",
      "1    61\n",
      "2    90\n",
      "3    66\n",
      "7    77\n",
      "Name: Age, dtype: int64\n",
      "--------------------------------------------------------------\n",
      "< 평균 나이보다 많은 사람의 나이만 추출(2) >\n",
      "1    61\n",
      "2    90\n",
      "3    66\n",
      "7    77\n",
      "Name: Age, dtype: int64\n",
      "--------------------------------------------------------------\n",
      "< 평균 나이보다 많은 경우 >\n",
      "0    False\n",
      "1     True\n",
      "2     True\n",
      "3     True\n",
      "4    False\n",
      "5    False\n",
      "6    False\n",
      "7     True\n",
      "Name: Age, dtype: bool\n",
      "--------------------------------------------------------------\n",
      "< 직접 boolean 설정 >\n",
      "0    37\n",
      "1    61\n",
      "4    56\n",
      "5    45\n",
      "7    77\n",
      "Name: Age, dtype: int64\n",
      "--------------------------------------------------------------\n"
     ]
    }
   ],
   "source": [
    "print('< 평균 나이보다 많은 사람의 나이만 추출(1) >')\n",
    "ages = scientists['Age']\n",
    "more_older_than_mean1 = ages[ages > ages.mean()]\n",
    "print(more_older_than_mean1)\n",
    "print('--------------------------------------------------------------')\n",
    "\n",
    "print('< 평균 나이보다 많은 사람의 나이만 추출(2) >')\n",
    "more_older_than_mean1 = scientists['Age'][scientists['Age'] > scientists['Age'].mean()]\n",
    "print(more_older_than_mean2)\n",
    "print('--------------------------------------------------------------')\n",
    "\n",
    "print('< 평균 나이보다 많은 경우 >')\n",
    "ages = scientists['Age']\n",
    "ages_boolean = ages > ages.mean()\n",
    "print(ages_boolean)\n",
    "print('--------------------------------------------------------------')\n",
    "\n",
    "print('< 직접 boolean 설정 >')\n",
    "boolean_values = [True, True, False, False, True, True, False, True]\n",
    "ages_boolean_self = ages[boolean_values]\n",
    "print(ages_boolean_self)\n",
    "print('--------------------------------------------------------------')"
   ]
  },
  {
   "cell_type": "markdown",
   "metadata": {},
   "source": [
    "### 2-3. 시리즈와 브로드캐스팅"
   ]
  },
  {
   "cell_type": "code",
   "execution_count": null,
   "metadata": {},
   "outputs": [],
   "source": [
    "# 브로드캐스팅: 시리즈나 데이터프레임에 있는 모든 데이터에 대해 한번에 연산하는 것\n",
    "# 벡터: 시리즈처럼 여러개의 값을 가진 데이터 (ex. 시리즈, age, df)\n",
    "# 스칼라: 단순 크기를 나타내는 데이터 (ex. 100, 2)"
   ]
  },
  {
   "cell_type": "code",
   "execution_count": 40,
   "metadata": {},
   "outputs": [
    {
     "name": "stdout",
     "output_type": "stream",
     "text": [
      "< 나이 더하기 >\n",
      "0     74\n",
      "1    122\n",
      "2    180\n",
      "3    132\n",
      "4    112\n",
      "5     90\n",
      "6     82\n",
      "7    154\n",
      "Name: Age, dtype: int64\n",
      "--------------------------------------------------------------\n",
      "< 나이 + 50 >\n",
      "0     87\n",
      "1    111\n",
      "2    140\n",
      "3    116\n",
      "4    106\n",
      "5     95\n",
      "6     91\n",
      "7    127\n",
      "Name: Age, dtype: int64\n",
      "--------------------------------------------------------------\n",
      "< 길이가 서로 다른 벡터 연산 >\n",
      "0     38.0\n",
      "1    161.0\n",
      "2      NaN\n",
      "3      NaN\n",
      "4      NaN\n",
      "5      NaN\n",
      "6      NaN\n",
      "7      NaN\n",
      "dtype: float64\n",
      "--------------------------------------------------------------\n",
      "< 인덱스 역순으로 데이터 정렬하기 >\n",
      "7    77\n",
      "6    41\n",
      "5    45\n",
      "4    56\n",
      "3    66\n",
      "2    90\n",
      "1    61\n",
      "0    37\n",
      "Name: Age, dtype: int64\n",
      "--------------------------------------------------------------\n",
      "< 나이 + 인덱스 역순인 나이 더하기: 인덱스별로 더하기때문에 *2한것과 차이가 없음 >\n",
      "0     74\n",
      "1    122\n",
      "2    180\n",
      "3    132\n",
      "4    112\n",
      "5     90\n",
      "6     82\n",
      "7    154\n",
      "Name: Age, dtype: int64\n",
      "--------------------------------------------------------------\n"
     ]
    }
   ],
   "source": [
    "print('< 나이 더하기 >')\n",
    "ages = scientists['Age']\n",
    "add_ages = ages + ages\n",
    "print(add_ages)\n",
    "print('--------------------------------------------------------------')\n",
    "\n",
    "print('< 나이 + 50 >')\n",
    "ages = scientists['Age']\n",
    "add_50 = ages + 50\n",
    "print(add_50)\n",
    "print('--------------------------------------------------------------')\n",
    "\n",
    "print('< 길이가 서로 다른 벡터 연산 >')  # 같은 인덱스 값만 계산하고, 나머지는 누락값이 됨\n",
    "ages = scientists['Age']\n",
    "add_diff_length = ages + pd.Series([1, 100])\n",
    "print(add_diff_length)\n",
    "print('--------------------------------------------------------------')\n",
    "\n",
    "print('< 인덱스 역순으로 데이터 정렬하기 >')\n",
    "ages = scientists['Age']\n",
    "rev_ages = ages.sort_index(ascending = False)\n",
    "print(rev_ages)\n",
    "print('--------------------------------------------------------------')\n",
    "\n",
    "print('< 나이 + 인덱스 역순인 나이 더하기: 인덱스별로 더하기때문에 *2한것과 차이가 없음 >')\n",
    "ages = scientists['Age']\n",
    "rev_ages = ages.sort_index(ascending = False)\n",
    "add_rev_ages = ages + rev_ages\n",
    "print(add_rev_ages)\n",
    "print('--------------------------------------------------------------')"
   ]
  },
  {
   "cell_type": "markdown",
   "metadata": {},
   "source": [
    "## 3. 데이터프레임 다루기"
   ]
  },
  {
   "cell_type": "code",
   "execution_count": 48,
   "metadata": {
    "scrolled": false
   },
   "outputs": [
    {
     "name": "stdout",
     "output_type": "stream",
     "text": [
      "< Age열에서 Age열의 평균보다 높은 행 >\n",
      "                   Name        Born        Died  Age     Occupation\n",
      "1        William Gosset  1876-06-13  1937-10-16   61   Statistician\n",
      "2  Florence Nightingale  1820-05-12  1910-08-13   90          Nurse\n",
      "3           Marie Curie  1867-11-07  1934-07-04   66        Chemist\n",
      "7          Johann Gauss  1777-04-30  1855-02-23   77  Mathematician\n",
      "-----------------------------------------------------------------------------------------------\n",
      "< boolean값 설정 >\n",
      "                Name        Born        Died  Age    Occupation\n",
      "0  Rosaline Franklin  1920-07-25  1958-04-16   37       Chemist\n",
      "1     William Gosset  1876-06-13  1937-10-16   61  Statistician\n",
      "3        Marie Curie  1867-11-07  1934-07-04   66       Chemist\n",
      "4      Rachel Carson  1907-05-27  1964-04-14   56     Biologist\n",
      "-----------------------------------------------------------------------------------------------\n",
      "< 문자열 데이터 *2 >\n",
      "                                       Name                  Born  \\\n",
      "0        Rosaline FranklinRosaline Franklin  1920-07-251920-07-25   \n",
      "1              William GossetWilliam Gosset  1876-06-131876-06-13   \n",
      "2  Florence NightingaleFlorence Nightingale  1820-05-121820-05-12   \n",
      "3                    Marie CurieMarie Curie  1867-11-071867-11-07   \n",
      "4                Rachel CarsonRachel Carson  1907-05-271907-05-27   \n",
      "5                        John SnowJohn Snow  1813-03-151813-03-15   \n",
      "6                    Alan TuringAlan Turing  1912-06-231912-06-23   \n",
      "7                  Johann GaussJohann Gauss  1777-04-301777-04-30   \n",
      "\n",
      "                   Died  Age                            Occupation  \n",
      "0  1958-04-161958-04-16   74                        ChemistChemist  \n",
      "1  1937-10-161937-10-16  122              StatisticianStatistician  \n",
      "2  1910-08-131910-08-13  180                            NurseNurse  \n",
      "3  1934-07-041934-07-04  132                        ChemistChemist  \n",
      "4  1964-04-141964-04-14  112                    BiologistBiologist  \n",
      "5  1858-06-161858-06-16   90                    PhysicianPhysician  \n",
      "6  1954-06-071954-06-07   82  Computer ScientistComputer Scientist  \n",
      "7  1855-02-231855-02-23  154            MathematicianMathematician  \n",
      "-----------------------------------------------------------------------------------------------\n"
     ]
    }
   ],
   "source": [
    "print('< Age열에서 Age열의 평균보다 높은 행 >')\n",
    "older_than_mean_scientists = scientists[scientists['Age'] > scientists['Age'].mean()]\n",
    "print(older_than_mean_scientists)\n",
    "print('-----------------------------------------------------------------------------------------------')\n",
    "\n",
    "print('< boolean값 설정 >')\n",
    "scientists_by_boolean = scientists.loc[[True, True, False, True, True]]   # 지정하지 않으면 나오지않음\n",
    "print(scientists_by_boolean)\n",
    "print('-----------------------------------------------------------------------------------------------')\n",
    "\n",
    "print('< 문자열 데이터 *2 >')  # 정수 * 2 = 값이 두배, 문자열 * 2 = 문자열길이 2배\n",
    "scientists_mul = scientists * 2\n",
    "print(scientists_mul)\n",
    "print('-----------------------------------------------------------------------------------------------')"
   ]
  },
  {
   "cell_type": "markdown",
   "metadata": {},
   "source": [
    "## 4. 데이터 처리하기"
   ]
  },
  {
   "cell_type": "code",
   "execution_count": 64,
   "metadata": {},
   "outputs": [
    {
     "name": "stdout",
     "output_type": "stream",
     "text": [
      "< Born, Died 나이 계산(year) >\n",
      "0    1958-04-16\n",
      "1    1937-10-16\n",
      "2    1910-08-13\n",
      "3    1934-07-04\n",
      "Name: Died, dtype: object\n",
      "-----------------------------------------------------------------------------------------------\n"
     ]
    }
   ],
   "source": [
    "# 기존 데이터 형태 유지\n",
    "print('< Born의 자료형 >')\n",
    "born = scientists['Born']    # object\n",
    "print(born.dtype)\n",
    "print('-----------------------------------------------------------------------------------------------')\n",
    "\n",
    "print('< Died의 자료형 >')\n",
    "died = scientists['Died']    # object\n",
    "print(died.dtype)\n",
    "print('-----------------------------------------------------------------------------------------------')\n",
    "\n",
    "\n",
    "# 데이터 형태 변경\n",
    "print('< Born의 자료형: format형태 변경 >')\n",
    "born = scientists['Born']    # datetime64[ns]\n",
    "born_datetime = pd.to_datetime(born, format='%Y-%m-%d')\n",
    "print(born_datetime.dtype)\n",
    "print('-----------------------------------------------------------------------------------------------')\n",
    "\n",
    "print('< Died 자료형: format형태 변경 >')\n",
    "died = scientists['Died']    # datetime64[ns]\n",
    "died_datetime = pd.to_datetime(died, format='%Y-%m-%d')\n",
    "print(died_datetime.dtype)\n",
    "print('-----------------------------------------------------------------------------------------------')\n",
    "\n",
    "print('< Born, Died의 새로운 자료형 데이터 추가 >')\n",
    "scientists['born_datetime'], scientists['died_datetime'] = (born_datetime, died_datetime)\n",
    "print(scientists.head())\n",
    "print('-----------------------------------------------------------------------------------------------')\n",
    "\n",
    "# datetime 형태는 int처럼 계산 가능!\n",
    "print('< Born, Died의 새로운 자료형으로 나이 계산(day) >')\n",
    "scientists['age_days'] = (scientists['died_datetime'] - scientists['born_datetime'])\n",
    "print(scientists.head())\n",
    "print('-----------------------------------------------------------------------------------------------')\n",
    "\n",
    "# days말고 year기준으로 나이계산방법???????????????????????????????????????????????????????????????????????????????????????????????????????"
   ]
  },
  {
   "cell_type": "code",
   "execution_count": 66,
   "metadata": {},
   "outputs": [
    {
     "name": "stdout",
     "output_type": "stream",
     "text": [
      "< Age열의 데이터를 랜덤으로 섞기 >\n"
     ]
    },
    {
     "name": "stderr",
     "output_type": "stream",
     "text": [
      "C:\\Users\\gyyoo\\Anaconda3\\lib\\random.py:278: SettingWithCopyWarning: \n",
      "A value is trying to be set on a copy of a slice from a DataFrame\n",
      "\n",
      "See the caveats in the documentation: http://pandas.pydata.org/pandas-docs/stable/indexing.html#indexing-view-versus-copy\n",
      "  x[i], x[j] = x[j], x[i]\n"
     ]
    },
    {
     "name": "stdout",
     "output_type": "stream",
     "text": [
      "0    61\n",
      "1    66\n",
      "2    90\n",
      "3    56\n",
      "4    45\n",
      "5    41\n",
      "6    37\n",
      "7    77\n",
      "Name: Age, dtype: int64\n",
      "-----------------------------------------------------------------------------------------------\n"
     ]
    }
   ],
   "source": [
    "print('< Age열의 데이터를 랜덤으로 섞기 >')\n",
    "import random\n",
    "\n",
    "random.seed(1234)\n",
    "random.shuffle(scientists['Age'])\n",
    "print(scientists['Age'])\n",
    "print('-----------------------------------------------------------------------------------------------')"
   ]
  },
  {
   "cell_type": "code",
   "execution_count": 78,
   "metadata": {},
   "outputs": [
    {
     "name": "stdout",
     "output_type": "stream",
     "text": [
      "< 기존 데이터 보이기 >\n",
      "                   Name        Born        Died  Age          Occupation  \\\n",
      "0     Rosaline Franklin  1920-07-25  1958-04-16   61             Chemist   \n",
      "1        William Gosset  1876-06-13  1937-10-16   66        Statistician   \n",
      "2  Florence Nightingale  1820-05-12  1910-08-13   90               Nurse   \n",
      "3           Marie Curie  1867-11-07  1934-07-04   56             Chemist   \n",
      "4         Rachel Carson  1907-05-27  1964-04-14   45           Biologist   \n",
      "5             John Snow  1813-03-15  1858-06-16   41           Physician   \n",
      "6           Alan Turing  1912-06-23  1954-06-07   37  Computer Scientist   \n",
      "7          Johann Gauss  1777-04-30  1855-02-23   77       Mathematician   \n",
      "\n",
      "  born_datetime died_datetime   age_days  \n",
      "0    1920-07-25    1958-04-16 13779 days  \n",
      "1    1876-06-13    1937-10-16 22404 days  \n",
      "2    1820-05-12    1910-08-13 32964 days  \n",
      "3    1867-11-07    1934-07-04 24345 days  \n",
      "4    1907-05-27    1964-04-14 20777 days  \n",
      "5    1813-03-15    1858-06-16 16529 days  \n",
      "6    1912-06-23    1954-06-07 15324 days  \n",
      "7    1777-04-30    1855-02-23 28422 days  \n",
      "-----------------------------------------------------------------------------------------------\n",
      "< 데이터프레임 열 삭제하기 >\n",
      "                   Name\n",
      "0     Rosaline Franklin\n",
      "1        William Gosset\n",
      "2  Florence Nightingale\n",
      "3           Marie Curie\n",
      "4         Rachel Carson\n",
      "5             John Snow\n",
      "6           Alan Turing\n",
      "7          Johann Gauss\n",
      "-----------------------------------------------------------------------------------------------\n",
      "< 시리즈 열 삭제하기 >\n",
      "Empty DataFrame\n",
      "Columns: []\n",
      "Index: [0, 1, 2, 3, 4, 5, 6, 7]\n",
      "-----------------------------------------------------------------------------------------------\n"
     ]
    }
   ],
   "source": [
    "print('< 기존 데이터 보이기 >')\n",
    "print(scientists)\n",
    "print('-----------------------------------------------------------------------------------------------')\n",
    "\n",
    "print('< 데이터프레임 열 삭제하기 >')\n",
    "drop = scientists.drop(['Age', 'Occupation', 'Born', 'Died', 'born_datetime', 'died_datetime','age_days'], axis=1)\n",
    "print(drop)\n",
    "print('-----------------------------------------------------------------------------------------------')\n",
    "\n",
    "print('< 시리즈 열 삭제하기 >')\n",
    "drop2 = drop.drop(['Name'], axis=1)\n",
    "print(drop2)\n",
    "print('-----------------------------------------------------------------------------------------------')\n",
    "# 결과!!\n",
    "# Empty DataFrame\n",
    "# Columns: []\n",
    "# Index: [0, 1, 2, 3, 4, 5, 6, 7]"
   ]
  }
 ],
 "metadata": {
  "kernelspec": {
   "display_name": "Python 3",
   "language": "python",
   "name": "python3"
  },
  "language_info": {
   "codemirror_mode": {
    "name": "ipython",
    "version": 3
   },
   "file_extension": ".py",
   "mimetype": "text/x-python",
   "name": "python",
   "nbconvert_exporter": "python",
   "pygments_lexer": "ipython3",
   "version": "3.7.3"
  }
 },
 "nbformat": 4,
 "nbformat_minor": 2
}
