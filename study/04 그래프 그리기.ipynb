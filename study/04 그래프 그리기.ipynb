{
 "cells": [
  {
   "cell_type": "markdown",
   "metadata": {},
   "source": [
    "## 1. 데이터 시각화가 필요한 이유"
   ]
  },
  {
   "cell_type": "code",
   "execution_count": null,
   "metadata": {},
   "outputs": [],
   "source": [
    "# 데이터를 그림으로 그려봐야 알 수 있음. 수치들과 상관관계, 회귀선이 같다고해도 그래프로 그리면 다름!"
   ]
  },
  {
   "cell_type": "code",
   "execution_count": null,
   "metadata": {},
   "outputs": [],
   "source": [
    "print('< anscombe 데이터 불러오기 >')\n",
    "import seaborn as sns\n",
    "\n",
    "anscombe = sns.load_dataset(\"anscombe\")\n",
    "print(anscombe) # dataset을 통해 구분되어있음\n",
    "print(type(anscombe))\n",
    "print('------------------------------------------------------------------------------------------------')"
   ]
  },
  {
   "cell_type": "code",
   "execution_count": null,
   "metadata": {},
   "outputs": [],
   "source": [
    "# 그래프 그릴 준비\n",
    "%matplotlib notebook\n",
    "import matplotlib.pyplot as plt\n",
    "\n",
    "print('< dataset = I인 경우의 그래프(기본=선) >')\n",
    "dataset_1 = anscombe[anscombe['dataset'] == 'I']  # dataset이 I인 경우\n",
    "plt.plot(dataset_1['x'], dataset_1['y'])  # plot메서드는 기본적으로 선으로 그래프를 그림\n",
    "print('------------------------------------------------------------------------------------------------')\n",
    "\n",
    "print('< dataset = I인 경우의 그래프(점) >')\n",
    "dataset_1 = anscombe[anscombe['dataset'] == 'I']  # dataset이 I인 경우\n",
    "plt.plot(dataset_1['x'], dataset_1['y'], 'o')\n",
    "print('------------------------------------------------------------------------------------------------')"
   ]
  },
  {
   "cell_type": "code",
   "execution_count": null,
   "metadata": {},
   "outputs": [],
   "source": [
    "# 4개 그래프 한번에 그리기\n",
    "\n",
    "# dataset에 따라 구분\n",
    "dataset1 = anscombe[anscombe['dataset'] == 'I']\n",
    "dataset2 = anscombe[anscombe['dataset'] == 'II']\n",
    "dataset3 = anscombe[anscombe['dataset'] == 'III']\n",
    "dataset4 = anscombe[anscombe['dataset'] == 'IV']\n",
    "\n",
    "# 그래프 격자가 위치할 기본 틀\n",
    "fig = plt.figure()\n",
    "\n",
    "# 그래프 격자 그리기\n",
    "axes1 = fig.add_subplot(2, 2, 1)  # (한 행에 몇개 그래프가 들어갈 것인지, 한 열에 몇개 그래프가 들어갈 것인지, 위치)\n",
    "axes2 = fig.add_subplot(2, 2, 2)\n",
    "axes3 = fig.add_subplot(2, 2, 3)\n",
    "axes4 = fig.add_subplot(2, 2, 4)\n",
    "\n",
    "# 그래프 그리기\n",
    "axes1.plot(dataset1['x'], dataset1['y'], 'o')\n",
    "axes2.plot(dataset2['x'], dataset2['y'], 'o')\n",
    "axes3.plot(dataset3['x'], dataset3['y'], 'o')\n",
    "axes4.plot(dataset4['x'], dataset4['y'], 'o')\n",
    "\n",
    "# 그래프 격자에 제목 추가\n",
    "axes1.set_title(\"dataset1\")\n",
    "axes2.set_title(\"dataset2\")\n",
    "axes3.set_title(\"dataset3\")\n",
    "axes4.set_title(\"dataset4\")\n",
    "\n",
    "# 기본 틀에 제목 추가\n",
    "fig.suptitle('Anscombe Data')\n",
    "\n",
    "# 각 그래프의 레이아웃 조절\n",
    "fig.tight_layout()"
   ]
  },
  {
   "cell_type": "markdown",
   "metadata": {},
   "source": [
    "## 2. matplotlib 이용해 그래프 그리기"
   ]
  },
  {
   "cell_type": "markdown",
   "metadata": {},
   "source": [
    "### 2-1. 기초그래프 그리기"
   ]
  },
  {
   "cell_type": "code",
   "execution_count": null,
   "metadata": {},
   "outputs": [],
   "source": [
    "print('< tips 데이터 불러오기 >')\n",
    "tips = sns.load_dataset('tips')\n",
    "print(tips.head())\n",
    "print(type(tips))\n",
    "print('------------------------------------------------------------------------------------------------')"
   ]
  },
  {
   "cell_type": "code",
   "execution_count": null,
   "metadata": {},
   "outputs": [],
   "source": [
    "# 일변량 그래프: 변수를 하나만 사용해서 그린 그래프(ex. 히스토그램)\n",
    "# 이변랑 그래프: 변수 2개를 사용하는 그래프(ex. 산점도)\n",
    "# 박스그래프: 이산형 변수(명확한 구분 ex.성별) + 연속형 변수(명확하게 셀 수 없는 범위의 값)"
   ]
  },
  {
   "cell_type": "code",
   "execution_count": null,
   "metadata": {},
   "outputs": [],
   "source": [
    "print('< 히스토그램 그리기 >')\n",
    "fig = plt.figure()\n",
    "axes1 = fig.add_subplot(1, 1, 1)\n",
    "axes1.hist(tips['total_bill'], bins=10)  # bins: x축 간격\n",
    "axes1.set_title('Histogram of Total Bill')\n",
    "axes1.set_xlabel('Frequency')\n",
    "axes1.set_ylabel('Total Bill')\n",
    "print('------------------------------------------------------------------------------------------------')\n",
    "\n",
    "print('< 산점도 그리기 >')\n",
    "scatter_plot = plt.figure()\n",
    "axes2 = scatter_plot.add_subplot(1, 1, 1)\n",
    "axes2.scatter(tips['total_bill'], tips['tip'])\n",
    "axes2.set_title('Scatterplot of Total Bill vs Tip')\n",
    "axes2.set_xlabel('Total Bill')\n",
    "axes2.set_ylabel('Tip')\n",
    "print('------------------------------------------------------------------------------------------------')\n",
    "\n",
    "print('< 박스그래프 그리기 >')\n",
    "boxplot = plt.figure()\n",
    "axes3 = boxplot.add_subplot(2, 2, 1)\n",
    "axes3.boxplot([tips[tips['sex'] == 'Female']['tip'],  # Female의 tip\n",
    "               tips[tips['sex'] == 'Male']['tip']],  # Male의 tip\n",
    "              labels=['Female', 'Male'])  # 이산형변수를 []안에 작성하고 이산형 변수 label작성\n",
    "axes3.set_title('Boxplot of Tips by Sex')\n",
    "axes3.set_xlabel('Sex')\n",
    "axes3.set_ylabel('Tip')\n",
    "print('------------------------------------------------------------------------------------------------')"
   ]
  },
  {
   "cell_type": "markdown",
   "metadata": {},
   "source": [
    "### 2-2. 다변량 그래프 그리기"
   ]
  },
  {
   "cell_type": "code",
   "execution_count": null,
   "metadata": {},
   "outputs": [],
   "source": [
    "# 3개 이상 변수를 사용\n",
    "\n",
    "print('< 산점도 + 셩별 그래프 그리기(다변량 그래프) >')\n",
    "def recode_sex(sex):\n",
    "    if sex == 'Female':\n",
    "        return 0\n",
    "    else:\n",
    "        return 1\n",
    "    \n",
    "# recode_sex 함수를 브로드캐스팅하기 위함\n",
    "# datetime 형태로 바꿀 때는 born_datetime = pd.datetime(born, format='%Y-%m-%d')\n",
    "tips['sex_color'] = tips['sex'].apply(recode_sex)  # sex_color추가\n",
    "# print(tips.head())\n",
    "scatter_plot = plt.figure()\n",
    "axes4 = scatter_plot.add_subplot(1, 1, 1)\n",
    "axes4.scatter(\n",
    "    x = tips['total_bill'],\n",
    "    y = tips['tip'],\n",
    "    s = tips['size'] * 10,  # 사이즈 * 10으로 크기 나타냄\n",
    "    c = tips['sex_color'],\n",
    "    alpha=0.5)\n",
    "axes4.set_title('Total Bill vs Tip Colored by Sex and Sized by Size')\n",
    "axes4.set_xlabel('Total Bill')\n",
    "axes4.set_ylabel('Tip')\n",
    "print('------------------------------------------------------------------------------------------------')"
   ]
  },
  {
   "cell_type": "markdown",
   "metadata": {},
   "source": [
    "## 3. seaborn 이용해 그래프 그리기"
   ]
  },
  {
   "cell_type": "markdown",
   "metadata": {},
   "source": [
    "### 3-1. 단변량 그래프 그리기"
   ]
  },
  {
   "cell_type": "code",
   "execution_count": null,
   "metadata": {},
   "outputs": [],
   "source": [
    "# 단변량 그래프: 히스토그램+밀집도, 빈도수\n",
    "# 이변량 그래프: 산점도, 회귀선, 밀집도, bar, box, violine, 관계"
   ]
  },
  {
   "cell_type": "code",
   "execution_count": null,
   "metadata": {},
   "outputs": [],
   "source": [
    "# < tips 데이터 불러오기 >\n",
    "import seaborn as sns\n",
    "\n",
    "tips = sns.load_dataset(\"tips\")\n",
    "print('------------------------------------------------------------------------------------------------')\n",
    "\n",
    "print('< 히스토그램+밀집도 그리기 >')\n",
    "ax = plt.subplots()\n",
    "ax = sns.distplot(tips['total_bill'])  # 열데이터\n",
    "# 히스토그램 빼고싶으면, hist=False, 밀집도를 빼고싶으면 kde=False\n",
    "# 양탄자 그래프 추가하고싶으면, rug=True\n",
    "ax.set_title('Total Bill Histogram with Density Plot')\n",
    "print('------------------------------------------------------------------------------------------------')\n",
    "\n",
    "print('< count그래프 그리기: 이산값 나타냄 >')\n",
    "ax2 = plt.subplots()\n",
    "ax2 = sns.countplot('day', data=tips)\n",
    "axes4.set_title('Count of days')\n",
    "axes4.set_xlabel('Day of the Week')\n",
    "axes4.set_ylabel('Frequency')\n",
    "print('------------------------------------------------------------------------------------------------')"
   ]
  },
  {
   "cell_type": "markdown",
   "metadata": {},
   "source": [
    "### 3-2. 이변량 그래프 그리기"
   ]
  },
  {
   "cell_type": "code",
   "execution_count": null,
   "metadata": {},
   "outputs": [],
   "source": [
    "print('< 회귀선 + 산점도 그리기 >')\n",
    "ax11 = plt.subplots()\n",
    "ax11 = sns.regplot(x='total_bill', y='tip', data=tips)\n",
    "ax11.set_title('Scatterplot of Total Bill vs Tip')\n",
    "ax11.set_xlabel('Total Bill')\n",
    "ax11.set_ylabel('Tip')\n",
    "print('------------------------------------------------------------------------------------------------')\n",
    "\n",
    "print('< 회귀선 + 산점도 그리기: 회귀선 제거 >')\n",
    "ax12 = plt.subplots()\n",
    "ax12 = sns.regplot(x='total_bill', y='tip', data=tips, fit_reg=False)\n",
    "ax12.set_title('Scatterplot of Total Bill vs Tip')\n",
    "ax12.set_xlabel('Total Bill')\n",
    "ax12.set_ylabel('Tip')\n",
    "print('------------------------------------------------------------------------------------------------')\n",
    "\n",
    "print('< 히스토그램 + 산점도 그리기 >')\n",
    "joint13 = sns.jointplot(x='total_bill', y='tip', data=tips)\n",
    "joint13.set_axis_labels(xlabel='Total Bill', ylabel='Tip')\n",
    "joint13.fig.suptitle('Joint Plot of Total Bill and Tip', fontsize=10, y=1.03)\n",
    "print('------------------------------------------------------------------------------------------------')\n",
    "\n",
    "print('< 히스토그램 + 산점도 그리기: 육각그래프 >')\n",
    "joint14 = sns.jointplot(x='total_bill', y='tip', data=tips, kind='hex')\n",
    "joint14.set_axis_labels(xlabel='Total Bill', ylabel='Tip')\n",
    "joint14.fig.suptitle('Joint Plot of Total Bill and Tip', fontsize=10, y=1.03)\n",
    "print('------------------------------------------------------------------------------------------------')\n",
    "\n",
    "print('< 이차원 밀집도 그리기 >')\n",
    "ax15 = plt.subplots()\n",
    "ax15 = sns.kdeplot(\n",
    "        data=tips['total_bill'],\n",
    "        data2=tips['tip'],\n",
    "        shade=True)  # 음영효과\n",
    "ax15.set_title('Kernel Density Plot of Total Bill and Tip')\n",
    "ax15.set_xlabel('Total Bill')\n",
    "ax15.set_ylabel('Tip')\n",
    "print('------------------------------------------------------------------------------------------------')\n",
    "\n",
    "print('< 바 그래프 그리기 >')\n",
    "ax16 = plt.subplots()\n",
    "ax16 = sns.barplot(x='time', y='total_bill', data=tips)\n",
    "ax16.set_title('Bar plot of average total bill for time of day')\n",
    "ax16.set_xlabel('Time of Day')\n",
    "ax16.set_ylabel('Average Total Bill')\n",
    "print('------------------------------------------------------------------------------------------------')\n",
    "\n",
    "print('< 박스 그래프 그리기 >')\n",
    "ax17 = plt.subplots()\n",
    "ax17 = sns.barplot(x='time', y='total_bill', data=tips)\n",
    "ax17.set_title('Boxplot of total bill by time of day')\n",
    "ax17.set_xlabel('Time of Day')\n",
    "ax17.set_ylabel('Total Bill')\n",
    "print('------------------------------------------------------------------------------------------------')\n",
    "\n",
    "print('< 바이올린 그래프 그리기 >')\n",
    "ax18 = plt.subplots()\n",
    "ax18 = sns.violinplot(x='time', y='total_bill', data=tips)\n",
    "ax18.set_title('Violin plot of total bill by time of day')\n",
    "ax18.set_xlabel('Time of Day')\n",
    "ax18.set_ylabel('Total Bill')\n",
    "print('------------------------------------------------------------------------------------------------')\n",
    "\n",
    "print('< 관계그래프 그리기 >')\n",
    "pair_grid=sns.PairGrid(tips)\n",
    "pair_grid = pair_grid.map_upper(sns.regplot)\n",
    "pair_grid = pair_grid.map_lower(sns.kdeplot)\n",
    "pair_grid = pair_grid.map_diag(sns.distplot, rug=True)\n",
    "plt.show()\n",
    "print('------------------------------------------------------------------------------------------------')\n"
   ]
  },
  {
   "cell_type": "markdown",
   "metadata": {},
   "source": [
    "### 3-3. 다변량 그래프 그리기"
   ]
  },
  {
   "cell_type": "code",
   "execution_count": null,
   "metadata": {},
   "outputs": [],
   "source": [
    "print('< 바이올린 그래프 >')\n",
    "ax = plt.subplots()\n",
    "ax = sns.violinplot(x='time', y='total_bill', hue='sex', data=tips, split=True)\n",
    "print('-----------------------------------------------------------------------------')\n",
    "\n",
    "print('< 산점도 그래프 >')\n",
    "scatter1 = sns.lmplot(x='total_bill', y='tip', data=tips, hue='sex', fit_reg=False)\n",
    "# fit_reg: 회귀선 제거\n",
    "print('-----------------------------------------------------------------------------')\n",
    "\n",
    "print('< 산점도 그래프 + 크기 모양 >')\n",
    "scatter2 = sns.lmplot(x='total_bill', y='tip', data=tips, hue='sex', fit_reg=False,\n",
    "                    markers=['o', 'x'], scatter_kws={'s': tips['size']*10})\n",
    "print('-----------------------------------------------------------------------------')\n",
    "\n",
    "print('< 관계 그래프 >')\n",
    "fig = sns.pairplot(tips, hue='sex')\n",
    "print('-----------------------------------------------------------------------------')\n",
    "\n",
    "print('< lmplot메서드로 그래프 그리기 >')\n",
    "anscombe_plot = sns.lmplot(x='x', y='y', data=anscombe, fit_reg=False,\n",
    "                          col='dataset', col_wrap=2)\n",
    "# col_wrap: 열의 최댓값, col: 구분열\n",
    "print('-----------------------------------------------------------------------------')"
   ]
  },
  {
   "cell_type": "markdown",
   "metadata": {},
   "source": [
    "## 4. 데이터프레임과 시리즈로 그래프 그리기"
   ]
  },
  {
   "cell_type": "code",
   "execution_count": null,
   "metadata": {},
   "outputs": [],
   "source": [
    "print('< 시리즈로 히스토그램 그리기 >')\n",
    "ax1 = plt.subplots()  # 틀만들기\n",
    "ax1 = tips['total_bill'].plot.hist()\n",
    "    # 이 시리즈로        히스토그램 그리겠다!\n",
    "print('------------------------------------------------------------------------------------------------')\n",
    "\n",
    "print('< 2개의 시리즈로 히스토그램 그리기 >')\n",
    "fig, ax2 = plt.subplots()\n",
    "ax2 = tips[['total_bill', 'tip']].plot.hist(alpha=0.5, bins=20, ax=ax2)  # alpha: 투명도\n",
    "print('------------------------------------------------------------------------------------------------')\n",
    "\n",
    "print('< 밀집도 그리기 >')\n",
    "ax3 = plt.subplots()\n",
    "ax3 = tips['tips'].plot.kde()\n",
    "print('------------------------------------------------------------------------------------------------')\n",
    "\n",
    "print('< 산점도 그리기 >')\n",
    "fig, ax4 = plt.subplots()\n",
    "ax4 = tips.plot.scatter(x='total_bill', y='tip', ax=ax4)\n",
    "print('------------------------------------------------------------------------------------------------')\n",
    "\n",
    "print('< 육각그래프 그리기 >')\n",
    "fig, ax5 = plt.subplots()\n",
    "ax5 = tips.plot.hexbin(x='total_bill', y='tip', ax=ax5, gridsize=10)\n",
    "print('------------------------------------------------------------------------------------------------')\n",
    "\n",
    "print('< 박스그래프 그리기 >')\n",
    "fig, ax6 = plt.subplots()\n",
    "ax6 = tips.plot.box(ax=ax6)\n",
    "print('------------------------------------------------------------------------------------------------')\n"
   ]
  }
 ],
 "metadata": {
  "kernelspec": {
   "display_name": "Python 3",
   "language": "python",
   "name": "python3"
  },
  "language_info": {
   "codemirror_mode": {
    "name": "ipython",
    "version": 3
   },
   "file_extension": ".py",
   "mimetype": "text/x-python",
   "name": "python",
   "nbconvert_exporter": "python",
   "pygments_lexer": "ipython3",
   "version": "3.7.3"
  }
 },
 "nbformat": 4,
 "nbformat_minor": 2
}
