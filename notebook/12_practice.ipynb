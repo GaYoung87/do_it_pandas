{
 "cells": [
  {
   "cell_type": "markdown",
   "metadata": {},
   "source": [
    "# datetime 오브젝트 사용하기"
   ]
  },
  {
   "cell_type": "code",
   "execution_count": 1,
   "metadata": {},
   "outputs": [],
   "source": [
    "from datetime import datetime"
   ]
  },
  {
   "cell_type": "code",
   "execution_count": 2,
   "metadata": {},
   "outputs": [
    {
     "name": "stdout",
     "output_type": "stream",
     "text": [
      "2019-10-11 09:15:44.339003\n",
      "2019-10-11 09:15:44.340002\n"
     ]
    }
   ],
   "source": [
    "# 현재시간 출력\n",
    "now1 = datetime.now()\n",
    "print(now1)  # 2019-10-11 09:15:44.339003\n",
    "\n",
    "now2 = datetime.today()\n",
    "print(now2)  # 2019-10-11 09:15:44.340002"
   ]
  },
  {
   "cell_type": "code",
   "execution_count": 3,
   "metadata": {},
   "outputs": [
    {
     "name": "stdout",
     "output_type": "stream",
     "text": [
      "2019-10-11 09:17:09.809965\n",
      "1970-01-01 00:00:00\n",
      "1970-12-12 13:24:34\n"
     ]
    }
   ],
   "source": [
    "# 시간을 직접 입력하여 인자로 전달\n",
    "t1 = datetime.now()\n",
    "t2 = datetime(1970, 1, 1)\n",
    "t3 = datetime(1970, 12, 12, 13, 24, 34)\n",
    "\n",
    "print(t1)\n",
    "print(t2)\n",
    "print(t3)"
   ]
  },
  {
   "cell_type": "code",
   "execution_count": 4,
   "metadata": {},
   "outputs": [
    {
     "name": "stdout",
     "output_type": "stream",
     "text": [
      "18180 days, 9:17:09.809965\n",
      "<class 'datetime.timedelta'>\n"
     ]
    }
   ],
   "source": [
    "# datetime오브젝트는 시간 계산 가능!!\n",
    "diff1 = t1 - t2\n",
    "print(diff1)  # 18180 days, 9:17:09.809965\n",
    "print(type(diff1))  # <class 'datetime.timedelta'>"
   ]
  },
  {
   "cell_type": "markdown",
   "metadata": {},
   "source": [
    "# 문자열을 datetime 오브젝트로 변환하기"
   ]
  },
  {
   "cell_type": "code",
   "execution_count": 5,
   "metadata": {},
   "outputs": [],
   "source": [
    "import pandas as pd\n",
    "import os\n",
    "\n",
    "ebola = pd.read_csv('../data/country_timeseries.csv')"
   ]
  },
  {
   "cell_type": "code",
   "execution_count": 6,
   "metadata": {},
   "outputs": [
    {
     "name": "stdout",
     "output_type": "stream",
     "text": [
      "<class 'pandas.core.frame.DataFrame'>\n",
      "RangeIndex: 122 entries, 0 to 121\n",
      "Data columns (total 18 columns):\n",
      "Date                   122 non-null object\n",
      "Day                    122 non-null int64\n",
      "Cases_Guinea           93 non-null float64\n",
      "Cases_Liberia          83 non-null float64\n",
      "Cases_SierraLeone      87 non-null float64\n",
      "Cases_Nigeria          38 non-null float64\n",
      "Cases_Senegal          25 non-null float64\n",
      "Cases_UnitedStates     18 non-null float64\n",
      "Cases_Spain            16 non-null float64\n",
      "Cases_Mali             12 non-null float64\n",
      "Deaths_Guinea          92 non-null float64\n",
      "Deaths_Liberia         81 non-null float64\n",
      "Deaths_SierraLeone     87 non-null float64\n",
      "Deaths_Nigeria         38 non-null float64\n",
      "Deaths_Senegal         22 non-null float64\n",
      "Deaths_UnitedStates    18 non-null float64\n",
      "Deaths_Spain           16 non-null float64\n",
      "Deaths_Mali            12 non-null float64\n",
      "dtypes: float64(16), int64(1), object(1)\n",
      "memory usage: 17.2+ KB\n",
      "None\n"
     ]
    }
   ],
   "source": [
    "print(ebola.info())  # Date : 122 non-null object"
   ]
  },
  {
   "cell_type": "code",
   "execution_count": 7,
   "metadata": {},
   "outputs": [
    {
     "name": "stdout",
     "output_type": "stream",
     "text": [
      "<class 'pandas.core.frame.DataFrame'>\n",
      "RangeIndex: 122 entries, 0 to 121\n",
      "Data columns (total 19 columns):\n",
      "Date                   122 non-null object\n",
      "Day                    122 non-null int64\n",
      "Cases_Guinea           93 non-null float64\n",
      "Cases_Liberia          83 non-null float64\n",
      "Cases_SierraLeone      87 non-null float64\n",
      "Cases_Nigeria          38 non-null float64\n",
      "Cases_Senegal          25 non-null float64\n",
      "Cases_UnitedStates     18 non-null float64\n",
      "Cases_Spain            16 non-null float64\n",
      "Cases_Mali             12 non-null float64\n",
      "Deaths_Guinea          92 non-null float64\n",
      "Deaths_Liberia         81 non-null float64\n",
      "Deaths_SierraLeone     87 non-null float64\n",
      "Deaths_Nigeria         38 non-null float64\n",
      "Deaths_Senegal         22 non-null float64\n",
      "Deaths_UnitedStates    18 non-null float64\n",
      "Deaths_Spain           16 non-null float64\n",
      "Deaths_Mali            12 non-null float64\n",
      "date_dt                122 non-null datetime64[ns]\n",
      "dtypes: datetime64[ns](1), float64(16), int64(1), object(1)\n",
      "memory usage: 18.2+ KB\n",
      "None\n"
     ]
    }
   ],
   "source": [
    "# 시계열 데이터를 문자열로 저장해야할 때도 있지만, 문자열은 시간계산을 할 수 없으므로 datetime오브젝트로 변환해야함\n",
    "ebola['date_dt'] = pd.to_datetime(ebola['Date'])\n",
    "print(ebola.info())  # date_dt :122 non-null datetime64[ns]"
   ]
  },
  {
   "cell_type": "code",
   "execution_count": 9,
   "metadata": {},
   "outputs": [
    {
     "name": "stdout",
     "output_type": "stream",
     "text": [
      "  order_day   date_dt1   date_dt2   date_dt3\n",
      "0  01/01/15 2015-01-01 2015-01-01 2001-01-15\n",
      "1  02/01/15 2015-01-02 2015-02-01 2002-01-15\n",
      "2  03/01/15 2015-01-03 2015-03-01 2003-01-15\n"
     ]
    }
   ],
   "source": [
    "# 시간형식지정자(%d, %m, %y)와 기호(/, -)를 적절히 조합해 format인자에 전달하면 그 형식에 맞게 정리된 datetime오브젝트를 얻을 수 있음\n",
    "test_df1 = pd.DataFrame({'order_day': ['01/01/15', '02/01/15', '03/01/15']})\n",
    "\n",
    "test_df1['date_dt1'] = pd.to_datetime(test_df1['order_day'], format='%d/%m/%y')\n",
    "test_df1['date_dt2'] = pd.to_datetime(test_df1['order_day'], format='%m/%d/%y')\n",
    "test_df1['date_dt3'] = pd.to_datetime(test_df1['order_day'], format='%y/%m/%d')\n",
    "\n",
    "print(test_df1)\n",
    "\n",
    "#   order_day   date_dt1   date_dt2   date_dt3\n",
    "# 0  01/01/15 2015-01-01 2015-01-01 2001-01-15\n",
    "# 1  02/01/15 2015-01-02 2015-02-01 2002-01-15\n",
    "# 2  03/01/15 2015-01-03 2015-03-01 2003-01-15"
   ]
  },
  {
   "cell_type": "markdown",
   "metadata": {},
   "source": [
    "# 시간 데이터를 잘라내고 싶어요"
   ]
  },
  {
   "cell_type": "code",
   "execution_count": 10,
   "metadata": {},
   "outputs": [
    {
     "name": "stdout",
     "output_type": "stream",
     "text": [
      "2019-10-11\n",
      "09:34:16\n",
      "2019-10-11 09:34:16\n"
     ]
    }
   ],
   "source": [
    "# 내가 원하는 시계열 데이터의 시간요소가 연, 월, 일뿐이라면 now메서드로 얻은 시계열데이터를 잘라내야함. -> strftime 사용\n",
    "now = datetime.now()\n",
    "nowDate = now.strftime('%Y-%m-%d')\n",
    "nowTime = now.strftime('%H:%M:%S')\n",
    "nowDateTime = now.strftime('%Y-%m-%d %H:%M:%S')\n",
    "\n",
    "print(nowDate)  # 2019-10-11\n",
    "print(nowTime)  # 09:34:16\n",
    "print(nowDateTime)  # 2019-10-11 09:34:16"
   ]
  },
  {
   "cell_type": "markdown",
   "metadata": {},
   "source": [
    "# datetime 오브젝트로 변환하려는 열을 지정하여 데이터 집합 불러오기"
   ]
  },
  {
   "cell_type": "code",
   "execution_count": 11,
   "metadata": {},
   "outputs": [
    {
     "name": "stdout",
     "output_type": "stream",
     "text": [
      "<class 'pandas.core.frame.DataFrame'>\n",
      "RangeIndex: 122 entries, 0 to 121\n",
      "Data columns (total 18 columns):\n",
      "Date                   122 non-null datetime64[ns]\n",
      "Day                    122 non-null int64\n",
      "Cases_Guinea           93 non-null float64\n",
      "Cases_Liberia          83 non-null float64\n",
      "Cases_SierraLeone      87 non-null float64\n",
      "Cases_Nigeria          38 non-null float64\n",
      "Cases_Senegal          25 non-null float64\n",
      "Cases_UnitedStates     18 non-null float64\n",
      "Cases_Spain            16 non-null float64\n",
      "Cases_Mali             12 non-null float64\n",
      "Deaths_Guinea          92 non-null float64\n",
      "Deaths_Liberia         81 non-null float64\n",
      "Deaths_SierraLeone     87 non-null float64\n",
      "Deaths_Nigeria         38 non-null float64\n",
      "Deaths_Senegal         22 non-null float64\n",
      "Deaths_UnitedStates    18 non-null float64\n",
      "Deaths_Spain           16 non-null float64\n",
      "Deaths_Mali            12 non-null float64\n",
      "dtypes: datetime64[ns](1), float64(16), int64(1)\n",
      "memory usage: 17.2 KB\n",
      "None\n"
     ]
    }
   ],
   "source": [
    "# 열 지정해서 데이터 집합 불러오기 -> read_csv의 parse_dates인자\n",
    "ebola1 = pd.read_csv('../data/country_timeseries.csv', parse_dates=['Date'])\n",
    "print(ebola1.info())  # Date : 122 non-null datetime64[ns]"
   ]
  },
  {
   "cell_type": "markdown",
   "metadata": {},
   "source": [
    "# datetime 오브젝트에서 날짜 정보 추출하기"
   ]
  },
  {
   "cell_type": "code",
   "execution_count": 14,
   "metadata": {},
   "outputs": [
    {
     "name": "stdout",
     "output_type": "stream",
     "text": [
      "0   2018-05-16\n",
      "1   2018-05-17\n",
      "2   2018-05-18\n",
      "dtype: datetime64[ns]\n"
     ]
    }
   ],
   "source": [
    "# 문자열로 저장된 날짜를 시리즈에 담아 datetime 오브젝트로 변환\n",
    "date_series = pd.Series(['2018-05-16', '2018-05-17', '2018-05-18'])\n",
    "d1 = pd.to_datetime(date_series)\n",
    "print(d1)\n",
    "\n",
    "# 0   2018-05-16\n",
    "# 1   2018-05-17\n",
    "# 2   2018-05-18\n",
    "# dtype: datetime64[ns]"
   ]
  },
  {
   "cell_type": "code",
   "execution_count": 15,
   "metadata": {},
   "outputs": [
    {
     "name": "stdout",
     "output_type": "stream",
     "text": [
      "2018\n",
      "5\n",
      "16\n"
     ]
    }
   ],
   "source": [
    "print(d1[0].year)  # 2018\n",
    "print(d1[0].month)  # 5\n",
    "print(d1[0].day)  # 16"
   ]
  },
  {
   "cell_type": "markdown",
   "metadata": {},
   "source": [
    "# dt 접근자로 시간 데이터 정리하기"
   ]
  },
  {
   "cell_type": "code",
   "execution_count": 17,
   "metadata": {},
   "outputs": [
    {
     "name": "stdout",
     "output_type": "stream",
     "text": [
      "         Date    date_dt\n",
      "0    1/5/2015 2015-01-05\n",
      "1    1/4/2015 2015-01-04\n",
      "2    1/3/2015 2015-01-03\n",
      "3    1/2/2015 2015-01-02\n",
      "4  12/31/2014 2014-12-31\n",
      "2015\n",
      "1\n",
      "2\n"
     ]
    }
   ],
   "source": [
    "# dt접근자 이용X\n",
    "ebola = pd.read_csv('../data/country_timeseries.csv')\n",
    "ebola['date_dt'] = pd.to_datetime(ebola['Date'])\n",
    "print(ebola[['Date', 'date_dt']].head())\n",
    "        #          Date    date_dt\n",
    "        # 0    1/5/2015 2015-01-05\n",
    "        # 1    1/4/2015 2015-01-04\n",
    "        # 2    1/3/2015 2015-01-03\n",
    "        # 3    1/2/2015 2015-01-02\n",
    "        # 4  12/31/2014 2014-12-31\n",
    "\n",
    "print(ebola['date_dt'][3].year)  # 2015\n",
    "print(ebola['date_dt'][3].month)  # 1\n",
    "print(ebola['date_dt'][3].day)  # 2"
   ]
  },
  {
   "cell_type": "code",
   "execution_count": 18,
   "metadata": {},
   "outputs": [
    {
     "name": "stdout",
     "output_type": "stream",
     "text": [
      "         Date    date_dt  year\n",
      "0    1/5/2015 2015-01-05  2015\n",
      "1    1/4/2015 2015-01-04  2015\n",
      "2    1/3/2015 2015-01-03  2015\n",
      "3    1/2/2015 2015-01-02  2015\n",
      "4  12/31/2014 2014-12-31  2014\n"
     ]
    }
   ],
   "source": [
    "# 문자열을 처리하려면 str 접근자를 사용한 다음 문자열 속성이나 메서드를 이용해야함.\n",
    "# datetime 오브젝트도 마찬가지로 dt접근자를 사용하면 datetime속성이나 메서드를 사용해 시계열 데이터 처리 가능\n",
    "ebola['year'] = ebola['date_dt'].dt.year\n",
    "print(ebola[['Date', 'date_dt', 'year']].head())\n",
    "\n",
    "#          Date    date_dt  year\n",
    "# 0    1/5/2015 2015-01-05  2015\n",
    "# 1    1/4/2015 2015-01-04  2015\n",
    "# 2    1/3/2015 2015-01-03  2015\n",
    "# 3    1/2/2015 2015-01-02  2015\n",
    "# 4  12/31/2014 2014-12-31  2014"
   ]
  },
  {
   "cell_type": "code",
   "execution_count": 19,
   "metadata": {},
   "outputs": [
    {
     "name": "stdout",
     "output_type": "stream",
     "text": [
      "         Date    date_dt  year  month  day\n",
      "0    1/5/2015 2015-01-05  2015      1    5\n",
      "1    1/4/2015 2015-01-04  2015      1    4\n",
      "2    1/3/2015 2015-01-03  2015      1    3\n",
      "3    1/2/2015 2015-01-02  2015      1    2\n",
      "4  12/31/2014 2014-12-31  2014     12   31\n"
     ]
    }
   ],
   "source": [
    "# 월, 일 데이터를 한번에 추출해서 새로운 열로 추가\n",
    "ebola['month'], ebola['day'] = (ebola['date_dt'].dt.month, ebola['date_dt'].dt.day)\n",
    "print(ebola[['Date', 'date_dt', 'year', 'month', 'day']].head())"
   ]
  },
  {
   "cell_type": "code",
   "execution_count": 20,
   "metadata": {},
   "outputs": [
    {
     "name": "stdout",
     "output_type": "stream",
     "text": [
      "<class 'pandas.core.frame.DataFrame'>\n",
      "RangeIndex: 122 entries, 0 to 121\n",
      "Data columns (total 22 columns):\n",
      "Date                   122 non-null object\n",
      "Day                    122 non-null int64\n",
      "Cases_Guinea           93 non-null float64\n",
      "Cases_Liberia          83 non-null float64\n",
      "Cases_SierraLeone      87 non-null float64\n",
      "Cases_Nigeria          38 non-null float64\n",
      "Cases_Senegal          25 non-null float64\n",
      "Cases_UnitedStates     18 non-null float64\n",
      "Cases_Spain            16 non-null float64\n",
      "Cases_Mali             12 non-null float64\n",
      "Deaths_Guinea          92 non-null float64\n",
      "Deaths_Liberia         81 non-null float64\n",
      "Deaths_SierraLeone     87 non-null float64\n",
      "Deaths_Nigeria         38 non-null float64\n",
      "Deaths_Senegal         22 non-null float64\n",
      "Deaths_UnitedStates    18 non-null float64\n",
      "Deaths_Spain           16 non-null float64\n",
      "Deaths_Mali            12 non-null float64\n",
      "date_dt                122 non-null datetime64[ns]\n",
      "year                   122 non-null int64\n",
      "month                  122 non-null int64\n",
      "day                    122 non-null int64\n",
      "dtypes: datetime64[ns](1), float64(16), int64(4), object(1)\n",
      "memory usage: 21.0+ KB\n",
      "None\n"
     ]
    }
   ],
   "source": [
    "print(ebola.info())\n",
    "\n",
    "# 연, 월, 일 => 정수\n",
    "# year                   122 non-null int64\n",
    "# month                  122 non-null int64\n",
    "# day                    122 non-null int64"
   ]
  },
  {
   "cell_type": "markdown",
   "metadata": {},
   "source": [
    "# 에볼라 최초 발생일 계산해보기"
   ]
  },
  {
   "cell_type": "code",
   "execution_count": 21,
   "metadata": {},
   "outputs": [
    {
     "name": "stdout",
     "output_type": "stream",
     "text": [
      "          Date  Day  Cases_Guinea  Cases_Liberia  Cases_SierraLeone\n",
      "117  3/27/2014    5         103.0            8.0                6.0\n",
      "118  3/26/2014    4          86.0            NaN                NaN\n",
      "119  3/25/2014    3          86.0            NaN                NaN\n",
      "120  3/24/2014    2          86.0            NaN                NaN\n",
      "121  3/22/2014    0          49.0            NaN                NaN\n"
     ]
    }
   ],
   "source": [
    "# 시간순으로 살펴보려면 데이터프레임의 마지막부터 살펴봐야함\n",
    "print(ebola.iloc[-5:, :5])"
   ]
  },
  {
   "cell_type": "code",
   "execution_count": 22,
   "metadata": {},
   "outputs": [
    {
     "name": "stdout",
     "output_type": "stream",
     "text": [
      "2014-03-22 00:00:00\n",
      "<class 'pandas._libs.tslibs.timestamps.Timestamp'>\n"
     ]
    }
   ],
   "source": [
    "# min을 이용해 에볼라의 최초 발병일 찾기\n",
    "print(ebola['date_dt'].min())  # 2014-03-22 00:00:00\n",
    "print(type(ebola['date_dt'].min()))  # timestamps: Datetime 오브젝트와 호환되는 자료형"
   ]
  },
  {
   "cell_type": "code",
   "execution_count": 26,
   "metadata": {},
   "outputs": [
    {
     "name": "stdout",
     "output_type": "stream",
     "text": [
      "         Date  Day outbreak_d\n",
      "0    1/5/2015  289   289 days\n",
      "1    1/4/2015  288   288 days\n",
      "2    1/3/2015  287   287 days\n",
      "3    1/2/2015  286   286 days\n",
      "4  12/31/2014  284   284 days\n"
     ]
    }
   ],
   "source": [
    "# Date열에서 에볼라의 최초 발병일을 빼면 에볼라의 진행 정도를 알 수 있음\n",
    "ebola['outbreak_d'] = ebola['date_dt'] - ebola['date_dt'].min()\n",
    "print(ebola[['Date', 'Day', 'outbreak_d']].head())\n",
    "\n",
    "#          Date  Day outbreak_d\n",
    "# 0    1/5/2015  289   289 days\n",
    "# 1    1/4/2015  288   288 days\n",
    "# 2    1/3/2015  287   287 days\n",
    "# 3    1/2/2015  286   286 days\n",
    "# 4  12/31/2014  284   284 days"
   ]
  },
  {
   "cell_type": "markdown",
   "metadata": {},
   "source": [
    "# 파산한 은행의 개수 계산하기"
   ]
  },
  {
   "cell_type": "code",
   "execution_count": 27,
   "metadata": {},
   "outputs": [
    {
     "name": "stdout",
     "output_type": "stream",
     "text": [
      "                                           Bank Name         City  ST   CERT  \\\n",
      "0                Washington Federal Bank for Savings      Chicago  IL  30570   \n",
      "1    The Farmers and Merchants State Bank of Argonia      Argonia  KS  17719   \n",
      "2                                Fayette County Bank   Saint Elmo  IL   1802   \n",
      "3  Guaranty Bank, (d/b/a BestBank in Georgia & Mi...    Milwaukee  WI  30003   \n",
      "4                                     First NBC Bank  New Orleans  LA  58302   \n",
      "\n",
      "                 Acquiring Institution Closing Date Updated Date  \n",
      "0                   Royal Savings Bank    15-Dec-17    20-Dec-17  \n",
      "1                          Conway Bank    13-Oct-17    20-Oct-17  \n",
      "2            United Fidelity Bank, fsb    26-May-17    26-Jul-17  \n",
      "3  First-Citizens Bank & Trust Company     5-May-17    26-Jul-17  \n",
      "4                         Whitney Bank    28-Apr-17     5-Dec-17  \n"
     ]
    }
   ],
   "source": [
    "banks = pd.read_csv('../data/banklist.csv')\n",
    "print(banks.head())"
   ]
  },
  {
   "cell_type": "code",
   "execution_count": 28,
   "metadata": {},
   "outputs": [
    {
     "name": "stdout",
     "output_type": "stream",
     "text": [
      "                                             Bank Name                City  \\\n",
      "0                  Washington Federal Bank for Savings             Chicago   \n",
      "1      The Farmers and Merchants State Bank of Argonia             Argonia   \n",
      "2                                  Fayette County Bank          Saint Elmo   \n",
      "3    Guaranty Bank, (d/b/a BestBank in Georgia & Mi...           Milwaukee   \n",
      "4                                       First NBC Bank         New Orleans   \n",
      "5                                        Proficio Bank  Cottonwood Heights   \n",
      "6                        Seaway Bank and Trust Company             Chicago   \n",
      "7                               Harvest Community Bank          Pennsville   \n",
      "8                                          Allied Bank            Mulberry   \n",
      "9                         The Woodbury Banking Company            Woodbury   \n",
      "10                              First CornerStone Bank     King of Prussia   \n",
      "11                                  Trust Company Bank             Memphis   \n",
      "12                          North Milwaukee State Bank           Milwaukee   \n",
      "13                              Hometown National Bank            Longview   \n",
      "14                                 The Bank of Georgia      Peachtree City   \n",
      "15                                        Premier Bank              Denver   \n",
      "16                                      Edgebrook Bank             Chicago   \n",
      "17                                          Doral Bank            San Juan   \n",
      "18                   Capitol City Bank & Trust Company             Atlanta   \n",
      "19                             Highland Community Bank             Chicago   \n",
      "20                   First National Bank of Crestview            Crestview   \n",
      "21                                  Northern Star Bank             Mankato   \n",
      "22              Frontier Bank, FSB D/B/A El Paseo Bank         Palm Desert   \n",
      "23               The National Republic Bank of Chicago             Chicago   \n",
      "24                                      NBRS Financial          Rising Sun   \n",
      "25                               GreenChoice Bank, fsb             Chicago   \n",
      "26                            Eastside Commercial Bank             Conyers   \n",
      "27                             The Freedom State Bank              Freedom   \n",
      "28                                         Valley Bank     Fort Lauderdale   \n",
      "29                                         Valley Bank              Moline   \n",
      "..                                                 ...                 ...   \n",
      "525                                  ANB Financial, NA         Bentonville   \n",
      "526                                          Hume Bank                Hume   \n",
      "527                             Douglass National Bank         Kansas City   \n",
      "528                                  Miami Valley Bank            Lakeview   \n",
      "529                                            NetBank          Alpharetta   \n",
      "530                          Metropolitan Savings Bank          Pittsburgh   \n",
      "531                                    Bank of Ephraim             Ephraim   \n",
      "532                                      Reliance Bank        White Plains   \n",
      "533              Guaranty National Bank of Tallahassee         Tallahassee   \n",
      "534                                Dollar Savings Bank              Newark   \n",
      "535                               Pulaski Savings Bank        Philadelphia   \n",
      "536              First National Bank of Blanchardville      Blanchardville   \n",
      "537                              Southern Pacific Bank            Torrance   \n",
      "538                        Farmers Bank of Cheneyville         Cheneyville   \n",
      "539                                      Bank of Alamo               Alamo   \n",
      "540                         AmTrade International Bank             Atlanta   \n",
      "541                     Universal Federal Savings Bank             Chicago   \n",
      "542                       Connecticut Bank of Commerce            Stamford   \n",
      "543                                   New Century Bank     Shelby Township   \n",
      "544                              Net 1st National Bank          Boca Raton   \n",
      "545                                       NextBank, NA             Phoenix   \n",
      "546                           Oakwood Deposit Bank Co.             Oakwood   \n",
      "547                              Bank of Sierra Blanca       Sierra Blanca   \n",
      "548                                  Hamilton Bank, NA               Miami   \n",
      "549                             Sinclair National Bank            Gravette   \n",
      "550                                 Superior Bank, FSB            Hinsdale   \n",
      "551                                Malta National Bank               Malta   \n",
      "552                    First Alliance Bank & Trust Co.          Manchester   \n",
      "553                  National State Bank of Metropolis          Metropolis   \n",
      "554                                   Bank of Honolulu            Honolulu   \n",
      "\n",
      "     ST   CERT                Acquiring Institution Closing Date Updated Date  \n",
      "0    IL  30570                   Royal Savings Bank   2017-12-15   2017-12-20  \n",
      "1    KS  17719                          Conway Bank   2017-10-13   2017-10-20  \n",
      "2    IL   1802            United Fidelity Bank, fsb   2017-05-26   2017-07-26  \n",
      "3    WI  30003  First-Citizens Bank & Trust Company   2017-05-05   2017-07-26  \n",
      "4    LA  58302                         Whitney Bank   2017-04-28   2017-12-05  \n",
      "5    UT  35495                    Cache Valley Bank   2017-03-03   2017-05-18  \n",
      "6    IL  19328                  State Bank of Texas   2017-01-27   2017-05-18  \n",
      "7    NJ  34951  First-Citizens Bank & Trust Company   2017-01-13   2017-05-18  \n",
      "8    AR     91                         Today's Bank   2016-09-23   2017-09-25  \n",
      "9    GA  11297                          United Bank   2016-08-19   2017-06-01  \n",
      "10   PA  35312  First-Citizens Bank & Trust Company   2016-05-06   2016-09-06  \n",
      "11   TN   9956           The Bank of Fayette County   2016-04-29   2016-09-06  \n",
      "12   WI  20364  First-Citizens Bank & Trust Company   2016-03-11   2017-03-13  \n",
      "13   WA  35156                       Twin City Bank   2015-10-02   2018-01-12  \n",
      "14   GA  35259                        Fidelity Bank   2015-10-02   2016-10-24  \n",
      "15   CO  34112            United Fidelity Bank, fsb   2015-07-10   2016-08-17  \n",
      "16   IL  57772             Republic Bank of Chicago   2015-05-08   2016-07-12  \n",
      "17   PR  32102         Banco Popular de Puerto Rico   2015-02-27   2015-05-13  \n",
      "18   GA  33938  First-Citizens Bank & Trust Company   2015-02-13   2015-04-21  \n",
      "19   IL  20290            United Fidelity Bank, fsb   2015-01-23   2017-11-15  \n",
      "20   FL  17557                       First NBC Bank   2015-01-16   2017-11-15  \n",
      "21   MN  34983                            BankVista   2014-12-19   2018-01-03  \n",
      "22   CA  34738    Bank of Southern California, N.A.   2014-11-07   2016-11-10  \n",
      "23   IL    916                  State Bank of Texas   2014-10-24   2016-01-06  \n",
      "24   MD   4862                          Howard Bank   2014-10-17   2018-01-12  \n",
      "25   IL  28462                 Providence Bank, LLC   2014-07-25   2016-12-12  \n",
      "26   GA  58125            Community & Southern Bank   2014-07-18   2017-10-06  \n",
      "27   OK  12483      Alva State Bank & Trust Company   2014-06-27   2016-03-25  \n",
      "28   FL  21793  Landmark Bank, National Association   2014-06-20   2017-10-06  \n",
      "29   IL  10450                  Great Southern Bank   2014-06-20   2015-06-26  \n",
      "..   ..    ...                                  ...          ...          ...  \n",
      "525  AR  33901       Pulaski Bank and Trust Company   2008-05-09   2012-08-28  \n",
      "526  MO   1971                        Security Bank   2008-03-07   2012-08-28  \n",
      "527  MO  24660       Liberty Bank and Trust Company   2008-01-25   2012-10-26  \n",
      "528  OH  16848         The Citizens Banking Company   2007-10-04   2016-09-12  \n",
      "529  GA  32575                           ING DIRECT   2007-09-28   2012-08-28  \n",
      "530  PA  35353  Allegheny Valley Bank of Pittsburgh   2007-02-02   2010-10-27  \n",
      "531  UT   1249                        Far West Bank   2004-06-25   2008-04-09  \n",
      "532  NY  26778                     Union State Bank   2004-03-19   2008-04-09  \n",
      "533  FL  26838              Hancock Bank of Florida   2004-03-12   2012-06-05  \n",
      "534  NJ  31330                          No Acquirer   2004-02-14   2008-04-09  \n",
      "535  PA  27203                       Earthstar Bank   2003-11-14   2017-10-06  \n",
      "536  WI  11639                        The Park Bank   2003-05-09   2012-06-05  \n",
      "537  CA  27094                            Beal Bank   2003-02-07   2008-10-20  \n",
      "538  LA  16445            Sabine State Bank & Trust   2002-12-17   2004-10-20  \n",
      "539  TN   9961                          No Acquirer   2002-11-08   2005-03-18  \n",
      "540  GA  33784                          No Acquirer   2002-09-30   2006-09-11  \n",
      "541  IL  29355               Chicago Community Bank   2002-06-27   2017-10-06  \n",
      "542  CT  19183                   Hudson United Bank   2002-06-26   2012-02-14  \n",
      "543  MI  34979                          No Acquirer   2002-03-28   2005-03-18  \n",
      "544  FL  26652                       Bank Leumi USA   2002-03-01   2008-04-09  \n",
      "545  AZ  22314                          No Acquirer   2002-02-07   2015-02-05  \n",
      "546  OH   8966       The State Bank & Trust Company   2002-02-01   2012-10-25  \n",
      "547  TX  22002     The Security State Bank of Pecos   2002-01-18   2003-11-06  \n",
      "548  FL  24382     Israel Discount Bank of New York   2002-01-11   2015-09-21  \n",
      "549  AR  34248                   Delta Trust & Bank   2001-09-07   2017-10-06  \n",
      "550  IL  32646                Superior Federal, FSB   2001-07-27   2014-08-19  \n",
      "551  OH   6629                    North Valley Bank   2001-05-03   2002-11-18  \n",
      "552  NH  34264  Southern New Hampshire Bank & Trust   2001-02-02   2003-02-18  \n",
      "553  IL   3815              Banterra Bank of Marion   2000-12-14   2005-03-17  \n",
      "554  HI  21029                   Bank of the Orient   2000-10-13   2005-03-17  \n",
      "\n",
      "[555 rows x 7 columns]\n"
     ]
    }
   ],
   "source": [
    "# read_csv 메서드의 parse_dates 속성을 이용해 문자열로 저장된 두 열을 datetime오브젝트로 변환하여 불러옴\n",
    "banks_no_dates = pd.read_csv('../data/banklist.csv', parse_dates=[5, 6])\n",
    "print(banks_no_dates)"
   ]
  },
  {
   "cell_type": "code",
   "execution_count": 32,
   "metadata": {},
   "outputs": [
    {
     "ename": "AttributeError",
     "evalue": "Can only use .dt accessor with datetimelike values",
     "output_type": "error",
     "traceback": [
      "\u001b[1;31m---------------------------------------------------------------------------\u001b[0m",
      "\u001b[1;31mAttributeError\u001b[0m                            Traceback (most recent call last)",
      "\u001b[1;32m<ipython-input-32-47c44e038953>\u001b[0m in \u001b[0;36m<module>\u001b[1;34m\u001b[0m\n\u001b[0;32m      1\u001b[0m \u001b[1;31m# 은행이 파산한 분기, 연도를 새로 추가\u001b[0m\u001b[1;33m\u001b[0m\u001b[1;33m\u001b[0m\u001b[1;33m\u001b[0m\u001b[0m\n\u001b[1;32m----> 2\u001b[1;33m \u001b[0mbanks\u001b[0m\u001b[1;33m[\u001b[0m\u001b[1;34m'closing_quarter'\u001b[0m\u001b[1;33m]\u001b[0m\u001b[1;33m,\u001b[0m \u001b[0mbanks\u001b[0m\u001b[1;33m[\u001b[0m\u001b[1;34m'closing_year'\u001b[0m\u001b[1;33m]\u001b[0m \u001b[1;33m=\u001b[0m \u001b[1;33m(\u001b[0m\u001b[0mbanks\u001b[0m\u001b[1;33m[\u001b[0m\u001b[1;34m'Closing Date'\u001b[0m\u001b[1;33m]\u001b[0m\u001b[1;33m.\u001b[0m\u001b[0mdt\u001b[0m\u001b[1;33m.\u001b[0m\u001b[0mquarter\u001b[0m\u001b[1;33m,\u001b[0m \u001b[0mbanks\u001b[0m\u001b[1;33m[\u001b[0m\u001b[1;34m'Closing Date'\u001b[0m\u001b[1;33m]\u001b[0m\u001b[1;33m.\u001b[0m\u001b[0mdt\u001b[0m\u001b[1;33m.\u001b[0m\u001b[0myear\u001b[0m\u001b[1;33m)\u001b[0m\u001b[1;33m\u001b[0m\u001b[1;33m\u001b[0m\u001b[0m\n\u001b[0m\u001b[0;32m      3\u001b[0m \u001b[1;31m# print(banks.head())\u001b[0m\u001b[1;33m\u001b[0m\u001b[1;33m\u001b[0m\u001b[1;33m\u001b[0m\u001b[0m\n",
      "\u001b[1;32m~\\Anaconda3\\lib\\site-packages\\pandas\\core\\generic.py\u001b[0m in \u001b[0;36m__getattr__\u001b[1;34m(self, name)\u001b[0m\n\u001b[0;32m   5061\u001b[0m         if (name in self._internal_names_set or name in self._metadata or\n\u001b[0;32m   5062\u001b[0m                 name in self._accessors):\n\u001b[1;32m-> 5063\u001b[1;33m             \u001b[1;32mreturn\u001b[0m \u001b[0mobject\u001b[0m\u001b[1;33m.\u001b[0m\u001b[0m__getattribute__\u001b[0m\u001b[1;33m(\u001b[0m\u001b[0mself\u001b[0m\u001b[1;33m,\u001b[0m \u001b[0mname\u001b[0m\u001b[1;33m)\u001b[0m\u001b[1;33m\u001b[0m\u001b[1;33m\u001b[0m\u001b[0m\n\u001b[0m\u001b[0;32m   5064\u001b[0m         \u001b[1;32melse\u001b[0m\u001b[1;33m:\u001b[0m\u001b[1;33m\u001b[0m\u001b[1;33m\u001b[0m\u001b[0m\n\u001b[0;32m   5065\u001b[0m             \u001b[1;32mif\u001b[0m \u001b[0mself\u001b[0m\u001b[1;33m.\u001b[0m\u001b[0m_info_axis\u001b[0m\u001b[1;33m.\u001b[0m\u001b[0m_can_hold_identifiers_and_holds_name\u001b[0m\u001b[1;33m(\u001b[0m\u001b[0mname\u001b[0m\u001b[1;33m)\u001b[0m\u001b[1;33m:\u001b[0m\u001b[1;33m\u001b[0m\u001b[1;33m\u001b[0m\u001b[0m\n",
      "\u001b[1;32m~\\Anaconda3\\lib\\site-packages\\pandas\\core\\accessor.py\u001b[0m in \u001b[0;36m__get__\u001b[1;34m(self, obj, cls)\u001b[0m\n\u001b[0;32m    169\u001b[0m             \u001b[1;31m# we're accessing the attribute of the class, i.e., Dataset.geo\u001b[0m\u001b[1;33m\u001b[0m\u001b[1;33m\u001b[0m\u001b[1;33m\u001b[0m\u001b[0m\n\u001b[0;32m    170\u001b[0m             \u001b[1;32mreturn\u001b[0m \u001b[0mself\u001b[0m\u001b[1;33m.\u001b[0m\u001b[0m_accessor\u001b[0m\u001b[1;33m\u001b[0m\u001b[1;33m\u001b[0m\u001b[0m\n\u001b[1;32m--> 171\u001b[1;33m         \u001b[0maccessor_obj\u001b[0m \u001b[1;33m=\u001b[0m \u001b[0mself\u001b[0m\u001b[1;33m.\u001b[0m\u001b[0m_accessor\u001b[0m\u001b[1;33m(\u001b[0m\u001b[0mobj\u001b[0m\u001b[1;33m)\u001b[0m\u001b[1;33m\u001b[0m\u001b[1;33m\u001b[0m\u001b[0m\n\u001b[0m\u001b[0;32m    172\u001b[0m         \u001b[1;31m# Replace the property with the accessor object. Inspired by:\u001b[0m\u001b[1;33m\u001b[0m\u001b[1;33m\u001b[0m\u001b[1;33m\u001b[0m\u001b[0m\n\u001b[0;32m    173\u001b[0m         \u001b[1;31m# http://www.pydanny.com/cached-property.html\u001b[0m\u001b[1;33m\u001b[0m\u001b[1;33m\u001b[0m\u001b[1;33m\u001b[0m\u001b[0m\n",
      "\u001b[1;32m~\\Anaconda3\\lib\\site-packages\\pandas\\core\\indexes\\accessors.py\u001b[0m in \u001b[0;36m__new__\u001b[1;34m(cls, data)\u001b[0m\n\u001b[0;32m    322\u001b[0m             \u001b[1;32mpass\u001b[0m  \u001b[1;31m# we raise an attribute error anyway\u001b[0m\u001b[1;33m\u001b[0m\u001b[1;33m\u001b[0m\u001b[0m\n\u001b[0;32m    323\u001b[0m \u001b[1;33m\u001b[0m\u001b[0m\n\u001b[1;32m--> 324\u001b[1;33m         raise AttributeError(\"Can only use .dt accessor with datetimelike \"\n\u001b[0m\u001b[0;32m    325\u001b[0m                              \"values\")\n",
      "\u001b[1;31mAttributeError\u001b[0m: Can only use .dt accessor with datetimelike values"
     ]
    }
   ],
   "source": [
    "# 은행이 파산한 분기, 연도를 새로 추가\n",
    "banks['closing_quarter'], banks['closing_year'] = (banks['Closing Date'].dt.quarter, banks['Closing Date'].dt.year)\n",
    "# print(banks.head())"
   ]
  },
  {
   "cell_type": "code",
   "execution_count": null,
   "metadata": {},
   "outputs": [],
   "source": [
    "closing_year = banks.groupby(['closing_year']).size()\n",
    "print(colsing_year)"
   ]
  },
  {
   "cell_type": "code",
   "execution_count": null,
   "metadata": {},
   "outputs": [],
   "source": [
    "# 연도별로 그룹화한 다음, 분기별로 그룹화\n",
    "closing_year_q = banks.groupby(['closing_year', 'closing_quarter']).size()\n",
    "print(closing_year_q)"
   ]
  },
  {
   "cell_type": "code",
   "execution_count": 36,
   "metadata": {},
   "outputs": [
    {
     "ename": "NameError",
     "evalue": "name 'closing_year' is not defined",
     "output_type": "error",
     "traceback": [
      "\u001b[1;31m---------------------------------------------------------------------------\u001b[0m",
      "\u001b[1;31mNameError\u001b[0m                                 Traceback (most recent call last)",
      "\u001b[1;32m<ipython-input-36-3721327e8963>\u001b[0m in \u001b[0;36m<module>\u001b[1;34m\u001b[0m\n\u001b[0;32m      3\u001b[0m \u001b[1;33m\u001b[0m\u001b[0m\n\u001b[0;32m      4\u001b[0m \u001b[0mfig\u001b[0m\u001b[1;33m,\u001b[0m \u001b[0max\u001b[0m \u001b[1;33m=\u001b[0m \u001b[0mplt\u001b[0m\u001b[1;33m.\u001b[0m\u001b[0msubplots\u001b[0m\u001b[1;33m(\u001b[0m\u001b[1;33m)\u001b[0m\u001b[1;33m\u001b[0m\u001b[1;33m\u001b[0m\u001b[0m\n\u001b[1;32m----> 5\u001b[1;33m \u001b[0max\u001b[0m \u001b[1;33m=\u001b[0m \u001b[0mclosing_year\u001b[0m\u001b[1;33m.\u001b[0m\u001b[0mplot\u001b[0m\u001b[1;33m(\u001b[0m\u001b[1;33m)\u001b[0m\u001b[1;33m\u001b[0m\u001b[1;33m\u001b[0m\u001b[0m\n\u001b[0m\u001b[0;32m      6\u001b[0m \u001b[0mplt\u001b[0m\u001b[1;33m.\u001b[0m\u001b[0mshow\u001b[0m\u001b[1;33m(\u001b[0m\u001b[1;33m)\u001b[0m\u001b[1;33m\u001b[0m\u001b[1;33m\u001b[0m\u001b[0m\n",
      "\u001b[1;31mNameError\u001b[0m: name 'closing_year' is not defined"
     ]
    }
   ],
   "source": [
    "# 그래프\n",
    "import matplotlib.pyplot as plt\n",
    "\n",
    "fig, ax = plt.subplots()\n",
    "ax = closing_year.plot()\n",
    "plt.show()"
   ]
  },
  {
   "cell_type": "code",
   "execution_count": 37,
   "metadata": {},
   "outputs": [
    {
     "ename": "NameError",
     "evalue": "name 'closing_year_q' is not defined",
     "output_type": "error",
     "traceback": [
      "\u001b[1;31m---------------------------------------------------------------------------\u001b[0m",
      "\u001b[1;31mNameError\u001b[0m                                 Traceback (most recent call last)",
      "\u001b[1;32m<ipython-input-37-a16770363623>\u001b[0m in \u001b[0;36m<module>\u001b[1;34m\u001b[0m\n\u001b[0;32m      1\u001b[0m \u001b[0mfig\u001b[0m\u001b[1;33m,\u001b[0m \u001b[0max\u001b[0m \u001b[1;33m=\u001b[0m \u001b[0mplt\u001b[0m\u001b[1;33m.\u001b[0m\u001b[0msubplots\u001b[0m\u001b[1;33m(\u001b[0m\u001b[1;33m)\u001b[0m\u001b[1;33m\u001b[0m\u001b[1;33m\u001b[0m\u001b[0m\n\u001b[1;32m----> 2\u001b[1;33m \u001b[0max\u001b[0m \u001b[1;33m=\u001b[0m \u001b[0mclosing_year_q\u001b[0m\u001b[1;33m.\u001b[0m\u001b[0mplot\u001b[0m\u001b[1;33m(\u001b[0m\u001b[1;33m)\u001b[0m\u001b[1;33m\u001b[0m\u001b[1;33m\u001b[0m\u001b[0m\n\u001b[0m\u001b[0;32m      3\u001b[0m \u001b[0max\u001b[0m\u001b[1;33m.\u001b[0m\u001b[0mshow\u001b[0m\u001b[1;33m(\u001b[0m\u001b[1;33m)\u001b[0m\u001b[1;33m\u001b[0m\u001b[1;33m\u001b[0m\u001b[0m\n",
      "\u001b[1;31mNameError\u001b[0m: name 'closing_year_q' is not defined"
     ]
    },
    {
     "data": {
      "image/png": "[encoded data removed]",
      "text/plain": [
       "<Figure size 432x288 with 1 Axes>"
      ]
     },
     "metadata": {
      "needs_background": "light"
     },
     "output_type": "display_data"
    }
   ],
   "source": [
    "fig, ax = plt.subplots()\n",
    "ax = closing_year_q.plot()\n",
    "ax.show()"
   ]
  },
  {
   "cell_type": "markdown",
   "metadata": {},
   "source": [
    "# 테슬라 주식 데이터로 시간 계산하기"
   ]
  },
  {
   "cell_type": "code",
   "execution_count": null,
   "metadata": {},
   "outputs": [],
   "source": []
  },
  {
   "cell_type": "markdown",
   "metadata": {},
   "source": [
    "# datetime 오브젝트를 인덱스로 설정하여 데이터 추출하기"
   ]
  },
  {
   "cell_type": "code",
   "execution_count": null,
   "metadata": {},
   "outputs": [],
   "source": []
  },
  {
   "cell_type": "markdown",
   "metadata": {},
   "source": [
    "# 시간 간격을 인덱스로 설정하여 데이터 추출하기"
   ]
  },
  {
   "cell_type": "code",
   "execution_count": null,
   "metadata": {},
   "outputs": [],
   "source": []
  },
  {
   "cell_type": "markdown",
   "metadata": {},
   "source": [
    "# 시간 범위 생성하여 인덱스로 지정하기"
   ]
  },
  {
   "cell_type": "code",
   "execution_count": null,
   "metadata": {},
   "outputs": [],
   "source": []
  },
  {
   "cell_type": "markdown",
   "metadata": {},
   "source": [
    "# 시간 범위의 주기 설정하기"
   ]
  },
  {
   "cell_type": "code",
   "execution_count": null,
   "metadata": {},
   "outputs": [],
   "source": []
  },
  {
   "cell_type": "markdown",
   "metadata": {},
   "source": [
    "# 에볼라 발병 시간 비교하기"
   ]
  },
  {
   "cell_type": "code",
   "execution_count": null,
   "metadata": {},
   "outputs": [],
   "source": []
  }
 ],
 "metadata": {
  "kernelspec": {
   "display_name": "Python 3",
   "language": "python",
   "name": "python3"
  },
  "language_info": {
   "codemirror_mode": {
    "name": "ipython",
    "version": 3
   },
   "file_extension": ".py",
   "mimetype": "text/x-python",
   "name": "python",
   "nbconvert_exporter": "python",
   "pygments_lexer": "ipython3",
   "version": "3.7.3"
  }
 },
 "nbformat": 4,
 "nbformat_minor": 1
}
