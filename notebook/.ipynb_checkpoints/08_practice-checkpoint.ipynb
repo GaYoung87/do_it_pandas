{
 "cells": [
  {
   "cell_type": "markdown",
   "metadata": {},
   "source": [
    "# 여러 가지 자료형을 문자열로 변환하기"
   ]
  },
  {
   "cell_type": "code",
   "execution_count": null,
   "metadata": {},
   "outputs": [],
   "source": [
    "import pandas as pd\n",
    "import seaborn as sns\n",
    "\n",
    "tips = sns.load_dataset('tips')"
   ]
  },
  {
   "cell_type": "code",
   "execution_count": null,
   "metadata": {},
   "outputs": [],
   "source": [
    "# 자료형(category)을 문자형(str = object)로 바꾸기\n",
    "tips['sex_str'] = tips['sex'].astype('str')\n",
    "print(tips)"
   ]
  },
  {
   "cell_type": "code",
   "execution_count": null,
   "metadata": {},
   "outputs": [],
   "source": [
    "print(tips.dtypes)\n",
    "\n",
    "# sex           category\n",
    "# sex_str         object"
   ]
  },
  {
   "cell_type": "markdown",
   "metadata": {},
   "source": [
    "# 자료형을 변환한 데이터 다시 원래대로 만들기"
   ]
  },
  {
   "cell_type": "code",
   "execution_count": null,
   "metadata": {},
   "outputs": [],
   "source": [
    "tips['total_bill'] = tips['total_bill'].astype(str)\n",
    "print(tips.dtypes)\n",
    "\n",
    "# total_bill: float64 -> object"
   ]
  },
  {
   "cell_type": "code",
   "execution_count": null,
   "metadata": {},
   "outputs": [],
   "source": [
    "tips['total_bill'] = tips['total_bill'].astype(float)\n",
    "print(tips.dtypes)\n",
    "\n",
    "# total_bill: object -> float64"
   ]
  },
  {
   "cell_type": "markdown",
   "metadata": {},
   "source": [
    "# 잘못 입력한 문자열 처리하기"
   ]
  },
  {
   "cell_type": "code",
   "execution_count": null,
   "metadata": {},
   "outputs": [],
   "source": [
    "tips_sub_miss = tips.head(10)\n",
    "tips_sub_miss.loc[[1, 3, 5, 7], 'total_bill'] = 'missing'\n",
    "print(tips_sub_miss)\n",
    "\n",
    "#   total_bill   tip     sex smoker  day    time  size sex_str\n",
    "# 0      16.99  1.01  Female     No  Sun  Dinner     2  Female\n",
    "# 1    missing  1.66    Male     No  Sun  Dinner     3    Male\n",
    "# 2      21.01  3.50    Male     No  Sun  Dinner     3    Male\n",
    "# 3    missing  3.31    Male     No  Sun  Dinner     2    Male\n",
    "\n",
    "print(tips_sub_miss.dtypes)\n",
    "# total_bill      object   -> 원래 float64였지만, missing이 들어와 문자열로 바뀜"
   ]
  },
  {
   "cell_type": "code",
   "execution_count": null,
   "metadata": {},
   "outputs": [],
   "source": [
    "tips_sub_miss['total_bill'].astype(float)  # ERROR\n",
    "pd.to_numeric(tips_sub_miss['total_bill'])  # ERROR\n",
    "# to_numeric을 사용해도 문자열을 실수로 변환할 수 없다. but errors인자에 raise, coerce, ignore을 지정해 오류 제어 가능\n",
    "#     - raise: 숫자로 변환할 수 없는 값이 있으면 오류 발생\n",
    "#     - coerce: 숫자로 변환할 수 없는 값을 누락값으로 지정\n",
    "tips_sub_miss['total_bill'] = pd.to_numeric(tips_sub_miss['total_bill'], errors='coerce')\n",
    "#     - ignore: 아무작업하지 않음(무시)\n",
    "tips_sub_miss['total_bill'] = pd.to_numeric(tips_sub_miss['total_bill'], errors='ignore')\n",
    "\n",
    "# errors인자 외에도 downcast인자 -> 정수, 실수와 같은 자료형을 더 작은 형태로 만듦.\n",
    "tips_sub_miss['total_bill'] = pd.to_numeric(tips_sub_miss['total_bill'], errors='coerce', downcast='float')\n",
    "    # total_bill : float64 -> float32"
   ]
  },
  {
   "cell_type": "markdown",
   "metadata": {},
   "source": [
    "# 문자열을 카테고리로 변환하기"
   ]
  },
  {
   "cell_type": "code",
   "execution_count": null,
   "metadata": {},
   "outputs": [],
   "source": [
    "# 카테고리 자료형\n",
    "# 특징1. 용량과 속도 면에서 매우 효율적\n",
    "# 특징2. 주로 동일한 문자열이 반복되에 데이터를 구성하는 경우 사용"
   ]
  },
  {
   "cell_type": "code",
   "execution_count": null,
   "metadata": {},
   "outputs": [],
   "source": [
    "# info 메소드로 데이터프레임의 용량 확인\n",
    "tips['sex'] = tips['sex'].astype('str')  # 용량: 10.7KB\n",
    "tips['sex'] = tips['sex'].astype('category')  # 용량: 9.1KB"
   ]
  }
 ],
 "metadata": {
  "kernelspec": {
   "display_name": "Python 3",
   "language": "python",
   "name": "python3"
  },
  "language_info": {
   "codemirror_mode": {
    "name": "ipython",
    "version": 3
   },
   "file_extension": ".py",
   "mimetype": "text/x-python",
   "name": "python",
   "nbconvert_exporter": "python",
   "pygments_lexer": "ipython3",
   "version": "3.7.3"
  }
 },
 "nbformat": 4,
 "nbformat_minor": 1
}
