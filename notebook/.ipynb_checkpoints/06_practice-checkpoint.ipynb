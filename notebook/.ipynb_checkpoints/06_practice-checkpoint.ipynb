{
 "cells": [
  {
   "cell_type": "markdown",
   "metadata": {},
   "source": [
    "# 누락값 확인하기"
   ]
  },
  {
   "cell_type": "code",
   "execution_count": 2,
   "metadata": {},
   "outputs": [
    {
     "name": "stdout",
     "output_type": "stream",
     "text": [
      "False\n",
      "False\n",
      "False\n",
      "False\n"
     ]
    }
   ],
   "source": [
    "from numpy import NaN, NAN, nan\n",
    "# 누락값을 사용하기위해 불러옴\n",
    "\n",
    "# 누락값: 데이터 자체가 없다는 것!\n",
    "# 누락값은 '0', ''과 다른 개념\n",
    "print(NaN == True)  # False\n",
    "print(NAN == False)  # False\n",
    "print(NaN == 0)  # False\n",
    "print(NaN == '')  # False\n",
    "\n",
    "# 자기 자신과 비교해도 False!!\n",
    "print(NaN == NaN)  # False\n",
    "print(NaN == nan)  # False\n",
    "print(NaN == NAN)  # False\n",
    "print(nan == NAN)  # False"
   ]
  },
  {
   "cell_type": "code",
   "execution_count": 3,
   "metadata": {},
   "outputs": [
    {
     "name": "stdout",
     "output_type": "stream",
     "text": [
      "True\n",
      "True\n",
      "True\n",
      "False\n",
      "True\n",
      "True\n"
     ]
    }
   ],
   "source": [
    "# 누락값 확인 방법\n",
    "import pandas as pd\n",
    "\n",
    "print(pd.isnull(NaN))  # True\n",
    "print(pd.isnull(nan))  # True\n",
    "print(pd.isnull(NAN))  # True\n",
    "\n",
    "# 누락값이 아닌 경우 확인 방법\n",
    "print(pd.notnull(NaN))  # False\n",
    "print(pd.notnull(42))  # True\n",
    "print(pd.notnull('missing'))  # True"
   ]
  },
  {
   "cell_type": "markdown",
   "metadata": {},
   "source": [
    "# 데이터 집합을 연결할 때 누락값이 발생하는 경우"
   ]
  },
  {
   "cell_type": "code",
   "execution_count": 5,
   "metadata": {},
   "outputs": [
    {
     "name": "stdout",
     "output_type": "stream",
     "text": [
      "   ident   site       dated\n",
      "0    619   DR-1  1927-02-08\n",
      "1    622   DR-1  1927-02-10\n",
      "2    734   DR-3  1939-01-07\n",
      "3    735   DR-3  1930-01-12\n",
      "4    751   DR-3  1930-02-26\n",
      "5    752   DR-3         NaN\n",
      "6    837  MSK-4  1932-01-14\n",
      "7    844   DR-1  1932-03-22\n",
      "    taken person quant  reading\n",
      "0     619   dyer   rad     9.82\n",
      "1     619   dyer   sal     0.13\n",
      "2     622   dyer   rad     7.80\n",
      "3     622   dyer   sal     0.09\n",
      "4     734     pb   rad     8.41\n",
      "5     734   lake   sal     0.05\n",
      "6     734     pb  temp   -21.50\n",
      "7     735     pb   rad     7.22\n",
      "8     735    NaN   sal     0.06\n",
      "9     735    NaN  temp   -26.00\n",
      "10    751     pb   rad     4.35\n",
      "11    751     pb  temp   -18.50\n",
      "12    751   lake   sal     0.10\n",
      "13    752   lake   rad     2.19\n",
      "14    752   lake   sal     0.09\n",
      "15    752   lake  temp   -16.00\n",
      "16    752    roe   sal    41.60\n",
      "17    837   lake   rad     1.46\n",
      "18    837   lake   sal     0.21\n",
      "19    837    roe   sal    22.50\n",
      "20    844    roe   rad    11.25\n"
     ]
    }
   ],
   "source": [
    "visited = pd.read_csv('../data/survey_visited.csv')\n",
    "survey = pd.read_csv('../data/survey_survey.csv')\n",
    "\n",
    "print(visited)\n",
    "#    ident   site       dated\n",
    "# 0    619   DR-1  1927-02-08\n",
    "# 1    622   DR-1  1927-02-10\n",
    "# 2    734   DR-3  1939-01-07\n",
    "# 3    735   DR-3  1930-01-12\n",
    "# 4    751   DR-3  1930-02-26\n",
    "# 5    752   DR-3         NaN\n",
    "# 6    837  MSK-4  1932-01-14\n",
    "# 7    844   DR-1  1932-03-22\n",
    "\n",
    "print(survey)\n",
    "#     taken person quant  reading\n",
    "# 0     619   dyer   rad     9.82\n",
    "# 1     619   dyer   sal     0.13\n",
    "# 2     622   dyer   rad     7.80\n",
    "# 3     622   dyer   sal     0.09\n",
    "# 4     734     pb   rad     8.41\n",
    "# 5     734   lake   sal     0.05\n",
    "# 6     734     pb  temp   -21.50\n",
    "# 7     735     pb   rad     7.22\n",
    "# 8     735    NaN   sal     0.06\n",
    "# 9     735    NaN  temp   -26.00\n",
    "# 10    751     pb   rad     4.35\n",
    "# 11    751     pb  temp   -18.50\n",
    "# 12    751   lake   sal     0.10\n",
    "# 13    752   lake   rad     2.19\n",
    "# 14    752   lake   sal     0.09\n",
    "# 15    752   lake  temp   -16.00\n",
    "# 16    752    roe   sal    41.60\n",
    "# 17    837   lake   rad     1.46\n",
    "# 18    837   lake   sal     0.21\n",
    "# 19    837    roe   sal    22.50\n",
    "# 20    844    roe   rad    11.25"
   ]
  },
  {
   "cell_type": "code",
   "execution_count": 6,
   "metadata": {},
   "outputs": [
    {
     "name": "stdout",
     "output_type": "stream",
     "text": [
      "    ident   site       dated  taken person quant  reading\n",
      "0     619   DR-1  1927-02-08    619   dyer   rad     9.82\n",
      "1     619   DR-1  1927-02-08    619   dyer   sal     0.13\n",
      "2     622   DR-1  1927-02-10    622   dyer   rad     7.80\n",
      "3     622   DR-1  1927-02-10    622   dyer   sal     0.09\n",
      "4     734   DR-3  1939-01-07    734     pb   rad     8.41\n",
      "5     734   DR-3  1939-01-07    734   lake   sal     0.05\n",
      "6     734   DR-3  1939-01-07    734     pb  temp   -21.50\n",
      "7     735   DR-3  1930-01-12    735     pb   rad     7.22\n",
      "8     735   DR-3  1930-01-12    735    NaN   sal     0.06\n",
      "9     735   DR-3  1930-01-12    735    NaN  temp   -26.00\n",
      "10    751   DR-3  1930-02-26    751     pb   rad     4.35\n",
      "11    751   DR-3  1930-02-26    751     pb  temp   -18.50\n",
      "12    751   DR-3  1930-02-26    751   lake   sal     0.10\n",
      "13    752   DR-3         NaN    752   lake   rad     2.19\n",
      "14    752   DR-3         NaN    752   lake   sal     0.09\n",
      "15    752   DR-3         NaN    752   lake  temp   -16.00\n",
      "16    752   DR-3         NaN    752    roe   sal    41.60\n",
      "17    837  MSK-4  1932-01-14    837   lake   rad     1.46\n",
      "18    837  MSK-4  1932-01-14    837   lake   sal     0.21\n",
      "19    837  MSK-4  1932-01-14    837    roe   sal    22.50\n",
      "20    844   DR-1  1932-03-22    844    roe   rad    11.25\n"
     ]
    }
   ],
   "source": [
    "vs = visited.merge(survey, left_on='ident', right_on='taken')\n",
    "print(vs)\n",
    "\n",
    "#     ident   site       dated  taken person quant  reading\n",
    "# 0     619   DR-1  1927-02-08    619   dyer   rad     9.82\n",
    "# ...\n",
    "# 12    751   DR-3  1930-02-26    751   lake   sal     0.10\n",
    "# 13    752   DR-3         NaN    752   lake   rad     2.19\n",
    "# 14    752   DR-3         NaN    752   lake   sal     0.09\n",
    "# 15    752   DR-3         NaN    752   lake  temp   -16.00\n",
    "# 16    752   DR-3         NaN    752    roe   sal    41.60\n",
    "# 17    837  MSK-4  1932-01-14    837   lake   rad     1.46\n",
    "# 18    837  MSK-4  1932-01-14    837   lake   sal     0.21\n",
    "\n",
    "# 원래 각자일때는 1개, 2개였지만, 합해지니까 더 많아짐. \n",
    "# why? ident와 taken이 동일해야하는데, \n",
    "#      752(ident)와 동일한 taken을 가지고있는 것이 합쳤을때 4개 이므로 \n",
    "#      총 4개가 됨"
   ]
  },
  {
   "cell_type": "markdown",
   "metadata": {},
   "source": [
    "# 데이터를 입력할 때 누락값이 발생하는 경우"
   ]
  },
  {
   "cell_type": "code",
   "execution_count": 7,
   "metadata": {},
   "outputs": [
    {
     "name": "stdout",
     "output_type": "stream",
     "text": [
      "goat      4.0\n",
      "amoeba    NaN\n",
      "dtype: float64\n",
      "<class 'pandas.core.series.Series'>\n"
     ]
    }
   ],
   "source": [
    "num_legs = pd.Series({'goat':4, 'amoeba':nan})\n",
    "print(num_legs)\n",
    "print(type(num_legs))\n",
    "\n",
    "# goat      4.0\n",
    "# amoeba    NaN\n",
    "# dtype: float64\n",
    "# <class 'pandas.core.series.Series'>"
   ]
  },
  {
   "cell_type": "code",
   "execution_count": 9,
   "metadata": {},
   "outputs": [
    {
     "name": "stdout",
     "output_type": "stream",
     "text": [
      "      Name    Occupation  missing\n",
      "0     Rosa       Chemist      NaN\n",
      "1  William  Statistician      NaN\n",
      "<class 'pandas.core.frame.DataFrame'>\n"
     ]
    }
   ],
   "source": [
    "scientists = pd.DataFrame({\n",
    "    'Name': ['Rosa', 'William'],\n",
    "    'Occupation': ['Chemist', 'Statistician'],\n",
    "    'missing': [NaN, nan]\n",
    "})\n",
    "\n",
    "print(scientists)\n",
    "print(type(scientists))\n",
    "\n",
    "#       Name    Occupation  missing\n",
    "# 0     Rosa       Chemist      NaN\n",
    "# 1  William  Statistician      NaN\n",
    "# <class 'pandas.core.frame.DataFrame'>"
   ]
  },
  {
   "cell_type": "markdown",
   "metadata": {},
   "source": [
    "# 범위를 지정해 데이터를 추출할 때 생기는 경우"
   ]
  },
  {
   "cell_type": "code",
   "execution_count": 12,
   "metadata": {},
   "outputs": [
    {
     "name": "stdout",
     "output_type": "stream",
     "text": [
      "year\n",
      "1952    49.057620\n",
      "1957    51.507401\n",
      "1962    53.609249\n",
      "1967    55.678290\n",
      "1972    57.647386\n",
      "1977    59.570157\n",
      "1982    61.533197\n",
      "1987    63.212613\n",
      "1992    64.160338\n",
      "1997    65.014676\n",
      "2002    65.694923\n",
      "2007    67.007423\n",
      "Name: lifeExp, dtype: float64\n",
      "year\n",
      "2000          NaN\n",
      "2001          NaN\n",
      "2002    65.694923\n",
      "2003          NaN\n",
      "2004          NaN\n",
      "2005          NaN\n",
      "2006          NaN\n",
      "2007    67.007423\n",
      "2008          NaN\n",
      "Name: lifeExp, dtype: float64\n"
     ]
    },
    {
     "name": "stderr",
     "output_type": "stream",
     "text": [
      "C:\\Users\\gyyoo\\Anaconda3\\lib\\site-packages\\pandas\\core\\indexing.py:1494: FutureWarning: \n",
      "Passing list-likes to .loc or [] with any missing label will raise\n",
      "KeyError in the future, you can use .reindex() as an alternative.\n",
      "\n",
      "See the documentation here:\n",
      "https://pandas.pydata.org/pandas-docs/stable/indexing.html#deprecate-loc-reindex-listlike\n",
      "  return self._getitem_tuple(key)\n"
     ]
    }
   ],
   "source": [
    "gapminder = pd.read_csv('../data/gapminder.tsv', sep='\\t')\n",
    "\n",
    "# gapminder 데이터프레임을 연도별로 그룹화한 다음 lifeExp 열의 평균을 구함\n",
    "life_exp = gapminder.groupby(['year'])['lifeExp'].mean()\n",
    "print(life_exp)\n",
    "# year\n",
    "# 1952    49.057620\n",
    "...\n",
    "# 1997    65.014676\n",
    "# 2002    65.694923\n",
    "# 2007    67.007423\n",
    "# Name: lifeExp, dtype: float64\n",
    "\n",
    "\n",
    "# range를 이용해 life_Exp 열에서 200~2009년의 데이터 추출\n",
    "print(life_exp.loc[range(2000, 2009), ])\n",
    "# year\n",
    "# 2000          NaN\n",
    "# 2001          NaN\n",
    "# 2002    65.694923\n",
    "# 2003          NaN\n",
    "# 2004          NaN\n",
    "# 2005          NaN\n",
    "# 2006          NaN\n",
    "# 2007    67.007423\n",
    "# 2008          NaN\n",
    "# Name: lifeExp, dtype: float64"
   ]
  },
  {
   "cell_type": "code",
   "execution_count": 13,
   "metadata": {},
   "outputs": [
    {
     "name": "stdout",
     "output_type": "stream",
     "text": [
      "year\n",
      "2002    65.694923\n",
      "2007    67.007423\n",
      "Name: lifeExp, dtype: float64\n"
     ]
    }
   ],
   "source": [
    "# 위의 문제를 불린 추출을 이요해 데이터 추출하기\n",
    "y2000 = life_exp[life_exp.index > 2000]\n",
    "print(y2000)\n",
    "\n",
    "# year\n",
    "# 2002    65.694923\n",
    "# 2007    67.007423\n",
    "# Name: lifeExp, dtype: float64\n",
    "\n",
    "# life_exp데이터에서 인덱스가 2000이상인 것만 뽑아오면 누락값 없이 가지고올 수 있음"
   ]
  },
  {
   "cell_type": "markdown",
   "metadata": {},
   "source": [
    "# 누락값의 개수 구하기"
   ]
  },
  {
   "cell_type": "code",
   "execution_count": 15,
   "metadata": {},
   "outputs": [],
   "source": [
    "ebola = pd.read_csv('../data/country_timeseries.csv')"
   ]
  },
  {
   "cell_type": "code",
   "execution_count": 16,
   "metadata": {},
   "outputs": [
    {
     "name": "stdout",
     "output_type": "stream",
     "text": [
      "Date                   122\n",
      "Day                    122\n",
      "Cases_Guinea            93\n",
      "Cases_Liberia           83\n",
      "Cases_SierraLeone       87\n",
      "Cases_Nigeria           38\n",
      "Cases_Senegal           25\n",
      "Cases_UnitedStates      18\n",
      "Cases_Spain             16\n",
      "Cases_Mali              12\n",
      "Deaths_Guinea           92\n",
      "Deaths_Liberia          81\n",
      "Deaths_SierraLeone      87\n",
      "Deaths_Nigeria          38\n",
      "Deaths_Senegal          22\n",
      "Deaths_UnitedStates     18\n",
      "Deaths_Spain            16\n",
      "Deaths_Mali             12\n",
      "dtype: int64\n"
     ]
    }
   ],
   "source": [
    "print(ebola.count())  # 누락 값이 아닌 값의 갯수구하기\n",
    "\n",
    "# Date                   122\n",
    "# Day                    122\n",
    "# Cases_Guinea            93"
   ]
  },
  {
   "cell_type": "code",
   "execution_count": 17,
   "metadata": {},
   "outputs": [
    {
     "name": "stdout",
     "output_type": "stream",
     "text": [
      "Date                     0\n",
      "Day                      0\n",
      "Cases_Guinea            29\n",
      "Cases_Liberia           39\n",
      "Cases_SierraLeone       35\n",
      "Cases_Nigeria           84\n",
      "Cases_Senegal           97\n",
      "Cases_UnitedStates     104\n",
      "Cases_Spain            106\n",
      "Cases_Mali             110\n",
      "Deaths_Guinea           30\n",
      "Deaths_Liberia          41\n",
      "Deaths_SierraLeone      35\n",
      "Deaths_Nigeria          84\n",
      "Deaths_Senegal         100\n",
      "Deaths_UnitedStates    104\n",
      "Deaths_Spain           106\n",
      "Deaths_Mali            110\n",
      "dtype: int64\n"
     ]
    }
   ],
   "source": [
    "# 누락값 갯수 구하는 방법 1\n",
    "num_rows = ebola.shape[0]  # shape(행, 열) -> 행과 열의 갯수\n",
    "num_missing = num_rows - ebola.count()  \n",
    "# 누락값의 갯수 = 전체 행의 데이터갯수 - 누락값이 아닌 데이터 갯수\n",
    "print(num_missing)"
   ]
  },
  {
   "cell_type": "code",
   "execution_count": 18,
   "metadata": {},
   "outputs": [
    {
     "name": "stdout",
     "output_type": "stream",
     "text": [
      "1214\n",
      "29\n"
     ]
    }
   ],
   "source": [
    "# 누락값 갯수 구하는 방법 2\n",
    "import numpy as np\n",
    "\n",
    "print(np.count_nonzero(ebola.isnull()))  # 총 누락값: 1214\n",
    "print(np.count_nonzero(ebola['Cases_Guinea'].isnull()))  # 누락값: 29\n",
    "# count_nonzero: 배열에서 0이 아닌 값의 갯수를 세는 메서드"
   ]
  },
  {
   "cell_type": "code",
   "execution_count": 19,
   "metadata": {},
   "outputs": [
    {
     "name": "stdout",
     "output_type": "stream",
     "text": [
      "NaN      29\n",
      "86.0      3\n",
      "495.0     2\n",
      "112.0     2\n",
      "390.0     2\n",
      "Name: Cases_Guinea, dtype: int64\n"
     ]
    }
   ],
   "source": [
    "# 열의 누락값 갯수 구하는 방법\n",
    "print(ebola.Cases_Guinea.value_counts(dropna=False).head())"
   ]
  },
  {
   "cell_type": "markdown",
   "metadata": {},
   "source": [
    "# 누락값을 다른 값으로 변경하기"
   ]
  },
  {
   "cell_type": "code",
   "execution_count": 24,
   "metadata": {},
   "outputs": [
    {
     "name": "stdout",
     "output_type": "stream",
     "text": [
      "         Date  Day  Cases_Guinea  Cases_Liberia  Cases_SierraLeone\n",
      "0    1/5/2015  289        2776.0            0.0            10030.0\n",
      "1    1/4/2015  288        2775.0            0.0             9780.0\n",
      "2    1/3/2015  287        2769.0         8166.0             9722.0\n",
      "3    1/2/2015  286           0.0         8157.0                0.0\n",
      "4  12/31/2014  284        2730.0         8115.0             9633.0\n",
      "5  12/28/2014  281        2706.0         8018.0             9446.0\n",
      "6  12/27/2014  280        2695.0            0.0             9409.0\n",
      "7  12/24/2014  277        2630.0         7977.0             9203.0\n"
     ]
    }
   ],
   "source": [
    "# NaN값을 0으로 대체\n",
    "print(ebola.fillna(0).iloc[0:8, 0:5])\n",
    "\n",
    "#          Date  Day  Cases_Guinea  Cases_Liberia  Cases_SierraLeone\n",
    "# 0    1/5/2015  289        2776.0            0.0            10030.0\n",
    "# 1    1/4/2015  288        2775.0            0.0             9780.0\n",
    "# 2    1/3/2015  287        2769.0         8166.0             9722.0\n",
    "# 3    1/2/2015  286           0.0         8157.0                0.0\n",
    "# 4  12/31/2014  284        2730.0         8115.0             9633.0\n",
    "# 5  12/28/2014  281        2706.0         8018.0             9446.0\n",
    "# 6  12/27/2014  280        2695.0            0.0             9409.0\n",
    "# 7  12/24/2014  277        2630.0         7977.0             9203.0"
   ]
  },
  {
   "cell_type": "code",
   "execution_count": 25,
   "metadata": {},
   "outputs": [
    {
     "name": "stdout",
     "output_type": "stream",
     "text": [
      "         Date  Day  Cases_Guinea  Cases_Liberia  Cases_SierraLeone\n",
      "0    1/5/2015  289        2776.0            NaN            10030.0\n",
      "1    1/4/2015  288        2775.0            NaN             9780.0\n",
      "2    1/3/2015  287        2769.0         8166.0             9722.0\n",
      "3    1/2/2015  286        2769.0         8157.0             9722.0\n",
      "4  12/31/2014  284        2730.0         8115.0             9633.0\n",
      "5  12/28/2014  281        2706.0         8018.0             9446.0\n",
      "6  12/27/2014  280        2695.0         8018.0             9409.0\n",
      "7  12/24/2014  277        2630.0         7977.0             9203.0\n"
     ]
    }
   ],
   "source": [
    "# NaN값을 바로 위 값에서 가지고 와 누락값 처리 -> ffill\n",
    "print(ebola.fillna(method='ffill').iloc[0:8, 0:5])\n",
    "\n",
    "#          Date  Day  Cases_Guinea  Cases_Liberia  Cases_SierraLeone\n",
    "# 0    1/5/2015  289        2776.0            NaN            10030.0\n",
    "# 1    1/4/2015  288        2775.0            NaN             9780.0\n",
    "# 2    1/3/2015  287        2769.0         8166.0             9722.0\n",
    "# 3    1/2/2015  286        2769.0         8157.0             9722.0\n",
    "# 4  12/31/2014  284        2730.0         8115.0             9633.0\n",
    "# 5  12/28/2014  281        2706.0         8018.0             9446.0\n",
    "# 6  12/27/2014  280        2695.0         8018.0             9409.0\n",
    "# 7  12/24/2014  277        2630.0         7977.0             9203.0"
   ]
  },
  {
   "cell_type": "code",
   "execution_count": 26,
   "metadata": {},
   "outputs": [
    {
     "name": "stdout",
     "output_type": "stream",
     "text": [
      "         Date  Day  Cases_Guinea  Cases_Liberia  Cases_SierraLeone\n",
      "0    1/5/2015  289        2776.0         8166.0            10030.0\n",
      "1    1/4/2015  288        2775.0         8166.0             9780.0\n",
      "2    1/3/2015  287        2769.0         8166.0             9722.0\n",
      "3    1/2/2015  286        2730.0         8157.0             9633.0\n",
      "4  12/31/2014  284        2730.0         8115.0             9633.0\n",
      "5  12/28/2014  281        2706.0         8018.0             9446.0\n",
      "6  12/27/2014  280        2695.0         7977.0             9409.0\n",
      "7  12/24/2014  277        2630.0         7977.0             9203.0\n"
     ]
    }
   ],
   "source": [
    "# NaN값을 바로 아래 값에서 가지고 와 누락값 처리 -> bfill\n",
    "print(ebola.fillna(method='bfill').iloc[0:8, 0:5])\n",
    "\n",
    "#          Date  Day  Cases_Guinea  Cases_Liberia  Cases_SierraLeone\n",
    "# 0    1/5/2015  289        2776.0         8166.0            10030.0\n",
    "# 1    1/4/2015  288        2775.0         8166.0             9780.0\n",
    "# 2    1/3/2015  287        2769.0         8166.0             9722.0\n",
    "# 3    1/2/2015  286        2730.0         8157.0             9633.0\n",
    "# 4  12/31/2014  284        2730.0         8115.0             9633.0\n",
    "# 5  12/28/2014  281        2706.0         8018.0             9446.0\n",
    "# 6  12/27/2014  280        2695.0         7977.0             9409.0\n",
    "# 7  12/24/2014  277        2630.0         7977.0             9203.0"
   ]
  },
  {
   "cell_type": "code",
   "execution_count": 27,
   "metadata": {},
   "outputs": [
    {
     "name": "stdout",
     "output_type": "stream",
     "text": [
      "         Date  Day  Cases_Guinea  Cases_Liberia  Cases_SierraLeone\n",
      "0    1/5/2015  289        2776.0            NaN            10030.0\n",
      "1    1/4/2015  288        2775.0            NaN             9780.0\n",
      "2    1/3/2015  287        2769.0         8166.0             9722.0\n",
      "3    1/2/2015  286        2749.5         8157.0             9677.5\n",
      "4  12/31/2014  284        2730.0         8115.0             9633.0\n",
      "5  12/28/2014  281        2706.0         8018.0             9446.0\n",
      "6  12/27/2014  280        2695.0         7997.5             9409.0\n",
      "7  12/24/2014  277        2630.0         7977.0             9203.0\n"
     ]
    }
   ],
   "source": [
    "# NaN값을 바로 아래와 바로 위 값에서 가지고 와 중간값으로 누락값 처리 -> interpolate\n",
    "print(ebola.interpolate().iloc[0:8, 0:5])\n",
    "\n",
    "#          Date  Day  Cases_Guinea  Cases_Liberia  Cases_SierraLeone\n",
    "# 0    1/5/2015  289        2776.0            NaN            10030.0\n",
    "# 1    1/4/2015  288        2775.0            NaN             9780.0\n",
    "# 2    1/3/2015  287        2769.0         8166.0             9722.0\n",
    "# 3    1/2/2015  286        2749.5         8157.0             9677.5\n",
    "# 4  12/31/2014  284        2730.0         8115.0             9633.0\n",
    "# 5  12/28/2014  281        2706.0         8018.0             9446.0\n",
    "# 6  12/27/2014  280        2695.0         7997.5             9409.0\n",
    "# 7  12/24/2014  277        2630.0         7977.0             9203.0"
   ]
  },
  {
   "cell_type": "markdown",
   "metadata": {},
   "source": [
    "# 누락값 삭제하기"
   ]
  },
  {
   "cell_type": "code",
   "execution_count": 29,
   "metadata": {},
   "outputs": [
    {
     "name": "stdout",
     "output_type": "stream",
     "text": [
      "(122, 18)\n"
     ]
    }
   ],
   "source": [
    "print(ebola.shape)"
   ]
  },
  {
   "cell_type": "code",
   "execution_count": 30,
   "metadata": {},
   "outputs": [
    {
     "name": "stdout",
     "output_type": "stream",
     "text": [
      "          Date  Day  Cases_Guinea  Cases_Liberia  Cases_SierraLeone  \\\n",
      "19  11/18/2014  241        2047.0         7082.0             6190.0   \n",
      "\n",
      "    Cases_Nigeria  Cases_Senegal  Cases_UnitedStates  Cases_Spain  Cases_Mali  \\\n",
      "19           20.0            1.0                 4.0          1.0         6.0   \n",
      "\n",
      "    Deaths_Guinea  Deaths_Liberia  Deaths_SierraLeone  Deaths_Nigeria  \\\n",
      "19         1214.0          2963.0              1267.0             8.0   \n",
      "\n",
      "    Deaths_Senegal  Deaths_UnitedStates  Deaths_Spain  Deaths_Mali  \n",
      "19             0.0                  1.0           0.0          6.0  \n"
     ]
    }
   ],
   "source": [
    "ebola_dropna = ebola.dropna()\n",
    "print(ebola_dropna)  # 데이터가 많이 삭제됨"
   ]
  },
  {
   "cell_type": "markdown",
   "metadata": {},
   "source": [
    "# 누락값이 포함된 데이터 계산하기"
   ]
  },
  {
   "cell_type": "code",
   "execution_count": 33,
   "metadata": {},
   "outputs": [
    {
     "name": "stdout",
     "output_type": "stream",
     "text": [
      "0          NaN\n",
      "1          NaN\n",
      "2      10935.0\n",
      "3          NaN\n",
      "4      10845.0\n",
      "5      10724.0\n",
      "6          NaN\n",
      "7      10607.0\n",
      "8          NaN\n",
      "9      10433.0\n",
      "10         NaN\n",
      "11         NaN\n",
      "12         NaN\n",
      "13         NaN\n",
      "14         NaN\n",
      "15         NaN\n",
      "16         NaN\n",
      "17         NaN\n",
      "18         NaN\n",
      "19      9129.0\n",
      "20         NaN\n",
      "21         NaN\n",
      "22         NaN\n",
      "23         NaN\n",
      "24         NaN\n",
      "25         NaN\n",
      "26         NaN\n",
      "27         NaN\n",
      "28         NaN\n",
      "29         NaN\n",
      "        ...   \n",
      "92       270.0\n",
      "93       260.0\n",
      "94       245.0\n",
      "95       249.0\n",
      "96       248.0\n",
      "97       244.0\n",
      "98       239.0\n",
      "99         NaN\n",
      "100        NaN\n",
      "101        NaN\n",
      "102        NaN\n",
      "103        NaN\n",
      "104        NaN\n",
      "105      230.0\n",
      "106      224.0\n",
      "107        NaN\n",
      "108        NaN\n",
      "109      185.0\n",
      "110      183.0\n",
      "111      172.0\n",
      "112      161.0\n",
      "113      135.0\n",
      "114      130.0\n",
      "115      119.0\n",
      "116      115.0\n",
      "117      111.0\n",
      "118        NaN\n",
      "119        NaN\n",
      "120        NaN\n",
      "121        NaN\n",
      "Name: Case_multiple, Length: 122, dtype: float64\n"
     ]
    }
   ],
   "source": [
    "ebola['Cases_multiple'] = ebola['Cases_Guinea'] + ebola['Cases_Liberia']\n",
    "+ ebola['Cases_SierraLeone']\n",
    "print(ebola['Case_multiple'])"
   ]
  },
  {
   "cell_type": "code",
   "execution_count": 35,
   "metadata": {},
   "outputs": [
    {
     "name": "stdout",
     "output_type": "stream",
     "text": [
      "   Cases_Guinea  Cases_Liberia  Cases_SierraLeone  Cases_multiple\n",
      "0        2776.0            NaN            10030.0             NaN\n",
      "1        2775.0            NaN             9780.0             NaN\n",
      "2        2769.0         8166.0             9722.0         10935.0\n",
      "3           NaN         8157.0                NaN             NaN\n",
      "4        2730.0         8115.0             9633.0         10845.0\n"
     ]
    }
   ],
   "source": [
    "ebola_subset = ebola.loc[:, ['Cases_Guinea', 'Cases_Liberia', 'Cases_SierraLeone', 'Cases_multiple']]\n",
    "print(ebola_subset.head())"
   ]
  },
  {
   "cell_type": "code",
   "execution_count": null,
   "metadata": {},
   "outputs": [],
   "source": [
    "# sum : 누락값을 포함해 합을 구함 -> 결과값도 누락!\n",
    "# 이때, skipna 사용하면 누락값 무시하고 계산\n",
    "print(ebola.Cases_Guinea.sum(skipna = True))  # 84729.0\n",
    "print(ebola.Cases_Guinea.sum(skipna = False))  # NaN"
   ]
  }
 ],
 "metadata": {
  "kernelspec": {
   "display_name": "Python 3",
   "language": "python",
   "name": "python3"
  },
  "language_info": {
   "codemirror_mode": {
    "name": "ipython",
    "version": 3
   },
   "file_extension": ".py",
   "mimetype": "text/x-python",
   "name": "python",
   "nbconvert_exporter": "python",
   "pygments_lexer": "ipython3",
   "version": "3.7.3"
  }
 },
 "nbformat": 4,
 "nbformat_minor": 2
}
