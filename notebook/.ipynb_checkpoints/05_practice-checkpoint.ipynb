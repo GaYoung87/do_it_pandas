{
 "cells": [
  {
   "cell_type": "markdown",
   "metadata": {},
   "source": [
    "# concat 메서드 사용하기"
   ]
  },
  {
   "cell_type": "code",
   "execution_count": 1,
   "metadata": {},
   "outputs": [
    {
     "name": "stdout",
     "output_type": "stream",
     "text": [
      "    A   B   C   D\n",
      "0  a0  b0  c0  d0\n",
      "1  a1  b1  c1  d1\n",
      "2  a2  b2  c2  d2\n",
      "3  a3  b3  c3  d3\n",
      "    A   B   C   D\n",
      "0  a4  b4  c4  d4\n",
      "1  a5  b5  c5  d5\n",
      "2  a6  b6  c6  d6\n",
      "3  a7  b7  c7  d7\n",
      "     A    B    C    D\n",
      "0   a8   b8   c8   d8\n",
      "1   a9   b9   c9   d9\n",
      "2  a10  b10  c10  d10\n",
      "3  a11  b11  c11  d11\n"
     ]
    }
   ],
   "source": [
    "import pandas as pd\n",
    "\n",
    "df1 = pd.read_csv('../data/concat_1.csv')\n",
    "df2 = pd.read_csv('../data/concat_2.csv')\n",
    "df3 = pd.read_csv('../data/concat_3.csv')\n",
    "\n",
    "# df1\n",
    "#     A   B   C   D\n",
    "# 0  a0  b0  c0  d0\n",
    "# 1  a1  b1  c1  d1\n",
    "# 2  a2  b2  c2  d2\n",
    "# 3  a3  b3  c3  d3\n",
    "\n",
    "# df2\n",
    "#     A   B   C   D\n",
    "# 0  a4  b4  c4  d4\n",
    "# 1  a5  b5  c5  d5\n",
    "# 2  a6  b6  c6  d6\n",
    "# 3  a7  b7  c7  d7\n",
    "\n",
    "# df3\n",
    "#      A    B    C    D\n",
    "# 0   a8   b8   c8   d8\n",
    "# 1   a9   b9   c9   d9\n",
    "# 2  a10  b10  c10  d10\n",
    "# 3  a11  b11  c11  d11"
   ]
  },
  {
   "cell_type": "code",
   "execution_count": 3,
   "metadata": {},
   "outputs": [
    {
     "name": "stdout",
     "output_type": "stream",
     "text": [
      "     A    B    C    D\n",
      "0   a0   b0   c0   d0\n",
      "1   a1   b1   c1   d1\n",
      "2   a2   b2   c2   d2\n",
      "3   a3   b3   c3   d3\n",
      "0   a4   b4   c4   d4\n",
      "1   a5   b5   c5   d5\n",
      "2   a6   b6   c6   d6\n",
      "3   a7   b7   c7   d7\n",
      "0   a8   b8   c8   d8\n",
      "1   a9   b9   c9   d9\n",
      "2  a10  b10  c10  d10\n",
      "3  a11  b11  c11  d11\n"
     ]
    }
   ],
   "source": [
    "row_concat = pd.concat([df1, df2, df3])\n",
    "print(row_concat)\n",
    "\n",
    "#      A    B    C    D\n",
    "# 0   a0   b0   c0   d0\n",
    "# 1   a1   b1   c1   d1\n",
    "# 2   a2   b2   c2   d2\n",
    "# 3   a3   b3   c3   d3\n",
    "# 0   a4   b4   c4   d4\n",
    "# 1   a5   b5   c5   d5\n",
    "# 2   a6   b6   c6   d6\n",
    "# 3   a7   b7   c7   d7\n",
    "# 0   a8   b8   c8   d8\n",
    "# 1   a9   b9   c9   d9\n",
    "# 2  a10  b10  c10  d10\n",
    "# 3  a11  b11  c11  d11\n",
    "\n",
    "# 데이터 프레임을 연결한 다음에도 열, 인덱스는 그대로 유지"
   ]
  },
  {
   "cell_type": "code",
   "execution_count": 6,
   "metadata": {},
   "outputs": [
    {
     "name": "stdout",
     "output_type": "stream",
     "text": [
      "A    a3\n",
      "B    b3\n",
      "C    c3\n",
      "D    d3\n",
      "Name: 3, dtype: object\n"
     ]
    }
   ],
   "source": [
    "# 데이터 프레임에서 4번째 행을 추출\n",
    "print(row_concat.iloc[3, ])\n",
    "\n",
    "# A    a3\n",
    "# B    b3\n",
    "# C    c3\n",
    "# D    d3\n",
    "# Name: 3, dtype: object"
   ]
  },
  {
   "cell_type": "code",
   "execution_count": 7,
   "metadata": {},
   "outputs": [
    {
     "name": "stdout",
     "output_type": "stream",
     "text": [
      "     A    B    C    D\n",
      "3   a3   b3   c3   d3\n",
      "3   a7   b7   c7   d7\n",
      "3  a11  b11  c11  d11\n"
     ]
    }
   ],
   "source": [
    "# 데이터프레임에서 index가 3인 행 추출\n",
    "print(row_concat.loc[3, ])\n",
    "\n",
    "#      A    B    C    D\n",
    "# 3   a3   b3   c3   d3\n",
    "# 3   a7   b7   c7   d7\n",
    "# 3  a11  b11  c11  d11"
   ]
  },
  {
   "cell_type": "markdown",
   "metadata": {},
   "source": [
    "# 데이터프레임에 시리즈 연결하기"
   ]
  },
  {
   "cell_type": "code",
   "execution_count": 9,
   "metadata": {},
   "outputs": [
    {
     "name": "stdout",
     "output_type": "stream",
     "text": [
      "     A    B    C    D    0\n",
      "0   a0   b0   c0   d0  NaN\n",
      "1   a1   b1   c1   d1  NaN\n",
      "2   a2   b2   c2   d2  NaN\n",
      "3   a3   b3   c3   d3  NaN\n",
      "0  NaN  NaN  NaN  NaN   n1\n",
      "1  NaN  NaN  NaN  NaN   n2\n",
      "2  NaN  NaN  NaN  NaN   n3\n",
      "3  NaN  NaN  NaN  NaN   n4\n"
     ]
    }
   ],
   "source": [
    "# 데이터프레임에 시리즈 연결하기\n",
    "\n",
    "# 시리즈 추가\n",
    "new_row_series = pd.Series(['n1', 'n2', 'n3', 'n4'])\n",
    "\n",
    "# 시리즈 연결\n",
    "print(pd.concat([df1, new_row_series]))\n",
    "#      A    B    C    D    0\n",
    "# 0   a0   b0   c0   d0  NaN\n",
    "# 1   a1   b1   c1   d1  NaN\n",
    "# 2   a2   b2   c2   d2  NaN\n",
    "# 3   a3   b3   c3   d3  NaN\n",
    "# 0  NaN  NaN  NaN  NaN   n1\n",
    "# 1  NaN  NaN  NaN  NaN   n2\n",
    "# 2  NaN  NaN  NaN  NaN   n3\n",
    "# 3  NaN  NaN  NaN  NaN   n4\n",
    "\n",
    "# 시리즈가 새로운 행이 아닌 새로운 열로 추가됨!!"
   ]
  },
  {
   "cell_type": "markdown",
   "metadata": {},
   "source": [
    "# 행 1개로 구성된 데이터프레임 생성하여 연결하기"
   ]
  },
  {
   "cell_type": "code",
   "execution_count": 10,
   "metadata": {},
   "outputs": [
    {
     "name": "stdout",
     "output_type": "stream",
     "text": [
      "    A   B   C   D\n",
      "0  n1  n2  n3  n4\n"
     ]
    }
   ],
   "source": [
    "# 행 1개로 구성된 데이터프레임 생성\n",
    "new_row_df = pd.DataFrame([['n1', 'n2', 'n3', 'n4']], columns=['A', 'B', 'C', 'D'])\n",
    "print(new_row_df)\n",
    "\n",
    "#     A   B   C   D\n",
    "# 0  n1  n2  n3  n4"
   ]
  },
  {
   "cell_type": "code",
   "execution_count": 12,
   "metadata": {},
   "outputs": [
    {
     "name": "stdout",
     "output_type": "stream",
     "text": [
      "    A   B   C   D\n",
      "0  a0  b0  c0  d0\n",
      "1  a1  b1  c1  d1\n",
      "2  a2  b2  c2  d2\n",
      "3  a3  b3  c3  d3\n",
      "0  n1  n2  n3  n4\n"
     ]
    }
   ],
   "source": [
    "# 새로운 데이터프레임과 기존의 데이터프레임 연결\n",
    "print(pd.concat([df1, new_row_df]))\n",
    "\n",
    "#     A   B   C   D\n",
    "# 0  a0  b0  c0  d0\n",
    "# 1  a1  b1  c1  d1\n",
    "# 2  a2  b2  c2  d2\n",
    "# 3  a3  b3  c3  d3\n",
    "# 0  n1  n2  n3  n4"
   ]
  },
  {
   "cell_type": "code",
   "execution_count": 13,
   "metadata": {},
   "outputs": [
    {
     "name": "stdout",
     "output_type": "stream",
     "text": [
      "    A   B   C   D\n",
      "0  a0  b0  c0  d0\n",
      "1  a1  b1  c1  d1\n",
      "2  a2  b2  c2  d2\n",
      "3  a3  b3  c3  d3\n",
      "0  n1  n2  n3  n4\n"
     ]
    }
   ],
   "source": [
    "# append 메서드\n",
    "print(df1.append(new_row_df))\n",
    "\n",
    "#     A   B   C   D\n",
    "# 0  a0  b0  c0  d0\n",
    "# 1  a1  b1  c1  d1\n",
    "# 2  a2  b2  c2  d2\n",
    "# 3  a3  b3  c3  d3\n",
    "# 0  n1  n2  n3  n4\n",
    "\n",
    "# concat메서드: 한번에 2개 이상의 데이터프레임을 연결할 수 있음\n",
    "# append메서드: 한번에 1개 데이터프레임을 연결할 수 있음"
   ]
  },
  {
   "cell_type": "code",
   "execution_count": 17,
   "metadata": {},
   "outputs": [
    {
     "name": "stdout",
     "output_type": "stream",
     "text": [
      "    A   B   C   D\n",
      "0  a0  b0  c0  d0\n",
      "1  a1  b1  c1  d1\n",
      "2  a2  b2  c2  d2\n",
      "3  a3  b3  c3  d3\n",
      "4  n1  n2  n3  n4\n"
     ]
    }
   ],
   "source": [
    "# append메서드 + 딕셔너리 사용\n",
    "data_dict = {'A':'n1', 'B':'n2', 'C':'n3', 'D':'n4'}\n",
    "print(df1.append(data_dict, ignore_index=True))\n",
    "\n",
    "# ignore_index=True: 연결 후 데이터프레임의 인덱스를 0부터 다시 지정\n",
    "#     A   B   C   D\n",
    "# 0  a0  b0  c0  d0\n",
    "# 1  a1  b1  c1  d1\n",
    "# 2  a2  b2  c2  d2\n",
    "# 3  a3  b3  c3  d3\n",
    "# 4  n1  n2  n3  n4\n",
    "\n",
    "# ignore_index=False: ERROR"
   ]
  },
  {
   "cell_type": "markdown",
   "metadata": {},
   "source": [
    "# 다양한 방법으로 데이터 연결하기"
   ]
  },
  {
   "cell_type": "code",
   "execution_count": 18,
   "metadata": {},
   "outputs": [
    {
     "name": "stdout",
     "output_type": "stream",
     "text": [
      "      A    B    C    D\n",
      "0    a0   b0   c0   d0\n",
      "1    a1   b1   c1   d1\n",
      "2    a2   b2   c2   d2\n",
      "3    a3   b3   c3   d3\n",
      "4    a4   b4   c4   d4\n",
      "5    a5   b5   c5   d5\n",
      "6    a6   b6   c6   d6\n",
      "7    a7   b7   c7   d7\n",
      "8    a8   b8   c8   d8\n",
      "9    a9   b9   c9   d9\n",
      "10  a10  b10  c10  d10\n",
      "11  a11  b11  c11  d11\n"
     ]
    }
   ],
   "source": [
    "# ignore_index인자 사용하기\n",
    "row_concat_i = pd.concat([df1, df2, df3], ignore_index=True)\n",
    "print(row_concat_i)\n",
    "\n",
    "#       A    B    C    D\n",
    "# 0    a0   b0   c0   d0\n",
    "# 1    a1   b1   c1   d1\n",
    "# 2    a2   b2   c2   d2\n",
    "# 3    a3   b3   c3   d3\n",
    "# 4    a4   b4   c4   d4\n",
    "# 5    a5   b5   c5   d5\n",
    "# 6    a6   b6   c6   d6\n",
    "# 7    a7   b7   c7   d7\n",
    "# 8    a8   b8   c8   d8\n",
    "# 9    a9   b9   c9   d9\n",
    "# 10  a10  b10  c10  d10\n",
    "# 11  a11  b11  c11  d11"
   ]
  },
  {
   "cell_type": "code",
   "execution_count": 19,
   "metadata": {},
   "outputs": [
    {
     "name": "stdout",
     "output_type": "stream",
     "text": [
      "    A   B   C   D   A   B   C   D    A    B    C    D\n",
      "0  a0  b0  c0  d0  a4  b4  c4  d4   a8   b8   c8   d8\n",
      "1  a1  b1  c1  d1  a5  b5  c5  d5   a9   b9   c9   d9\n",
      "2  a2  b2  c2  d2  a6  b6  c6  d6  a10  b10  c10  d10\n",
      "3  a3  b3  c3  d3  a7  b7  c7  d7  a11  b11  c11  d11\n"
     ]
    }
   ],
   "source": [
    "# 열 방향으로 데이터 연결하기 -> axis=1 사용\n",
    "col_concat = pd.concat([df1, df2, df3], axis=1)\n",
    "print(col_concat)\n",
    "\n",
    "#     A   B   C   D   A   B   C   D    A    B    C    D\n",
    "# 0  a0  b0  c0  d0  a4  b4  c4  d4   a8   b8   c8   d8\n",
    "# 1  a1  b1  c1  d1  a5  b5  c5  d5   a9   b9   c9   d9\n",
    "# 2  a2  b2  c2  d2  a6  b6  c6  d6  a10  b10  c10  d10\n",
    "# 3  a3  b3  c3  d3  a7  b7  c7  d7  a11  b11  c11  d11"
   ]
  },
  {
   "cell_type": "code",
   "execution_count": 20,
   "metadata": {},
   "outputs": [
    {
     "name": "stdout",
     "output_type": "stream",
     "text": [
      "    A   A    A\n",
      "0  a0  a4   a8\n",
      "1  a1  a5   a9\n",
      "2  a2  a6  a10\n",
      "3  a3  a7  a11\n"
     ]
    }
   ],
   "source": [
    "# 같은 열 이름이 있는 데이터프레임에서 열 이름으로 데이터를 추출하면, 해당 열 이름의 데이터 모두 추출\n",
    "print(col_concat['A'])\n",
    "\n",
    "#     A   A    A\n",
    "# 0  a0  a4   a8\n",
    "# 1  a1  a5   a9\n",
    "# 2  a2  a6  a10\n",
    "# 3  a3  a7  a11"
   ]
  },
  {
   "cell_type": "code",
   "execution_count": 21,
   "metadata": {},
   "outputs": [
    {
     "name": "stdout",
     "output_type": "stream",
     "text": [
      "    A   B   C   D   A   B   C   D    A    B    C    D new_col_list\n",
      "0  a0  b0  c0  d0  a4  b4  c4  d4   a8   b8   c8   d8           n1\n",
      "1  a1  b1  c1  d1  a5  b5  c5  d5   a9   b9   c9   d9           n2\n",
      "2  a2  b2  c2  d2  a6  b6  c6  d6  a10  b10  c10  d10           n3\n",
      "3  a3  b3  c3  d3  a7  b7  c7  d7  a11  b11  c11  d11           n4\n"
     ]
    }
   ],
   "source": [
    "# 새로운 열 추가\n",
    "col_concat['new_col_list'] = ['n1', 'n2', 'n3', 'n4']\n",
    "             # 변수명                 열내용\n",
    "print(col_concat)  # 열 이름 중복\n",
    "\n",
    "#     A   B   C   D   A   B   C   D    A    B    C    D new_col_list\n",
    "# 0  a0  b0  c0  d0  a4  b4  c4  d4   a8   b8   c8   d8           n1\n",
    "# 1  a1  b1  c1  d1  a5  b5  c5  d5   a9   b9   c9   d9           n2\n",
    "# 2  a2  b2  c2  d2  a6  b6  c6  d6  a10  b10  c10  d10           n3\n",
    "# 3  a3  b3  c3  d3  a7  b7  c7  d7  a11  b11  c11  d11           n4"
   ]
  },
  {
   "cell_type": "code",
   "execution_count": 23,
   "metadata": {},
   "outputs": [
    {
     "name": "stdout",
     "output_type": "stream",
     "text": [
      "   0   1   2   3   4   5   6   7    8    9    10   11\n",
      "0  a0  b0  c0  d0  a4  b4  c4  d4   a8   b8   c8   d8\n",
      "1  a1  b1  c1  d1  a5  b5  c5  d5   a9   b9   c9   d9\n",
      "2  a2  b2  c2  d2  a6  b6  c6  d6  a10  b10  c10  d10\n",
      "3  a3  b3  c3  d3  a7  b7  c7  d7  a11  b11  c11  d11\n"
     ]
    }
   ],
   "source": [
    "# 열 이름 중복 안되게 -> ignore_index=True와 axis=1(가로)\n",
    "print(pd.concat([df1, df2, df3], axis=1, ignore_index=True))\n",
    "\n",
    "#    0   1   2   3   4   5   6   7    8    9    10   11\n",
    "# 0  a0  b0  c0  d0  a4  b4  c4  d4   a8   b8   c8   d8\n",
    "# 1  a1  b1  c1  d1  a5  b5  c5  d5   a9   b9   c9   d9\n",
    "# 2  a2  b2  c2  d2  a6  b6  c6  d6  a10  b10  c10  d10\n",
    "# 3  a3  b3  c3  d3  a7  b7  c7  d7  a11  b11  c11  d11"
   ]
  },
  {
   "cell_type": "markdown",
   "metadata": {},
   "source": [
    "# 공통 열과 공통 인덱스만 연결하기"
   ]
  },
  {
   "cell_type": "code",
   "execution_count": 24,
   "metadata": {},
   "outputs": [
    {
     "name": "stdout",
     "output_type": "stream",
     "text": [
      "     A    B    C    D    E    F    G    H\n",
      "0   a0   b0   c0   d0  NaN  NaN  NaN  NaN\n",
      "1   a1   b1   c1   d1  NaN  NaN  NaN  NaN\n",
      "2   a2   b2   c2   d2  NaN  NaN  NaN  NaN\n",
      "3   a3   b3   c3   d3  NaN  NaN  NaN  NaN\n",
      "0  NaN  NaN  NaN  NaN   a4   b4   c4   d4\n",
      "1  NaN  NaN  NaN  NaN   a5   b5   c5   d5\n",
      "2  NaN  NaN  NaN  NaN   a6   b6   c6   d6\n",
      "3  NaN  NaN  NaN  NaN   a7   b7   c7   d7\n",
      "0   a8  NaN   b8  NaN  NaN   c8  NaN   d8\n",
      "1   a9  NaN   b9  NaN  NaN   c9  NaN   d9\n",
      "2  a10  NaN  b10  NaN  NaN  c10  NaN  d10\n",
      "3  a11  NaN  b11  NaN  NaN  c11  NaN  d11\n"
     ]
    },
    {
     "name": "stderr",
     "output_type": "stream",
     "text": [
      "C:\\Users\\gyyoo\\Anaconda3\\lib\\site-packages\\ipykernel_launcher.py:9: FutureWarning: Sorting because non-concatenation axis is not aligned. A future version\n",
      "of pandas will change to not sort by default.\n",
      "\n",
      "To accept the future behavior, pass 'sort=False'.\n",
      "\n",
      "To retain the current behavior and silence the warning, pass 'sort=True'.\n",
      "\n",
      "  if __name__ == '__main__':\n"
     ]
    }
   ],
   "source": [
    "# 열의 이름 일부가 서로 다른 데이터 프레임을 연결하면? -> 누락값 뜸\n",
    "\n",
    "# 열 이름 일부 중복\n",
    "df1.columns = ['A', 'B', 'C', 'D']\n",
    "df2.columns = ['E', 'F', 'G', 'H']\n",
    "df3.columns = ['A', 'C', 'F', 'H']\n",
    "\n",
    "# 데이터 연결\n",
    "row_concat = pd.concat([df1, df2, df3])\n",
    "print(row_concat)\n",
    "\n",
    "#      A    B    C    D    E    F    G    H\n",
    "# 0   a0   b0   c0   d0  NaN  NaN  NaN  NaN\n",
    "# 1   a1   b1   c1   d1  NaN  NaN  NaN  NaN\n",
    "# 2   a2   b2   c2   d2  NaN  NaN  NaN  NaN\n",
    "# 3   a3   b3   c3   d3  NaN  NaN  NaN  NaN\n",
    "# 0  NaN  NaN  NaN  NaN   a4   b4   c4   d4\n",
    "# 1  NaN  NaN  NaN  NaN   a5   b5   c5   d5\n",
    "# 2  NaN  NaN  NaN  NaN   a6   b6   c6   d6\n",
    "# 3  NaN  NaN  NaN  NaN   a7   b7   c7   d7\n",
    "# 0   a8  NaN   b8  NaN  NaN   c8  NaN   d8\n",
    "# 1   a9  NaN   b9  NaN  NaN   c9  NaN   d9\n",
    "# 2  a10  NaN  b10  NaN  NaN  c10  NaN  d10\n",
    "# 3  a11  NaN  b11  NaN  NaN  c11  NaN  d11"
   ]
  },
  {
   "cell_type": "code",
   "execution_count": 27,
   "metadata": {},
   "outputs": [
    {
     "name": "stdout",
     "output_type": "stream",
     "text": [
      "Empty DataFrame\n",
      "Columns: []\n",
      "Index: [0, 1, 2, 3, 0, 1, 2, 3, 0, 1, 2, 3]\n"
     ]
    }
   ],
   "source": [
    "# 누락값 없이 데이터 연결 -> 공통열만 골라 연결!\n",
    "print(pd.concat([df1, df2, df3], join='inner'))\n",
    "\n",
    "# Empty DataFrame\n",
    "# Columns: []\n",
    "# Index: [0, 1, 2, 3, 0, 1, 2, 3, 0, 1, 2, 3]\n",
    "# why? 세 데이터프레임의 공통인자 없음!"
   ]
  },
  {
   "cell_type": "code",
   "execution_count": 28,
   "metadata": {},
   "outputs": [
    {
     "name": "stdout",
     "output_type": "stream",
     "text": [
      "     A    C\n",
      "0   a0   c0\n",
      "1   a1   c1\n",
      "2   a2   c2\n",
      "3   a3   c3\n",
      "0   a8   b8\n",
      "1   a9   b9\n",
      "2  a10  b10\n",
      "3  a11  b11\n"
     ]
    }
   ],
   "source": [
    "print(pd.concat([df1, df3], ignore_index=False, join='inner'))\n",
    "\n",
    "# 누락값 없음\n",
    "#      A    C\n",
    "# 0   a0   c0\n",
    "# 1   a1   c1\n",
    "# 2   a2   c2\n",
    "# 3   a3   c3\n",
    "# 0   a8   b8\n",
    "# 1   a9   b9\n",
    "# 2  a10  b10\n",
    "# 3  a11  b11"
   ]
  },
  {
   "cell_type": "code",
   "execution_count": 29,
   "metadata": {},
   "outputs": [
    {
     "name": "stdout",
     "output_type": "stream",
     "text": [
      "    A   B   C   D\n",
      "0  a0  b0  c0  d0\n",
      "1  a1  b1  c1  d1\n",
      "2  a2  b2  c2  d2\n",
      "3  a3  b3  c3  d3\n"
     ]
    }
   ],
   "source": [
    "# 데이터프레임을 행 방향으로 연결\n",
    "df1.index = [0, 1, 2, 3]\n",
    "df2.index = [4, 5, 6, 7]\n",
    "df3.index = [0, 2, 5, 7]\n",
    "\n",
    "print(df1)\n",
    "#     A   B   C   D\n",
    "# 0  a0  b0  c0  d0\n",
    "# 1  a1  b1  c1  d1\n",
    "# 2  a2  b2  c2  d2\n",
    "# 3  a3  b3  c3  d3"
   ]
  },
  {
   "cell_type": "code",
   "execution_count": 30,
   "metadata": {},
   "outputs": [
    {
     "name": "stdout",
     "output_type": "stream",
     "text": [
      "     A    B    C    D    E    F    G    H    A    C    F    H\n",
      "0   a0   b0   c0   d0  NaN  NaN  NaN  NaN   a8   b8   c8   d8\n",
      "1   a1   b1   c1   d1  NaN  NaN  NaN  NaN  NaN  NaN  NaN  NaN\n",
      "2   a2   b2   c2   d2  NaN  NaN  NaN  NaN   a9   b9   c9   d9\n",
      "3   a3   b3   c3   d3  NaN  NaN  NaN  NaN  NaN  NaN  NaN  NaN\n",
      "4  NaN  NaN  NaN  NaN   a4   b4   c4   d4  NaN  NaN  NaN  NaN\n",
      "5  NaN  NaN  NaN  NaN   a5   b5   c5   d5  a10  b10  c10  d10\n",
      "6  NaN  NaN  NaN  NaN   a6   b6   c6   d6  NaN  NaN  NaN  NaN\n",
      "7  NaN  NaN  NaN  NaN   a7   b7   c7   d7  a11  b11  c11  d11\n"
     ]
    }
   ],
   "source": [
    "col_concat = pd.concat([df1, df2, df3], axis=1)\n",
    "print(col_concat)\n",
    "\n",
    "#      A    B    C    D    E    F    G    H    A    C    F    H\n",
    "# 0   a0   b0   c0   d0  NaN  NaN  NaN  NaN   a8   b8   c8   d8\n",
    "# 1   a1   b1   c1   d1  NaN  NaN  NaN  NaN  NaN  NaN  NaN  NaN\n",
    "# 2   a2   b2   c2   d2  NaN  NaN  NaN  NaN   a9   b9   c9   d9\n",
    "# 3   a3   b3   c3   d3  NaN  NaN  NaN  NaN  NaN  NaN  NaN  NaN\n",
    "# 4  NaN  NaN  NaN  NaN   a4   b4   c4   d4  NaN  NaN  NaN  NaN\n",
    "# 5  NaN  NaN  NaN  NaN   a5   b5   c5   d5  a10  b10  c10  d10\n",
    "# 6  NaN  NaN  NaN  NaN   a6   b6   c6   d6  NaN  NaN  NaN  NaN\n",
    "# 7  NaN  NaN  NaN  NaN   a7   b7   c7   d7  a11  b11  c11  d11"
   ]
  },
  {
   "cell_type": "code",
   "execution_count": 32,
   "metadata": {},
   "outputs": [
    {
     "name": "stdout",
     "output_type": "stream",
     "text": [
      "    A   B   C   D   A   C   F   H\n",
      "0  a0  b0  c0  d0  a8  b8  c8  d8\n",
      "2  a2  b2  c2  d2  a9  b9  c9  d9\n"
     ]
    }
   ],
   "source": [
    "print(pd.concat([df1, df3], axis=1, join='inner'))"
   ]
  },
  {
   "cell_type": "code",
   "execution_count": null,
   "metadata": {},
   "outputs": [],
   "source": [
    "# 외부조인과 내부조인\n",
    "1. 내부조인: 둘 이상의 데이터프레임에서 조건에 맞는 행을 연결\n",
    "\n",
    "2. 외부조인: 두 데이터프레임 중 어떤 데이터프레임을 기준으로 할 것인가\n",
    "     - 왼쪽 외부조인: 연결 시 왼쪽 데이터프레임 모두 포함\n",
    "     - 오른쪽 외부조인: 연결 시 오른쪽 데이터프레임 모두 포함\n",
    "     - 완전 외부조인: 연결 시 양쪽 데이터프레임 모두 포함"
   ]
  },
  {
   "cell_type": "markdown",
   "metadata": {},
   "source": [
    "# merge 메서드 사용하기"
   ]
  },
  {
   "cell_type": "code",
   "execution_count": null,
   "metadata": {},
   "outputs": [],
   "source": []
  }
 ],
 "metadata": {
  "kernelspec": {
   "display_name": "Python 3",
   "language": "python",
   "name": "python3"
  },
  "language_info": {
   "codemirror_mode": {
    "name": "ipython",
    "version": 3
   },
   "file_extension": ".py",
   "mimetype": "text/x-python",
   "name": "python",
   "nbconvert_exporter": "python",
   "pygments_lexer": "ipython3",
   "version": "3.7.3"
  }
 },
 "nbformat": 4,
 "nbformat_minor": 2
}
