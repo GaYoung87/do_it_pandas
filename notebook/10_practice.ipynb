{
 "cells": [
  {
   "cell_type": "markdown",
   "metadata": {},
   "source": [
    "# 제곱 함수와 n 제곱 함수 만들기"
   ]
  },
  {
   "cell_type": "code",
   "execution_count": 1,
   "metadata": {},
   "outputs": [],
   "source": [
    "def my_sq(x):\n",
    "    return x ** 2"
   ]
  },
  {
   "cell_type": "code",
   "execution_count": 3,
   "metadata": {},
   "outputs": [],
   "source": [
    "def my_exp(x, n):\n",
    "    return x ** n"
   ]
  },
  {
   "cell_type": "code",
   "execution_count": 4,
   "metadata": {},
   "outputs": [
    {
     "name": "stdout",
     "output_type": "stream",
     "text": [
      "16\n",
      "16\n"
     ]
    }
   ],
   "source": [
    "print(my_sq(4))  # 16\n",
    "print(my_exp(2, 4))  # 16"
   ]
  },
  {
   "cell_type": "markdown",
   "metadata": {},
   "source": [
    "# 시리즈와 apply 메서드"
   ]
  },
  {
   "cell_type": "code",
   "execution_count": 5,
   "metadata": {},
   "outputs": [
    {
     "name": "stdout",
     "output_type": "stream",
     "text": [
      "    a   b\n",
      "0  10  20\n",
      "1  20  30\n",
      "2  30  40\n"
     ]
    }
   ],
   "source": [
    "import pandas as pd\n",
    "\n",
    "df = pd.DataFrame({'a': [10, 20, 30], 'b': [20, 30, 40]})\n",
    "print(df)"
   ]
  },
  {
   "cell_type": "code",
   "execution_count": 6,
   "metadata": {},
   "outputs": [
    {
     "name": "stdout",
     "output_type": "stream",
     "text": [
      "0    100\n",
      "1    400\n",
      "2    900\n",
      "Name: a, dtype: int64\n"
     ]
    }
   ],
   "source": [
    "print(df['a'] ** 2)"
   ]
  },
  {
   "cell_type": "code",
   "execution_count": 7,
   "metadata": {},
   "outputs": [
    {
     "name": "stdout",
     "output_type": "stream",
     "text": [
      "0    100\n",
      "1    400\n",
      "2    900\n",
      "Name: a, dtype: int64\n"
     ]
    }
   ],
   "source": [
    "sq = df['a'].apply(my_sq)\n",
    "print(sq)"
   ]
  },
  {
   "cell_type": "code",
   "execution_count": 9,
   "metadata": {},
   "outputs": [
    {
     "name": "stdout",
     "output_type": "stream",
     "text": [
      "0     1000\n",
      "1     8000\n",
      "2    27000\n",
      "Name: a, dtype: int64\n"
     ]
    }
   ],
   "source": [
    "ex = df['a'].apply(my_exp, n=3)  # my_exp은 인자가 2개!\n",
    "print(ex)"
   ]
  },
  {
   "cell_type": "markdown",
   "metadata": {},
   "source": [
    "# 데이터 프레임과 apply 메서드"
   ]
  },
  {
   "cell_type": "code",
   "execution_count": 10,
   "metadata": {},
   "outputs": [
    {
     "name": "stdout",
     "output_type": "stream",
     "text": [
      "    a   b\n",
      "0  10  20\n",
      "1  20  30\n",
      "2  30  40\n"
     ]
    }
   ],
   "source": [
    "df = pd.DataFrame({'a': [10, 20, 30], 'b': [20, 30, 40]})\n",
    "print(df)"
   ]
  },
  {
   "cell_type": "code",
   "execution_count": 11,
   "metadata": {},
   "outputs": [],
   "source": [
    "# 1개의 값ㅇ르 전달받아 출력하는 함수\n",
    "def print_me(x):\n",
    "    print(x)"
   ]
  },
  {
   "cell_type": "code",
   "execution_count": 12,
   "metadata": {},
   "outputs": [
    {
     "name": "stdout",
     "output_type": "stream",
     "text": [
      "0    10\n",
      "1    20\n",
      "2    30\n",
      "Name: a, dtype: int64\n",
      "0    20\n",
      "1    30\n",
      "2    40\n",
      "Name: b, dtype: int64\n",
      "a    None\n",
      "b    None\n",
      "dtype: object\n"
     ]
    }
   ],
   "source": [
    "# axis=0 / axis=1 작성해야하는 이유: 데이터프레임에 함수를 적용하므로 \n",
    "#                                    함수를 열 방향으로 적용할지, 행 방향으로 적용할지 정해야함\n",
    "print(df.apply(print_me, axis=0))  # axis=0: 열\n",
    "\n",
    "# 0    10\n",
    "# 1    20\n",
    "# 2    30\n",
    "# Name: a, dtype: int64\n",
    "# 0    20\n",
    "# 1    30\n",
    "# 2    40\n",
    "# Name: b, dtype: int64\n",
    "# a    None\n",
    "# b    None\n",
    "# dtype: object"
   ]
  },
  {
   "cell_type": "code",
   "execution_count": 13,
   "metadata": {},
   "outputs": [
    {
     "name": "stdout",
     "output_type": "stream",
     "text": [
      "a    10\n",
      "b    20\n",
      "Name: 0, dtype: int64\n",
      "a    20\n",
      "b    30\n",
      "Name: 1, dtype: int64\n",
      "a    30\n",
      "b    40\n",
      "Name: 2, dtype: int64\n",
      "0    None\n",
      "1    None\n",
      "2    None\n",
      "dtype: object\n"
     ]
    }
   ],
   "source": [
    "print(df.apply(print_me, axis=1))  # axis=1: 행"
   ]
  },
  {
   "cell_type": "code",
   "execution_count": 14,
   "metadata": {},
   "outputs": [
    {
     "name": "stdout",
     "output_type": "stream",
     "text": [
      "0    10\n",
      "1    20\n",
      "2    30\n",
      "Name: a, dtype: int64\n",
      "0    20\n",
      "1    30\n",
      "2    40\n",
      "Name: b, dtype: int64\n"
     ]
    }
   ],
   "source": [
    "print(df['a'])\n",
    "# 0    10\n",
    "# 1    20\n",
    "# 2    30\n",
    "# Name: a, dtype: int64\n",
    "\n",
    "print(df['b'])\n",
    "# 0    20\n",
    "# 1    30\n",
    "# 2    40\n",
    "# Name: b, dtype: int64"
   ]
  },
  {
   "cell_type": "code",
   "execution_count": 15,
   "metadata": {},
   "outputs": [
    {
     "ename": "TypeError",
     "evalue": "(\"avg_3() missing 2 required positional arguments: 'y' and 'z'\", 'occurred at index a')",
     "output_type": "error",
     "traceback": [
      "\u001b[1;31m---------------------------------------------------------------------------\u001b[0m",
      "\u001b[1;31mTypeError\u001b[0m                                 Traceback (most recent call last)",
      "\u001b[1;32m<ipython-input-15-54d01904601e>\u001b[0m in \u001b[0;36m<module>\u001b[1;34m\u001b[0m\n\u001b[0;32m      3\u001b[0m     \u001b[1;32mreturn\u001b[0m \u001b[1;33m(\u001b[0m\u001b[0mx\u001b[0m \u001b[1;33m+\u001b[0m \u001b[0my\u001b[0m \u001b[1;33m+\u001b[0m \u001b[0mz\u001b[0m\u001b[1;33m)\u001b[0m \u001b[1;33m/\u001b[0m \u001b[1;36m3\u001b[0m\u001b[1;33m\u001b[0m\u001b[1;33m\u001b[0m\u001b[0m\n\u001b[0;32m      4\u001b[0m \u001b[1;33m\u001b[0m\u001b[0m\n\u001b[1;32m----> 5\u001b[1;33m \u001b[0mprint\u001b[0m\u001b[1;33m(\u001b[0m\u001b[0mdf\u001b[0m\u001b[1;33m.\u001b[0m\u001b[0mapply\u001b[0m\u001b[1;33m(\u001b[0m\u001b[0mavg_3\u001b[0m\u001b[1;33m)\u001b[0m\u001b[1;33m)\u001b[0m\u001b[1;33m\u001b[0m\u001b[1;33m\u001b[0m\u001b[0m\n\u001b[0m",
      "\u001b[1;32m~\\Anaconda3\\lib\\site-packages\\pandas\\core\\frame.py\u001b[0m in \u001b[0;36mapply\u001b[1;34m(self, func, axis, broadcast, raw, reduce, result_type, args, **kwds)\u001b[0m\n\u001b[0;32m   6485\u001b[0m                          \u001b[0margs\u001b[0m\u001b[1;33m=\u001b[0m\u001b[0margs\u001b[0m\u001b[1;33m,\u001b[0m\u001b[1;33m\u001b[0m\u001b[1;33m\u001b[0m\u001b[0m\n\u001b[0;32m   6486\u001b[0m                          kwds=kwds)\n\u001b[1;32m-> 6487\u001b[1;33m         \u001b[1;32mreturn\u001b[0m \u001b[0mop\u001b[0m\u001b[1;33m.\u001b[0m\u001b[0mget_result\u001b[0m\u001b[1;33m(\u001b[0m\u001b[1;33m)\u001b[0m\u001b[1;33m\u001b[0m\u001b[1;33m\u001b[0m\u001b[0m\n\u001b[0m\u001b[0;32m   6488\u001b[0m \u001b[1;33m\u001b[0m\u001b[0m\n\u001b[0;32m   6489\u001b[0m     \u001b[1;32mdef\u001b[0m \u001b[0mapplymap\u001b[0m\u001b[1;33m(\u001b[0m\u001b[0mself\u001b[0m\u001b[1;33m,\u001b[0m \u001b[0mfunc\u001b[0m\u001b[1;33m)\u001b[0m\u001b[1;33m:\u001b[0m\u001b[1;33m\u001b[0m\u001b[1;33m\u001b[0m\u001b[0m\n",
      "\u001b[1;32m~\\Anaconda3\\lib\\site-packages\\pandas\\core\\apply.py\u001b[0m in \u001b[0;36mget_result\u001b[1;34m(self)\u001b[0m\n\u001b[0;32m    149\u001b[0m             \u001b[1;32mreturn\u001b[0m \u001b[0mself\u001b[0m\u001b[1;33m.\u001b[0m\u001b[0mapply_raw\u001b[0m\u001b[1;33m(\u001b[0m\u001b[1;33m)\u001b[0m\u001b[1;33m\u001b[0m\u001b[1;33m\u001b[0m\u001b[0m\n\u001b[0;32m    150\u001b[0m \u001b[1;33m\u001b[0m\u001b[0m\n\u001b[1;32m--> 151\u001b[1;33m         \u001b[1;32mreturn\u001b[0m \u001b[0mself\u001b[0m\u001b[1;33m.\u001b[0m\u001b[0mapply_standard\u001b[0m\u001b[1;33m(\u001b[0m\u001b[1;33m)\u001b[0m\u001b[1;33m\u001b[0m\u001b[1;33m\u001b[0m\u001b[0m\n\u001b[0m\u001b[0;32m    152\u001b[0m \u001b[1;33m\u001b[0m\u001b[0m\n\u001b[0;32m    153\u001b[0m     \u001b[1;32mdef\u001b[0m \u001b[0mapply_empty_result\u001b[0m\u001b[1;33m(\u001b[0m\u001b[0mself\u001b[0m\u001b[1;33m)\u001b[0m\u001b[1;33m:\u001b[0m\u001b[1;33m\u001b[0m\u001b[1;33m\u001b[0m\u001b[0m\n",
      "\u001b[1;32m~\\Anaconda3\\lib\\site-packages\\pandas\\core\\apply.py\u001b[0m in \u001b[0;36mapply_standard\u001b[1;34m(self)\u001b[0m\n\u001b[0;32m    255\u001b[0m \u001b[1;33m\u001b[0m\u001b[0m\n\u001b[0;32m    256\u001b[0m         \u001b[1;31m# compute the result using the series generator\u001b[0m\u001b[1;33m\u001b[0m\u001b[1;33m\u001b[0m\u001b[1;33m\u001b[0m\u001b[0m\n\u001b[1;32m--> 257\u001b[1;33m         \u001b[0mself\u001b[0m\u001b[1;33m.\u001b[0m\u001b[0mapply_series_generator\u001b[0m\u001b[1;33m(\u001b[0m\u001b[1;33m)\u001b[0m\u001b[1;33m\u001b[0m\u001b[1;33m\u001b[0m\u001b[0m\n\u001b[0m\u001b[0;32m    258\u001b[0m \u001b[1;33m\u001b[0m\u001b[0m\n\u001b[0;32m    259\u001b[0m         \u001b[1;31m# wrap results\u001b[0m\u001b[1;33m\u001b[0m\u001b[1;33m\u001b[0m\u001b[1;33m\u001b[0m\u001b[0m\n",
      "\u001b[1;32m~\\Anaconda3\\lib\\site-packages\\pandas\\core\\apply.py\u001b[0m in \u001b[0;36mapply_series_generator\u001b[1;34m(self)\u001b[0m\n\u001b[0;32m    284\u001b[0m             \u001b[1;32mtry\u001b[0m\u001b[1;33m:\u001b[0m\u001b[1;33m\u001b[0m\u001b[1;33m\u001b[0m\u001b[0m\n\u001b[0;32m    285\u001b[0m                 \u001b[1;32mfor\u001b[0m \u001b[0mi\u001b[0m\u001b[1;33m,\u001b[0m \u001b[0mv\u001b[0m \u001b[1;32min\u001b[0m \u001b[0menumerate\u001b[0m\u001b[1;33m(\u001b[0m\u001b[0mseries_gen\u001b[0m\u001b[1;33m)\u001b[0m\u001b[1;33m:\u001b[0m\u001b[1;33m\u001b[0m\u001b[1;33m\u001b[0m\u001b[0m\n\u001b[1;32m--> 286\u001b[1;33m                     \u001b[0mresults\u001b[0m\u001b[1;33m[\u001b[0m\u001b[0mi\u001b[0m\u001b[1;33m]\u001b[0m \u001b[1;33m=\u001b[0m \u001b[0mself\u001b[0m\u001b[1;33m.\u001b[0m\u001b[0mf\u001b[0m\u001b[1;33m(\u001b[0m\u001b[0mv\u001b[0m\u001b[1;33m)\u001b[0m\u001b[1;33m\u001b[0m\u001b[1;33m\u001b[0m\u001b[0m\n\u001b[0m\u001b[0;32m    287\u001b[0m                     \u001b[0mkeys\u001b[0m\u001b[1;33m.\u001b[0m\u001b[0mappend\u001b[0m\u001b[1;33m(\u001b[0m\u001b[0mv\u001b[0m\u001b[1;33m.\u001b[0m\u001b[0mname\u001b[0m\u001b[1;33m)\u001b[0m\u001b[1;33m\u001b[0m\u001b[1;33m\u001b[0m\u001b[0m\n\u001b[0;32m    288\u001b[0m             \u001b[1;32mexcept\u001b[0m \u001b[0mException\u001b[0m \u001b[1;32mas\u001b[0m \u001b[0me\u001b[0m\u001b[1;33m:\u001b[0m\u001b[1;33m\u001b[0m\u001b[1;33m\u001b[0m\u001b[0m\n",
      "\u001b[1;31mTypeError\u001b[0m: (\"avg_3() missing 2 required positional arguments: 'y' and 'z'\", 'occurred at index a')"
     ]
    }
   ],
   "source": [
    "# 3개의 인자를 받아 평균을 계산하는 함수\n",
    "def avg_3(x, y, z):\n",
    "    return (x + y + z) / 3\n",
    "\n",
    "print(df.apply(avg_3))  # ERROR: (\"avg_3() missing 2 required positional arguments: 'y' and 'z'\", 'occurred at index a')\n",
    "# avg_3은 열단위의 데이터(df['a'])가 전달되었고, avg_3함수에서 1개의 인자로 인식"
   ]
  },
  {
   "cell_type": "code",
   "execution_count": 16,
   "metadata": {},
   "outputs": [
    {
     "name": "stdout",
     "output_type": "stream",
     "text": [
      "a    20.0\n",
      "b    30.0\n",
      "dtype: float64\n"
     ]
    }
   ],
   "source": [
    "# avg_3 함수가 열 단위로 데이터를 처리할 수 있도록 개선한 avg_3_apply함수\n",
    "def avg_3_apply(col):\n",
    "    x = col[0]\n",
    "    y = col[1]\n",
    "    z = col[2]\n",
    "    return (x + y + z) / 3\n",
    "\n",
    "print(df.apply(avg_3_apply))\n",
    "\n",
    "# a    20.0\n",
    "# b    30.0\n",
    "# dtype: float64"
   ]
  },
  {
   "cell_type": "code",
   "execution_count": 17,
   "metadata": {},
   "outputs": [],
   "source": [
    "# avg_3_apply 함수는 데이터프레임의 행 갯수가 3이라는 것을 알고 있다는 전제하에서 만든 것\n",
    "# 보통 for문을 사용함\n",
    "def avg_3_apply(col):\n",
    "    sum = 0\n",
    "    for item in col:\n",
    "        sum += item\n",
    "    return sum / df.shape[0]  # 행 갯수로 나눔 -> 열 방향으로 데이터를 처리\n",
    "\n",
    "print(avg_3_apply(df['a']))  # 20.0"
   ]
  },
  {
   "cell_type": "code",
   "execution_count": 23,
   "metadata": {},
   "outputs": [
    {
     "name": "stdout",
     "output_type": "stream",
     "text": [
      "0    15.0\n",
      "1    25.0\n",
      "2    35.0\n",
      "dtype: float64\n"
     ]
    }
   ],
   "source": [
    "# 행 방향으로 데이터를 처리하는 함수\n",
    "def avg_2_apply(row):\n",
    "    sum = 0\n",
    "    for item in row:\n",
    "        sum += item\n",
    "    return sum / df.shape[1]  # 열 갯수로 나눔 -> 행 방향으로 데이터를 처리\n",
    "\n",
    "print(df.apply(avg_2_apply, axis=1))\n",
    "\n",
    "# 0    15.0\n",
    "# 1    25.0\n",
    "# 2    35.0\n",
    "# dtype: float64"
   ]
  },
  {
   "cell_type": "markdown",
   "metadata": {},
   "source": [
    "# 데이터프레임의 누락값을 처리한 다음 apply 메서드 사용하기 - 열 방향"
   ]
  },
  {
   "cell_type": "code",
   "execution_count": 24,
   "metadata": {},
   "outputs": [
    {
     "name": "stdout",
     "output_type": "stream",
     "text": [
      "     survived  pclass     sex   age  sibsp  parch      fare embarked   class  \\\n",
      "0           0       3    male  22.0      1      0    7.2500        S   Third   \n",
      "1           1       1  female  38.0      1      0   71.2833        C   First   \n",
      "2           1       3  female  26.0      0      0    7.9250        S   Third   \n",
      "3           1       1  female  35.0      1      0   53.1000        S   First   \n",
      "4           0       3    male  35.0      0      0    8.0500        S   Third   \n",
      "5           0       3    male   NaN      0      0    8.4583        Q   Third   \n",
      "6           0       1    male  54.0      0      0   51.8625        S   First   \n",
      "7           0       3    male   2.0      3      1   21.0750        S   Third   \n",
      "8           1       3  female  27.0      0      2   11.1333        S   Third   \n",
      "9           1       2  female  14.0      1      0   30.0708        C  Second   \n",
      "10          1       3  female   4.0      1      1   16.7000        S   Third   \n",
      "11          1       1  female  58.0      0      0   26.5500        S   First   \n",
      "12          0       3    male  20.0      0      0    8.0500        S   Third   \n",
      "13          0       3    male  39.0      1      5   31.2750        S   Third   \n",
      "14          0       3  female  14.0      0      0    7.8542        S   Third   \n",
      "15          1       2  female  55.0      0      0   16.0000        S  Second   \n",
      "16          0       3    male   2.0      4      1   29.1250        Q   Third   \n",
      "17          1       2    male   NaN      0      0   13.0000        S  Second   \n",
      "18          0       3  female  31.0      1      0   18.0000        S   Third   \n",
      "19          1       3  female   NaN      0      0    7.2250        C   Third   \n",
      "20          0       2    male  35.0      0      0   26.0000        S  Second   \n",
      "21          1       2    male  34.0      0      0   13.0000        S  Second   \n",
      "22          1       3  female  15.0      0      0    8.0292        Q   Third   \n",
      "23          1       1    male  28.0      0      0   35.5000        S   First   \n",
      "24          0       3  female   8.0      3      1   21.0750        S   Third   \n",
      "25          1       3  female  38.0      1      5   31.3875        S   Third   \n",
      "26          0       3    male   NaN      0      0    7.2250        C   Third   \n",
      "27          0       1    male  19.0      3      2  263.0000        S   First   \n",
      "28          1       3  female   NaN      0      0    7.8792        Q   Third   \n",
      "29          0       3    male   NaN      0      0    7.8958        S   Third   \n",
      "..        ...     ...     ...   ...    ...    ...       ...      ...     ...   \n",
      "861         0       2    male  21.0      1      0   11.5000        S  Second   \n",
      "862         1       1  female  48.0      0      0   25.9292        S   First   \n",
      "863         0       3  female   NaN      8      2   69.5500        S   Third   \n",
      "864         0       2    male  24.0      0      0   13.0000        S  Second   \n",
      "865         1       2  female  42.0      0      0   13.0000        S  Second   \n",
      "866         1       2  female  27.0      1      0   13.8583        C  Second   \n",
      "867         0       1    male  31.0      0      0   50.4958        S   First   \n",
      "868         0       3    male   NaN      0      0    9.5000        S   Third   \n",
      "869         1       3    male   4.0      1      1   11.1333        S   Third   \n",
      "870         0       3    male  26.0      0      0    7.8958        S   Third   \n",
      "871         1       1  female  47.0      1      1   52.5542        S   First   \n",
      "872         0       1    male  33.0      0      0    5.0000        S   First   \n",
      "873         0       3    male  47.0      0      0    9.0000        S   Third   \n",
      "874         1       2  female  28.0      1      0   24.0000        C  Second   \n",
      "875         1       3  female  15.0      0      0    7.2250        C   Third   \n",
      "876         0       3    male  20.0      0      0    9.8458        S   Third   \n",
      "877         0       3    male  19.0      0      0    7.8958        S   Third   \n",
      "878         0       3    male   NaN      0      0    7.8958        S   Third   \n",
      "879         1       1  female  56.0      0      1   83.1583        C   First   \n",
      "880         1       2  female  25.0      0      1   26.0000        S  Second   \n",
      "881         0       3    male  33.0      0      0    7.8958        S   Third   \n",
      "882         0       3  female  22.0      0      0   10.5167        S   Third   \n",
      "883         0       2    male  28.0      0      0   10.5000        S  Second   \n",
      "884         0       3    male  25.0      0      0    7.0500        S   Third   \n",
      "885         0       3  female  39.0      0      5   29.1250        Q   Third   \n",
      "886         0       2    male  27.0      0      0   13.0000        S  Second   \n",
      "887         1       1  female  19.0      0      0   30.0000        S   First   \n",
      "888         0       3  female   NaN      1      2   23.4500        S   Third   \n",
      "889         1       1    male  26.0      0      0   30.0000        C   First   \n",
      "890         0       3    male  32.0      0      0    7.7500        Q   Third   \n",
      "\n",
      "       who  adult_male deck  embark_town alive  alone  \n",
      "0      man        True  NaN  Southampton    no  False  \n",
      "1    woman       False    C    Cherbourg   yes  False  \n",
      "2    woman       False  NaN  Southampton   yes   True  \n",
      "3    woman       False    C  Southampton   yes  False  \n",
      "4      man        True  NaN  Southampton    no   True  \n",
      "5      man        True  NaN   Queenstown    no   True  \n",
      "6      man        True    E  Southampton    no   True  \n",
      "7    child       False  NaN  Southampton    no  False  \n",
      "8    woman       False  NaN  Southampton   yes  False  \n",
      "9    child       False  NaN    Cherbourg   yes  False  \n",
      "10   child       False    G  Southampton   yes  False  \n",
      "11   woman       False    C  Southampton   yes   True  \n",
      "12     man        True  NaN  Southampton    no   True  \n",
      "13     man        True  NaN  Southampton    no  False  \n",
      "14   child       False  NaN  Southampton    no   True  \n",
      "15   woman       False  NaN  Southampton   yes   True  \n",
      "16   child       False  NaN   Queenstown    no  False  \n",
      "17     man        True  NaN  Southampton   yes   True  \n",
      "18   woman       False  NaN  Southampton    no  False  \n",
      "19   woman       False  NaN    Cherbourg   yes   True  \n",
      "20     man        True  NaN  Southampton    no   True  \n",
      "21     man        True    D  Southampton   yes   True  \n",
      "22   child       False  NaN   Queenstown   yes   True  \n",
      "23     man        True    A  Southampton   yes   True  \n",
      "24   child       False  NaN  Southampton    no  False  \n",
      "25   woman       False  NaN  Southampton   yes  False  \n",
      "26     man        True  NaN    Cherbourg    no   True  \n",
      "27     man        True    C  Southampton    no  False  \n",
      "28   woman       False  NaN   Queenstown   yes   True  \n",
      "29     man        True  NaN  Southampton    no   True  \n",
      "..     ...         ...  ...          ...   ...    ...  \n",
      "861    man        True  NaN  Southampton    no  False  \n",
      "862  woman       False    D  Southampton   yes   True  \n",
      "863  woman       False  NaN  Southampton    no  False  \n",
      "864    man        True  NaN  Southampton    no   True  \n",
      "865  woman       False  NaN  Southampton   yes   True  \n",
      "866  woman       False  NaN    Cherbourg   yes  False  \n",
      "867    man        True    A  Southampton    no   True  \n",
      "868    man        True  NaN  Southampton    no   True  \n",
      "869  child       False  NaN  Southampton   yes  False  \n",
      "870    man        True  NaN  Southampton    no   True  \n",
      "871  woman       False    D  Southampton   yes  False  \n",
      "872    man        True    B  Southampton    no   True  \n",
      "873    man        True  NaN  Southampton    no   True  \n",
      "874  woman       False  NaN    Cherbourg   yes  False  \n",
      "875  child       False  NaN    Cherbourg   yes   True  \n",
      "876    man        True  NaN  Southampton    no   True  \n",
      "877    man        True  NaN  Southampton    no   True  \n",
      "878    man        True  NaN  Southampton    no   True  \n",
      "879  woman       False    C    Cherbourg   yes  False  \n",
      "880  woman       False  NaN  Southampton   yes  False  \n",
      "881    man        True  NaN  Southampton    no   True  \n",
      "882  woman       False  NaN  Southampton    no   True  \n",
      "883    man        True  NaN  Southampton    no   True  \n",
      "884    man        True  NaN  Southampton    no   True  \n",
      "885  woman       False  NaN   Queenstown    no  False  \n",
      "886    man        True  NaN  Southampton    no   True  \n",
      "887  woman       False    B  Southampton   yes   True  \n",
      "888  woman       False  NaN  Southampton    no  False  \n",
      "889    man        True    C    Cherbourg   yes   True  \n",
      "890    man        True  NaN   Queenstown    no   True  \n",
      "\n",
      "[891 rows x 15 columns]\n"
     ]
    }
   ],
   "source": [
    "import seaborn as sns\n",
    "\n",
    "titanic = sns.load_dataset('titanic')\n",
    "print(titanic)"
   ]
  },
  {
   "cell_type": "code",
   "execution_count": 25,
   "metadata": {},
   "outputs": [
    {
     "name": "stdout",
     "output_type": "stream",
     "text": [
      "<class 'pandas.core.frame.DataFrame'>\n",
      "RangeIndex: 891 entries, 0 to 890\n",
      "Data columns (total 15 columns):\n",
      "survived       891 non-null int64\n",
      "pclass         891 non-null int64\n",
      "sex            891 non-null object\n",
      "age            714 non-null float64\n",
      "sibsp          891 non-null int64\n",
      "parch          891 non-null int64\n",
      "fare           891 non-null float64\n",
      "embarked       889 non-null object\n",
      "class          891 non-null category\n",
      "who            891 non-null object\n",
      "adult_male     891 non-null bool\n",
      "deck           203 non-null category\n",
      "embark_town    889 non-null object\n",
      "alive          891 non-null object\n",
      "alone          891 non-null bool\n",
      "dtypes: bool(2), category(2), float64(2), int64(4), object(5)\n",
      "memory usage: 80.6+ KB\n",
      "None\n"
     ]
    }
   ],
   "source": [
    "print(titanic.info())"
   ]
  },
  {
   "cell_type": "code",
   "execution_count": 32,
   "metadata": {},
   "outputs": [],
   "source": [
    "# 누락값의 개수를 반환하는 count_missing함수\n",
    "# 판다스의 isnull메서드에 데이터프레임 전달->누락값의 유무에 따라 True, False를 적용한 데이터프레임이 만듦\n",
    "# 이 값을 넘파이의 sum메서드에 전달하면 누락값의 갯수를 구할 수 있음\n",
    "import numpy as np\n",
    "\n",
    "def count_missing(vec):\n",
    "    nul_vec = pd.isnull(vec)  # 누락값 있는 곳에 True 나머지는 False\n",
    "#                  survived  pclass    sex    age  sibsp  parch   fare  embarked  class  \\\n",
    "#             0    False   False  False  False  False  False  False     False  False\n",
    "    null_count = np.sum(nul_vec)  # 누락값 갯수 더하기\n",
    "    return null_count"
   ]
  },
  {
   "cell_type": "code",
   "execution_count": 33,
   "metadata": {},
   "outputs": [
    {
     "name": "stdout",
     "output_type": "stream",
     "text": [
      "survived         0\n",
      "pclass           0\n",
      "sex              0\n",
      "age            177\n",
      "sibsp            0\n",
      "parch            0\n",
      "fare             0\n",
      "embarked         2\n",
      "class            0\n",
      "who              0\n",
      "adult_male       0\n",
      "deck           688\n",
      "embark_town      2\n",
      "alive            0\n",
      "alone            0\n",
      "dtype: int64\n"
     ]
    }
   ],
   "source": [
    "cmis_col = titanic.apply(count_missing)\n",
    "print(cmis_col)\n",
    "\n",
    "# survived         0\n",
    "# pclass           0\n",
    "# sex              0\n",
    "# age            177   # 누락값 존재"
   ]
  },
  {
   "cell_type": "code",
   "execution_count": 34,
   "metadata": {},
   "outputs": [],
   "source": [
    "# 누락값의 비율을 계산하는 prop_missing\n",
    "def prop_missing(vec):\n",
    "    num = count_missing(vec)  # 누락값 갯수\n",
    "    dem = vec.size  # 전체 데이터 수\n",
    "    return num / dem"
   ]
  },
  {
   "cell_type": "code",
   "execution_count": 35,
   "metadata": {},
   "outputs": [
    {
     "name": "stdout",
     "output_type": "stream",
     "text": [
      "survived       0.000000\n",
      "pclass         0.000000\n",
      "sex            0.000000\n",
      "age            0.198653\n",
      "sibsp          0.000000\n",
      "parch          0.000000\n",
      "fare           0.000000\n",
      "embarked       0.002245\n",
      "class          0.000000\n",
      "who            0.000000\n",
      "adult_male     0.000000\n",
      "deck           0.772166\n",
      "embark_town    0.002245\n",
      "alive          0.000000\n",
      "alone          0.000000\n",
      "dtype: float64\n"
     ]
    }
   ],
   "source": [
    "pmis_col = titanic.apply(prop_missing)\n",
    "print(pmis_col)\n",
    "\n",
    "# survived       0.000000\n",
    "# pclass         0.000000\n",
    "# sex            0.000000\n",
    "# age            0.198653"
   ]
  },
  {
   "cell_type": "code",
   "execution_count": 36,
   "metadata": {},
   "outputs": [],
   "source": [
    "# 누락값이 아닌 데이터의 비율\n",
    "def prop_complete(vec):\n",
    "    return 1 - prop_missing(vec)"
   ]
  },
  {
   "cell_type": "markdown",
   "metadata": {},
   "source": [
    "# 데이터프레임의 누락값을 처리한 다음 apply 메서드 사용하기 - 행 방향"
   ]
  },
  {
   "cell_type": "code",
   "execution_count": 37,
   "metadata": {},
   "outputs": [
    {
     "name": "stdout",
     "output_type": "stream",
     "text": [
      "0    1\n",
      "1    0\n",
      "2    1\n",
      "3    0\n",
      "4    1\n",
      "dtype: int64\n",
      "0    0.066667\n",
      "1    0.000000\n",
      "2    0.066667\n",
      "3    0.000000\n",
      "4    0.066667\n",
      "dtype: float64\n",
      "0    0.933333\n",
      "1    1.000000\n",
      "2    0.933333\n",
      "3    1.000000\n",
      "4    0.933333\n",
      "dtype: float64\n"
     ]
    }
   ],
   "source": [
    "# axis=1 -> 행 방향으로 데이터 처리. -> 열방향에서 만든 것들에 axis=1 추가\n",
    "cmis_row = titanic.apply(count_missing, axis=1)\n",
    "pmis_row = titanic.apply(prop_missing, axis=1)\n",
    "pcom_row = titanic.apply(prop_complete, axis=1)\n",
    "\n",
    "print(cmis_row.head())\n",
    "print(pmis_row.head())\n",
    "print(pcom_row.head())"
   ]
  },
  {
   "cell_type": "code",
   "execution_count": 39,
   "metadata": {},
   "outputs": [
    {
     "name": "stdout",
     "output_type": "stream",
     "text": [
      "     survived  pclass     sex   age  sibsp  parch      fare embarked   class  \\\n",
      "0           0       3    male  22.0      1      0    7.2500        S   Third   \n",
      "1           1       1  female  38.0      1      0   71.2833        C   First   \n",
      "2           1       3  female  26.0      0      0    7.9250        S   Third   \n",
      "3           1       1  female  35.0      1      0   53.1000        S   First   \n",
      "4           0       3    male  35.0      0      0    8.0500        S   Third   \n",
      "5           0       3    male   NaN      0      0    8.4583        Q   Third   \n",
      "6           0       1    male  54.0      0      0   51.8625        S   First   \n",
      "7           0       3    male   2.0      3      1   21.0750        S   Third   \n",
      "8           1       3  female  27.0      0      2   11.1333        S   Third   \n",
      "9           1       2  female  14.0      1      0   30.0708        C  Second   \n",
      "10          1       3  female   4.0      1      1   16.7000        S   Third   \n",
      "11          1       1  female  58.0      0      0   26.5500        S   First   \n",
      "12          0       3    male  20.0      0      0    8.0500        S   Third   \n",
      "13          0       3    male  39.0      1      5   31.2750        S   Third   \n",
      "14          0       3  female  14.0      0      0    7.8542        S   Third   \n",
      "15          1       2  female  55.0      0      0   16.0000        S  Second   \n",
      "16          0       3    male   2.0      4      1   29.1250        Q   Third   \n",
      "17          1       2    male   NaN      0      0   13.0000        S  Second   \n",
      "18          0       3  female  31.0      1      0   18.0000        S   Third   \n",
      "19          1       3  female   NaN      0      0    7.2250        C   Third   \n",
      "20          0       2    male  35.0      0      0   26.0000        S  Second   \n",
      "21          1       2    male  34.0      0      0   13.0000        S  Second   \n",
      "22          1       3  female  15.0      0      0    8.0292        Q   Third   \n",
      "23          1       1    male  28.0      0      0   35.5000        S   First   \n",
      "24          0       3  female   8.0      3      1   21.0750        S   Third   \n",
      "25          1       3  female  38.0      1      5   31.3875        S   Third   \n",
      "26          0       3    male   NaN      0      0    7.2250        C   Third   \n",
      "27          0       1    male  19.0      3      2  263.0000        S   First   \n",
      "28          1       3  female   NaN      0      0    7.8792        Q   Third   \n",
      "29          0       3    male   NaN      0      0    7.8958        S   Third   \n",
      "..        ...     ...     ...   ...    ...    ...       ...      ...     ...   \n",
      "861         0       2    male  21.0      1      0   11.5000        S  Second   \n",
      "862         1       1  female  48.0      0      0   25.9292        S   First   \n",
      "863         0       3  female   NaN      8      2   69.5500        S   Third   \n",
      "864         0       2    male  24.0      0      0   13.0000        S  Second   \n",
      "865         1       2  female  42.0      0      0   13.0000        S  Second   \n",
      "866         1       2  female  27.0      1      0   13.8583        C  Second   \n",
      "867         0       1    male  31.0      0      0   50.4958        S   First   \n",
      "868         0       3    male   NaN      0      0    9.5000        S   Third   \n",
      "869         1       3    male   4.0      1      1   11.1333        S   Third   \n",
      "870         0       3    male  26.0      0      0    7.8958        S   Third   \n",
      "871         1       1  female  47.0      1      1   52.5542        S   First   \n",
      "872         0       1    male  33.0      0      0    5.0000        S   First   \n",
      "873         0       3    male  47.0      0      0    9.0000        S   Third   \n",
      "874         1       2  female  28.0      1      0   24.0000        C  Second   \n",
      "875         1       3  female  15.0      0      0    7.2250        C   Third   \n",
      "876         0       3    male  20.0      0      0    9.8458        S   Third   \n",
      "877         0       3    male  19.0      0      0    7.8958        S   Third   \n",
      "878         0       3    male   NaN      0      0    7.8958        S   Third   \n",
      "879         1       1  female  56.0      0      1   83.1583        C   First   \n",
      "880         1       2  female  25.0      0      1   26.0000        S  Second   \n",
      "881         0       3    male  33.0      0      0    7.8958        S   Third   \n",
      "882         0       3  female  22.0      0      0   10.5167        S   Third   \n",
      "883         0       2    male  28.0      0      0   10.5000        S  Second   \n",
      "884         0       3    male  25.0      0      0    7.0500        S   Third   \n",
      "885         0       3  female  39.0      0      5   29.1250        Q   Third   \n",
      "886         0       2    male  27.0      0      0   13.0000        S  Second   \n",
      "887         1       1  female  19.0      0      0   30.0000        S   First   \n",
      "888         0       3  female   NaN      1      2   23.4500        S   Third   \n",
      "889         1       1    male  26.0      0      0   30.0000        C   First   \n",
      "890         0       3    male  32.0      0      0    7.7500        Q   Third   \n",
      "\n",
      "       who  adult_male deck  embark_town alive  alone  num_missing  \n",
      "0      man        True  NaN  Southampton    no  False            1  \n",
      "1    woman       False    C    Cherbourg   yes  False            0  \n",
      "2    woman       False  NaN  Southampton   yes   True            1  \n",
      "3    woman       False    C  Southampton   yes  False            0  \n",
      "4      man        True  NaN  Southampton    no   True            1  \n",
      "5      man        True  NaN   Queenstown    no   True            2  \n",
      "6      man        True    E  Southampton    no   True            0  \n",
      "7    child       False  NaN  Southampton    no  False            1  \n",
      "8    woman       False  NaN  Southampton   yes  False            1  \n",
      "9    child       False  NaN    Cherbourg   yes  False            1  \n",
      "10   child       False    G  Southampton   yes  False            0  \n",
      "11   woman       False    C  Southampton   yes   True            0  \n",
      "12     man        True  NaN  Southampton    no   True            1  \n",
      "13     man        True  NaN  Southampton    no  False            1  \n",
      "14   child       False  NaN  Southampton    no   True            1  \n",
      "15   woman       False  NaN  Southampton   yes   True            1  \n",
      "16   child       False  NaN   Queenstown    no  False            1  \n",
      "17     man        True  NaN  Southampton   yes   True            2  \n",
      "18   woman       False  NaN  Southampton    no  False            1  \n",
      "19   woman       False  NaN    Cherbourg   yes   True            2  \n",
      "20     man        True  NaN  Southampton    no   True            1  \n",
      "21     man        True    D  Southampton   yes   True            0  \n",
      "22   child       False  NaN   Queenstown   yes   True            1  \n",
      "23     man        True    A  Southampton   yes   True            0  \n",
      "24   child       False  NaN  Southampton    no  False            1  \n",
      "25   woman       False  NaN  Southampton   yes  False            1  \n",
      "26     man        True  NaN    Cherbourg    no   True            2  \n",
      "27     man        True    C  Southampton    no  False            0  \n",
      "28   woman       False  NaN   Queenstown   yes   True            2  \n",
      "29     man        True  NaN  Southampton    no   True            2  \n",
      "..     ...         ...  ...          ...   ...    ...          ...  \n",
      "861    man        True  NaN  Southampton    no  False            1  \n",
      "862  woman       False    D  Southampton   yes   True            0  \n",
      "863  woman       False  NaN  Southampton    no  False            2  \n",
      "864    man        True  NaN  Southampton    no   True            1  \n",
      "865  woman       False  NaN  Southampton   yes   True            1  \n",
      "866  woman       False  NaN    Cherbourg   yes  False            1  \n",
      "867    man        True    A  Southampton    no   True            0  \n",
      "868    man        True  NaN  Southampton    no   True            2  \n",
      "869  child       False  NaN  Southampton   yes  False            1  \n",
      "870    man        True  NaN  Southampton    no   True            1  \n",
      "871  woman       False    D  Southampton   yes  False            0  \n",
      "872    man        True    B  Southampton    no   True            0  \n",
      "873    man        True  NaN  Southampton    no   True            1  \n",
      "874  woman       False  NaN    Cherbourg   yes  False            1  \n",
      "875  child       False  NaN    Cherbourg   yes   True            1  \n",
      "876    man        True  NaN  Southampton    no   True            1  \n",
      "877    man        True  NaN  Southampton    no   True            1  \n",
      "878    man        True  NaN  Southampton    no   True            2  \n",
      "879  woman       False    C    Cherbourg   yes  False            0  \n",
      "880  woman       False  NaN  Southampton   yes  False            1  \n",
      "881    man        True  NaN  Southampton    no   True            1  \n",
      "882  woman       False  NaN  Southampton    no   True            1  \n",
      "883    man        True  NaN  Southampton    no   True            1  \n",
      "884    man        True  NaN  Southampton    no   True            1  \n",
      "885  woman       False  NaN   Queenstown    no  False            1  \n",
      "886    man        True  NaN  Southampton    no   True            1  \n",
      "887  woman       False    B  Southampton   yes   True            0  \n",
      "888  woman       False  NaN  Southampton    no  False            2  \n",
      "889    man        True    C    Cherbourg   yes   True            0  \n",
      "890    man        True  NaN   Queenstown    no   True            1  \n",
      "\n",
      "[891 rows x 16 columns]\n"
     ]
    }
   ],
   "source": [
    "titanic['num_missing'] = titanic.apply(count_missing, axis=1)\n",
    "    # num_missing: 누락값이 n개 있으면 n, 없으면 0\n",
    "print(titanic)"
   ]
  },
  {
   "cell_type": "code",
   "execution_count": null,
   "metadata": {},
   "outputs": [],
   "source": [
    "# 누락값이 있는 데이터를 데이터프레임에 추가했기 때문에 누락값이 있는 데이터만 따로 모아 볼 수 있다.\n",
    "# 누락값이 2개 이상인 데이터 추출하기\n",
    "print(titanic.loc[titanic.num_missing > 1, :].)"
   ]
  },
  {
   "cell_type": "code",
   "execution_count": null,
   "metadata": {},
   "outputs": [],
   "source": []
  }
 ],
 "metadata": {
  "kernelspec": {
   "display_name": "Python 3",
   "language": "python",
   "name": "python3"
  },
  "language_info": {
   "codemirror_mode": {
    "name": "ipython",
    "version": 3
   },
   "file_extension": ".py",
   "mimetype": "text/x-python",
   "name": "python",
   "nbconvert_exporter": "python",
   "pygments_lexer": "ipython3",
   "version": "3.7.3"
  }
 },
 "nbformat": 4,
 "nbformat_minor": 1
}
