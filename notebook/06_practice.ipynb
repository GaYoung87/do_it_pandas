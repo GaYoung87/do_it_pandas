{
 "cells": [
  {
   "cell_type": "markdown",
   "metadata": {},
   "source": [
    "# 누락값 확인하기"
   ]
  },
  {
   "cell_type": "code",
   "execution_count": null,
   "metadata": {},
   "outputs": [],
   "source": [
    "from numpy import NaN, NAN, nan\n",
    "# 누락값을 사용하기위해 불러옴\n",
    "\n",
    "# 누락값: 데이터 자체가 없다는 것!\n",
    "# 누락값은 '0', ''과 다른 개념\n",
    "print(NaN == True)  # False\n",
    "print(NAN == False)  # False\n",
    "print(NaN == 0)  # False\n",
    "print(NaN == '')  # False\n",
    "\n",
    "# 자기 자신과 비교해도 False!!\n",
    "print(NaN == NaN)  # False\n",
    "print(NaN == nan)  # False\n",
    "print(NaN == NAN)  # False\n",
    "print(nan == NAN)  # False"
   ]
  },
  {
   "cell_type": "code",
   "execution_count": null,
   "metadata": {},
   "outputs": [],
   "source": [
    "# 누락값 확인 방법\n",
    "import pandas as pd\n",
    "\n",
    "print(pd.isnull(NaN))  # True\n",
    "print(pd.isnull(nan))  # True\n",
    "print(pd.isnull(NAN))  # True\n",
    "\n",
    "# 누락값이 아닌 경우 확인 방법\n",
    "print(pd.notnull(NaN))  # False\n",
    "print(pd.notnull(42))  # True\n",
    "print(pd.notnull('missing'))  # True"
   ]
  },
  {
   "cell_type": "markdown",
   "metadata": {},
   "source": [
    "# 데이터 집합을 연결할 때 누락값이 발생하는 경우"
   ]
  },
  {
   "cell_type": "code",
   "execution_count": null,
   "metadata": {},
   "outputs": [],
   "source": [
    "visited = pd.read_csv('../data/survey_visited.csv')\n",
    "survey = pd.read_csv('../data/survey_survey.csv')\n",
    "\n",
    "print(visited)\n",
    "#    ident   site       dated\n",
    "# 0    619   DR-1  1927-02-08\n",
    "# 1    622   DR-1  1927-02-10\n",
    "# 2    734   DR-3  1939-01-07\n",
    "# 3    735   DR-3  1930-01-12\n",
    "# 4    751   DR-3  1930-02-26\n",
    "# 5    752   DR-3         NaN\n",
    "# 6    837  MSK-4  1932-01-14\n",
    "# 7    844   DR-1  1932-03-22\n",
    "\n",
    "print(survey)\n",
    "#     taken person quant  reading\n",
    "# 0     619   dyer   rad     9.82\n",
    "# 1     619   dyer   sal     0.13\n",
    "# 2     622   dyer   rad     7.80\n",
    "# 3     622   dyer   sal     0.09\n",
    "# 4     734     pb   rad     8.41\n",
    "# 5     734   lake   sal     0.05\n",
    "# 6     734     pb  temp   -21.50\n",
    "# 7     735     pb   rad     7.22\n",
    "# 8     735    NaN   sal     0.06\n",
    "# 9     735    NaN  temp   -26.00\n",
    "# 10    751     pb   rad     4.35\n",
    "# 11    751     pb  temp   -18.50\n",
    "# 12    751   lake   sal     0.10\n",
    "# 13    752   lake   rad     2.19\n",
    "# 14    752   lake   sal     0.09\n",
    "# 15    752   lake  temp   -16.00\n",
    "# 16    752    roe   sal    41.60\n",
    "# 17    837   lake   rad     1.46\n",
    "# 18    837   lake   sal     0.21\n",
    "# 19    837    roe   sal    22.50\n",
    "# 20    844    roe   rad    11.25"
   ]
  },
  {
   "cell_type": "code",
   "execution_count": null,
   "metadata": {},
   "outputs": [],
   "source": [
    "vs = visited.merge(survey, left_on='ident', right_on='taken')\n",
    "print(vs)\n",
    "\n",
    "#     ident   site       dated  taken person quant  reading\n",
    "# 0     619   DR-1  1927-02-08    619   dyer   rad     9.82\n",
    "# ...\n",
    "# 12    751   DR-3  1930-02-26    751   lake   sal     0.10\n",
    "# 13    752   DR-3         NaN    752   lake   rad     2.19\n",
    "# 14    752   DR-3         NaN    752   lake   sal     0.09\n",
    "# 15    752   DR-3         NaN    752   lake  temp   -16.00\n",
    "# 16    752   DR-3         NaN    752    roe   sal    41.60\n",
    "# 17    837  MSK-4  1932-01-14    837   lake   rad     1.46\n",
    "# 18    837  MSK-4  1932-01-14    837   lake   sal     0.21\n",
    "\n",
    "# 원래 각자일때는 1개, 2개였지만, 합해지니까 더 많아짐. \n",
    "# why? ident와 taken이 동일해야하는데, \n",
    "#      752(ident)와 동일한 taken을 가지고있는 것이 합쳤을때 4개 이므로 \n",
    "#      총 4개가 됨"
   ]
  },
  {
   "cell_type": "markdown",
   "metadata": {},
   "source": [
    "# 데이터를 입력할 때 누락값이 발생하는 경우"
   ]
  },
  {
   "cell_type": "code",
   "execution_count": null,
   "metadata": {},
   "outputs": [],
   "source": [
    "num_legs = pd.Series({'goat':4, 'amoeba':nan})\n",
    "print(num_legs)\n",
    "print(type(num_legs))\n",
    "\n",
    "# goat      4.0\n",
    "# amoeba    NaN\n",
    "# dtype: float64\n",
    "# <class 'pandas.core.series.Series'>"
   ]
  },
  {
   "cell_type": "code",
   "execution_count": null,
   "metadata": {},
   "outputs": [],
   "source": [
    "scientists = pd.DataFrame({\n",
    "    'Name': ['Rosa', 'William'],\n",
    "    'Occupation': ['Chemist', 'Statistician'],\n",
    "    'missing': [NaN, nan]\n",
    "})\n",
    "\n",
    "print(scientists)\n",
    "print(type(scientists))\n",
    "\n",
    "#       Name    Occupation  missing\n",
    "# 0     Rosa       Chemist      NaN\n",
    "# 1  William  Statistician      NaN\n",
    "# <class 'pandas.core.frame.DataFrame'>"
   ]
  },
  {
   "cell_type": "markdown",
   "metadata": {},
   "source": [
    "# 범위를 지정해 데이터를 추출할 때 생기는 경우"
   ]
  },
  {
   "cell_type": "code",
   "execution_count": null,
   "metadata": {},
   "outputs": [],
   "source": [
    "gapminder = pd.read_csv('../data/gapminder.tsv', sep='\\t')\n",
    "\n",
    "# gapminder 데이터프레임을 연도별로 그룹화한 다음 lifeExp 열의 평균을 구함\n",
    "life_exp = gapminder.groupby(['year'])['lifeExp'].mean()\n",
    "print(life_exp)\n",
    "# year\n",
    "# 1952    49.057620\n",
    "...\n",
    "# 1997    65.014676\n",
    "# 2002    65.694923\n",
    "# 2007    67.007423\n",
    "# Name: lifeExp, dtype: float64\n",
    "\n",
    "\n",
    "# range를 이용해 life_Exp 열에서 200~2009년의 데이터 추출\n",
    "print(life_exp.loc[range(2000, 2009), ])\n",
    "# year\n",
    "# 2000          NaN\n",
    "# 2001          NaN\n",
    "# 2002    65.694923\n",
    "# 2003          NaN\n",
    "# 2004          NaN\n",
    "# 2005          NaN\n",
    "# 2006          NaN\n",
    "# 2007    67.007423\n",
    "# 2008          NaN\n",
    "# Name: lifeExp, dtype: float64"
   ]
  },
  {
   "cell_type": "code",
   "execution_count": null,
   "metadata": {},
   "outputs": [],
   "source": [
    "# 위의 문제를 불린 추출을 이요해 데이터 추출하기\n",
    "y2000 = life_exp[life_exp.index > 2000]\n",
    "print(y2000)\n",
    "\n",
    "# year\n",
    "# 2002    65.694923\n",
    "# 2007    67.007423\n",
    "# Name: lifeExp, dtype: float64\n",
    "\n",
    "# life_exp데이터에서 인덱스가 2000이상인 것만 뽑아오면 누락값 없이 가지고올 수 있음"
   ]
  },
  {
   "cell_type": "markdown",
   "metadata": {},
   "source": [
    "# 누락값의 개수 구하기"
   ]
  },
  {
   "cell_type": "code",
   "execution_count": null,
   "metadata": {},
   "outputs": [],
   "source": [
    "ebola = pd.read_csv('../data/country_timeseries.csv')"
   ]
  },
  {
   "cell_type": "code",
   "execution_count": null,
   "metadata": {},
   "outputs": [],
   "source": [
    "print(ebola.count())  # 누락 값이 아닌 값의 갯수구하기\n",
    "\n",
    "# Date                   122\n",
    "# Day                    122\n",
    "# Cases_Guinea            93"
   ]
  },
  {
   "cell_type": "code",
   "execution_count": null,
   "metadata": {},
   "outputs": [],
   "source": [
    "# 누락값 갯수 구하는 방법 1\n",
    "num_rows = ebola.shape[0]  # shape(행, 열) -> 행과 열의 갯수\n",
    "num_missing = num_rows - ebola.count()  \n",
    "# 누락값의 갯수 = 전체 행의 데이터갯수 - 누락값이 아닌 데이터 갯수\n",
    "print(num_missing)"
   ]
  },
  {
   "cell_type": "code",
   "execution_count": null,
   "metadata": {},
   "outputs": [],
   "source": [
    "# 누락값 갯수 구하는 방법 2\n",
    "import numpy as np\n",
    "\n",
    "print(np.count_nonzero(ebola.isnull()))  # 총 누락값: 1214\n",
    "print(np.count_nonzero(ebola['Cases_Guinea'].isnull()))  # 누락값: 29\n",
    "# count_nonzero: 배열에서 0이 아닌 값의 갯수를 세는 메서드"
   ]
  },
  {
   "cell_type": "code",
   "execution_count": null,
   "metadata": {},
   "outputs": [],
   "source": [
    "# 열의 누락값 갯수 구하는 방법\n",
    "print(ebola.Cases_Guinea.value_counts(dropna=False).head())"
   ]
  },
  {
   "cell_type": "markdown",
   "metadata": {},
   "source": [
    "# 누락값을 다른 값으로 변경하기"
   ]
  },
  {
   "cell_type": "code",
   "execution_count": null,
   "metadata": {},
   "outputs": [],
   "source": [
    "# NaN값을 0으로 대체\n",
    "print(ebola.fillna(0).iloc[0:8, 0:5])\n",
    "\n",
    "#          Date  Day  Cases_Guinea  Cases_Liberia  Cases_SierraLeone\n",
    "# 0    1/5/2015  289        2776.0            0.0            10030.0\n",
    "# 1    1/4/2015  288        2775.0            0.0             9780.0\n",
    "# 2    1/3/2015  287        2769.0         8166.0             9722.0\n",
    "# 3    1/2/2015  286           0.0         8157.0                0.0\n",
    "# 4  12/31/2014  284        2730.0         8115.0             9633.0\n",
    "# 5  12/28/2014  281        2706.0         8018.0             9446.0\n",
    "# 6  12/27/2014  280        2695.0            0.0             9409.0\n",
    "# 7  12/24/2014  277        2630.0         7977.0             9203.0"
   ]
  },
  {
   "cell_type": "code",
   "execution_count": null,
   "metadata": {},
   "outputs": [],
   "source": [
    "# NaN값을 바로 위 값에서 가지고 와 누락값 처리 -> ffill\n",
    "print(ebola.fillna(method='ffill').iloc[0:8, 0:5])\n",
    "\n",
    "#          Date  Day  Cases_Guinea  Cases_Liberia  Cases_SierraLeone\n",
    "# 0    1/5/2015  289        2776.0            NaN            10030.0\n",
    "# 1    1/4/2015  288        2775.0            NaN             9780.0\n",
    "# 2    1/3/2015  287        2769.0         8166.0             9722.0\n",
    "# 3    1/2/2015  286        2769.0         8157.0             9722.0\n",
    "# 4  12/31/2014  284        2730.0         8115.0             9633.0\n",
    "# 5  12/28/2014  281        2706.0         8018.0             9446.0\n",
    "# 6  12/27/2014  280        2695.0         8018.0             9409.0\n",
    "# 7  12/24/2014  277        2630.0         7977.0             9203.0"
   ]
  },
  {
   "cell_type": "code",
   "execution_count": null,
   "metadata": {},
   "outputs": [],
   "source": [
    "# NaN값을 바로 아래 값에서 가지고 와 누락값 처리 -> bfill\n",
    "print(ebola.fillna(method='bfill').iloc[0:8, 0:5])\n",
    "\n",
    "#          Date  Day  Cases_Guinea  Cases_Liberia  Cases_SierraLeone\n",
    "# 0    1/5/2015  289        2776.0         8166.0            10030.0\n",
    "# 1    1/4/2015  288        2775.0         8166.0             9780.0\n",
    "# 2    1/3/2015  287        2769.0         8166.0             9722.0\n",
    "# 3    1/2/2015  286        2730.0         8157.0             9633.0\n",
    "# 4  12/31/2014  284        2730.0         8115.0             9633.0\n",
    "# 5  12/28/2014  281        2706.0         8018.0             9446.0\n",
    "# 6  12/27/2014  280        2695.0         7977.0             9409.0\n",
    "# 7  12/24/2014  277        2630.0         7977.0             9203.0"
   ]
  },
  {
   "cell_type": "code",
   "execution_count": null,
   "metadata": {},
   "outputs": [],
   "source": [
    "# NaN값을 바로 아래와 바로 위 값에서 가지고 와 중간값으로 누락값 처리 -> interpolate\n",
    "print(ebola.interpolate().iloc[0:8, 0:5])\n",
    "\n",
    "#          Date  Day  Cases_Guinea  Cases_Liberia  Cases_SierraLeone\n",
    "# 0    1/5/2015  289        2776.0            NaN            10030.0\n",
    "# 1    1/4/2015  288        2775.0            NaN             9780.0\n",
    "# 2    1/3/2015  287        2769.0         8166.0             9722.0\n",
    "# 3    1/2/2015  286        2749.5         8157.0             9677.5\n",
    "# 4  12/31/2014  284        2730.0         8115.0             9633.0\n",
    "# 5  12/28/2014  281        2706.0         8018.0             9446.0\n",
    "# 6  12/27/2014  280        2695.0         7997.5             9409.0\n",
    "# 7  12/24/2014  277        2630.0         7977.0             9203.0"
   ]
  },
  {
   "cell_type": "markdown",
   "metadata": {},
   "source": [
    "# 누락값 삭제하기"
   ]
  },
  {
   "cell_type": "code",
   "execution_count": null,
   "metadata": {},
   "outputs": [],
   "source": [
    "print(ebola.shape)"
   ]
  },
  {
   "cell_type": "code",
   "execution_count": null,
   "metadata": {},
   "outputs": [],
   "source": [
    "ebola_dropna = ebola.dropna()\n",
    "print(ebola_dropna)  # 데이터가 많이 삭제됨"
   ]
  },
  {
   "cell_type": "markdown",
   "metadata": {},
   "source": [
    "# 누락값이 포함된 데이터 계산하기"
   ]
  },
  {
   "cell_type": "code",
   "execution_count": null,
   "metadata": {},
   "outputs": [],
   "source": [
    "ebola['Cases_multiple'] = ebola['Cases_Guinea'] + ebola['Cases_Liberia']\n",
    "+ ebola['Cases_SierraLeone']\n",
    "print(ebola['Case_multiple'])"
   ]
  },
  {
   "cell_type": "code",
   "execution_count": null,
   "metadata": {},
   "outputs": [],
   "source": [
    "ebola_subset = ebola.loc[:, ['Cases_Guinea', 'Cases_Liberia', 'Cases_SierraLeone', 'Cases_multiple']]\n",
    "print(ebola_subset.head())"
   ]
  },
  {
   "cell_type": "code",
   "execution_count": null,
   "metadata": {},
   "outputs": [],
   "source": [
    "# sum : 누락값을 포함해 합을 구함 -> 결과값도 누락!\n",
    "# 이때, skipna 사용하면 누락값 무시하고 계산\n",
    "print(ebola.Cases_Guinea.sum(skipna = True))  # 84729.0\n",
    "print(ebola.Cases_Guinea.sum(skipna = False))  # NaN"
   ]
  }
 ],
 "metadata": {
  "kernelspec": {
   "display_name": "Python 3",
   "language": "python",
   "name": "python3"
  },
  "language_info": {
   "codemirror_mode": {
    "name": "ipython",
    "version": 3
   },
   "file_extension": ".py",
   "mimetype": "text/x-python",
   "name": "python",
   "nbconvert_exporter": "python",
   "pygments_lexer": "ipython3",
   "version": "3.7.3"
  }
 },
 "nbformat": 4,
 "nbformat_minor": 2
}
